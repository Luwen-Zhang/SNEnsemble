{
 "cells": [
  {
   "cell_type": "code",
   "execution_count": 1,
   "outputs": [
    {
     "name": "stdout",
     "output_type": "stream",
     "text": [
      "/home/xlluo/hdd/ML-fracture\n"
     ]
    }
   ],
   "source": [
    "%load_ext autoreload\n",
    "%autoreload 2\n",
    "\n",
    "from src import __root__\n",
    "%cd $__root__"
   ],
   "metadata": {
    "collapsed": false,
    "pycharm": {
     "name": "#%%\n"
    }
   }
  },
  {
   "cell_type": "code",
   "execution_count": null,
   "outputs": [],
   "source": [
    "# %cd .."
   ],
   "metadata": {
    "collapsed": false,
    "pycharm": {
     "name": "#%%\n"
    }
   }
  },
  {
   "cell_type": "markdown",
   "source": [
    "# Random Split"
   ],
   "metadata": {
    "collapsed": false,
    "pycharm": {
     "name": "#%% md\n"
    }
   }
  },
  {
   "cell_type": "code",
   "execution_count": 2,
   "outputs": [
    {
     "name": "stdout",
     "output_type": "stream",
     "text": [
      "Using cpu device\n",
      "{\n",
      "\t'project': 'SNL_MSU_DOE_fatigue',\n",
      "\t'loss': 'mse',\n",
      "\t'bayes_opt': False,\n",
      "\t'bayes_epoch': 3,\n",
      "\t'patience': 50,\n",
      "\t'epoch': 200,\n",
      "\t'lr': 0.003,\n",
      "\t'weight_decay': 0.002,\n",
      "\t'batch_size': 1024,\n",
      "\t'static_params': {\n",
      "\t\t'patience': 50,\n",
      "\t\t'epoch': 200\n",
      "\t},\n",
      "\t'chosen_params': {\n",
      "\t\t'lr': 0.003,\n",
      "\t\t'weight_decay': 0.002,\n",
      "\t\t'batch_size': 1024\n",
      "\t},\n",
      "\t'layers': [\n",
      "\t\t16,\n",
      "\t\t64,\n",
      "\t\t128,\n",
      "\t\t128,\n",
      "\t\t64,\n",
      "\t\t16\n",
      "\t],\n",
      "\t'n_calls': 100,\n",
      "\t'SPACEs': {\n",
      "\t\t'lr': {\n",
      "\t\t\t'type': 'Real',\n",
      "\t\t\t'low': 0.001,\n",
      "\t\t\t'high': 0.05,\n",
      "\t\t\t'prior': 'log-uniform'\n",
      "\t\t},\n",
      "\t\t'weight_decay': {\n",
      "\t\t\t'type': 'Real',\n",
      "\t\t\t'low': 1e-05,\n",
      "\t\t\t'high': 0.05,\n",
      "\t\t\t'prior': 'log-uniform'\n",
      "\t\t},\n",
      "\t\t'batch_size': {\n",
      "\t\t\t'type': 'Categorical',\n",
      "\t\t\t'categories': [\n",
      "\t\t\t\t32,\n",
      "\t\t\t\t64,\n",
      "\t\t\t\t128,\n",
      "\t\t\t\t256,\n",
      "\t\t\t\t512,\n",
      "\t\t\t\t1024,\n",
      "\t\t\t\t2048,\n",
      "\t\t\t\t4096\n",
      "\t\t\t]\n",
      "\t\t}\n",
      "\t},\n",
      "\t'data_splitter': 'RandomSplitter',\n",
      "\t'data_processors': [\n",
      "\t\t'IQRRemover',\n",
      "\t\t'MeanImputer',\n",
      "\t\t'SingleValueFeatureRemover',\n",
      "\t\t'UnscaledDataRecorder',\n",
      "\t\t'StandardScaler'\n",
      "\t],\n",
      "\t'data_derivers': {\n",
      "\t\t'MinStressDeriver': {\n",
      "\t\t\t'derived_name': 'Minimum Stress',\n",
      "\t\t\t'stacked': True,\n",
      "\t\t\t'intermediate': True,\n",
      "\t\t\t'max_stress_col': 'Maximum Stress',\n",
      "\t\t\t'r_value_col': 'Minimum/Maximum Stress'\n",
      "\t\t},\n",
      "\t\t'SuppStressDeriver': {\n",
      "\t\t\t'derived_name': 'Support Stress',\n",
      "\t\t\t'stacked': True,\n",
      "\t\t\t'max_stress_col': 'Maximum Stress',\n",
      "\t\t\t'min_stress_col': 'Minimum Stress',\n",
      "\t\t\t'ucs_col': 'Static Maximum Compressive Stress',\n",
      "\t\t\t'uts_col': 'Static Maximum Tensile Stress',\n",
      "\t\t\t'relative': True\n",
      "\t\t},\n",
      "\t\t'DegLayerDeriver': {\n",
      "\t\t\t'sequence_column': 'Sequence',\n",
      "\t\t\t'derived_name': 'deg_layers',\n",
      "\t\t\t'col_names': [\n",
      "\t\t\t\t'0-deg layers',\n",
      "\t\t\t\t'45-deg layers',\n",
      "\t\t\t\t'90-deg layers',\n",
      "\t\t\t\t'Other-deg layers'\n",
      "\t\t\t],\n",
      "\t\t\t'stacked': True\n",
      "\t\t}\n",
      "\t},\n",
      "\t'feature_names_type': {\n",
      "\t\t'Percentage of Fibre in 0-deg Direction': 1,\n",
      "\t\t'Percentage of Fibre in 45-deg Direction': 1,\n",
      "\t\t'Percentage of Fibre in 90-deg Direction': 1,\n",
      "\t\t'Percentage of Fibre in Other Direction': 1,\n",
      "\t\t'Frequency': 0,\n",
      "\t\t'Fibre Volumn Fraction': 1,\n",
      "\t\t'Thickness': 1,\n",
      "\t\t'Static Maximum Tensile Stress': 1,\n",
      "\t\t'Static Maximum Tensile Strain': 1,\n",
      "\t\t'Static Elastic Modulus': 1\n",
      "\t},\n",
      "\t'feature_types': [\n",
      "\t\t'Fatigue loading',\n",
      "\t\t'Material',\n",
      "\t\t'Derived'\n",
      "\t],\n",
      "\t'label_name': [\n",
      "\t\t'log(Cycles to Failure)'\n",
      "\t]\n",
      "}\n",
      "Removing outliers by IQR. Original size: 4931, Final size: 2168.\n",
      "1 features removed: ['90-deg layers']. 19 features retained: ['Percentage of Fibre in 0-deg Direction', 'Percentage of Fibre in 45-deg Direction', 'Percentage of Fibre in 90-deg Direction', 'Percentage of Fibre in Other Direction', 'Frequency', 'Fibre Volumn Fraction', 'Thickness', 'Static Maximum Tensile Stress', 'Static Maximum Tensile Strain', 'Static Elastic Modulus', 'Absolute Maximum Stress', 'Absolute Peak-to-peak Stress', 'Absolute Mean Stress', 'Relative Maximum Stress', 'Relative Peak-to-peak Stress', 'Relative Mean Stress', '0-deg layers', '45-deg layers', 'Other-deg layers'].\n",
      "Dataset size: 1294 439 435\n",
      "\n",
      "-------------Run MLP-------------\n",
      "\n",
      "Epoch: 1/200, Train loss: 27.7209, Val loss: 8.4258, Min val loss: 8.4258\n",
      "Epoch: 100/200, Train loss: 0.1535, Val loss: 0.2486, Min val loss: 0.2486\n",
      "Epoch: 200/200, Train loss: 0.0889, Val loss: 0.2023, Min val loss: 0.2023\n",
      "Minimum loss: 0.20227\n",
      "Test MSE loss: 0.25625, RMSE loss: 0.50621\n",
      "Trainer saved. To load the trainer, run trainer = load_trainer(path='output/SNL_MSU_DOE_fatigue/2022-12-22-21-57-40_base_SNL_MSU_DOE_fatigue/trainer.pkl')\n",
      "\n",
      "-------------MLP End-------------\n",
      "\n",
      "\n",
      "-------------Run ThisWork-------------\n",
      "\n",
      "Activated SN models: ['TrivialSN', 'linlogSN', 'loglogSN']\n",
      "Epoch: 1/200, Train loss: 22.2210, Val loss: 21.7055, Min val loss: 21.7055\n",
      "Epoch: 100/200, Train loss: 0.3792, Val loss: 0.3789, Min val loss: 0.3789\n",
      "Epoch: 200/200, Train loss: 0.2838, Val loss: 0.3102, Min val loss: 0.2808\n",
      "Minimum loss: 0.28082\n",
      "Test MSE loss: 0.32982, RMSE loss: 0.57430\n",
      "Trainer saved. To load the trainer, run trainer = load_trainer(path='output/SNL_MSU_DOE_fatigue/2022-12-22-21-57-40_base_SNL_MSU_DOE_fatigue/trainer.pkl')\n",
      "\n",
      "-------------ThisWork End-------------\n",
      "\n",
      "\n",
      "-------------Run ThisWorklinlog-------------\n",
      "\n",
      "Activated SN models: ['linlogSN']\n",
      "Epoch: 1/200, Train loss: 22.2294, Val loss: 21.8834, Min val loss: 21.8834\n",
      "Epoch: 100/200, Train loss: 0.8899, Val loss: 0.8573, Min val loss: 0.8573\n",
      "Epoch: 200/200, Train loss: 0.6332, Val loss: 0.7611, Min val loss: 0.7427\n",
      "Minimum loss: 0.74273\n",
      "Test MSE loss: 0.94564, RMSE loss: 0.97244\n",
      "Trainer saved. To load the trainer, run trainer = load_trainer(path='output/SNL_MSU_DOE_fatigue/2022-12-22-21-57-40_base_SNL_MSU_DOE_fatigue/trainer.pkl')\n",
      "\n",
      "-------------ThisWorklinlog End-------------\n",
      "\n",
      "\n",
      "-------------Run ThisWorkloglog-------------\n",
      "\n",
      "Activated SN models: ['loglogSN']\n",
      "Epoch: 1/200, Train loss: 22.2293, Val loss: 21.8875, Min val loss: 21.8875\n",
      "Epoch: 100/200, Train loss: 0.5290, Val loss: 0.4999, Min val loss: 0.4999\n",
      "Epoch: 200/200, Train loss: 0.3605, Val loss: 0.3770, Min val loss: 0.3754\n",
      "Minimum loss: 0.37540\n",
      "Test MSE loss: 0.40832, RMSE loss: 0.63900\n",
      "Trainer saved. To load the trainer, run trainer = load_trainer(path='output/SNL_MSU_DOE_fatigue/2022-12-22-21-57-40_base_SNL_MSU_DOE_fatigue/trainer.pkl')\n",
      "\n",
      "-------------ThisWorkloglog End-------------\n",
      "\n"
     ]
    }
   ],
   "source": [
    "from src.core.model import *\n",
    "\n",
    "device = \"cuda\" if torch.cuda.is_available() else \"cpu\"\n",
    "print(\"Using {} device\".format(device))\n",
    "\n",
    "configfile = \"base_SNL_MSU_DOE_fatigue\"\n",
    "trainer = Trainer(device=device)\n",
    "trainer.load_config(configfile)\n",
    "trainer.load_data()\n",
    "trainer.train(verbose=True)\n",
    "\n",
    "models = [\n",
    "    MLP(trainer),\n",
    "    ThisWork(trainer),\n",
    "    ThisWork(trainer, manual_activate=[\"linlogSN\"], program=\"ThisWorklinlog\"),\n",
    "    ThisWork(trainer, manual_activate=[\"loglogSN\"], program=\"ThisWorkloglog\"),\n",
    "]\n",
    "\n",
    "trainer.add_modelbases(models)\n",
    "# trainer.bayes_opt=True\n",
    "trainer.train(verbose=True)"
   ],
   "metadata": {
    "collapsed": false,
    "pycharm": {
     "name": "#%%\n"
    }
   }
  },
  {
   "cell_type": "markdown",
   "source": [
    "### S-N curve"
   ],
   "metadata": {
    "collapsed": false,
    "pycharm": {
     "name": "#%% md\n"
    }
   }
  },
  {
   "cell_type": "code",
   "execution_count": 4,
   "outputs": [
    {
     "name": "stdout",
     "output_type": "stream",
     "text": [
      "ThisWork CI\n",
      "Training 27/27\n",
      "Validation 10/10\n",
      "Testing 4/4\n",
      "Lin-log CI\n",
      "Training 26/27\n",
      "Validation 10/10\n",
      "Testing 4/4\n",
      "Log-log CI\n",
      "Training 27/27\n",
      "Validation 10/10\n",
      "Testing 4/4\n"
     ]
    },
    {
     "data": {
      "text/plain": "<Figure size 640x480 with 1 Axes>",
      "image/png": "[encoded data removed]"
     },
     "metadata": {},
     "output_type": "display_data"
    }
   ],
   "source": [
    "trainer.plot_S_N(m_code='Triax-AA-UP2[(±45/0)3/(0/±45)2]', s_col='Maximum Stress', n_col='log(Cycles to Failure)', r_col='Minimum/Maximum Stress', n_bootstrap=2, r_value=0.1, load_dir='tension', verbose=False, program=\"ThisWorkloglog\")"
   ],
   "metadata": {
    "collapsed": false,
    "pycharm": {
     "name": "#%%\n"
    }
   }
  },
  {
   "cell_type": "code",
   "execution_count": null,
   "outputs": [],
   "source": [
    "trainer.plot_multiple_S_N(m_codes=['Triax-AA-UP2[(±45/0)3/(0/±45)2]','MD-DD5P-UP2[0/±45/0]S','MD-ELT5500-VE3[±45/0/±45/0/±45]','DB-BIAX-DH3-EP1(±45)6','DB-BIAX-DH3-EP1(+/-45)3S','UNI-D155-EP3[0]','UNI-D155B-UP2[0]5','Biax-CH6-UP2[±45/0/±45]S'], s_col='Maximum Stress', n_col='log(Cycles to Failure)', r_col='Minimum/Maximum Stress', n_bootstrap=10, r_value=0.1, load_dir='tension', verbose=False)\n",
    "trainer.plot_multiple_S_N(m_codes=['Triax-AA-UP2[(±45/0)3/(0/±45)2]','MD-DD5P-UP2[0/±45/0]S','MD-ELT5500-VE3[±45/0/±45/0/±45]','DB-BIAX-DH3-EP1(±45)6','DB-BIAX-DH3-EP1(+/-45)3S','UNI-D155-EP3[0]','UNI-D155B-UP2[0]5','Biax-CH6-UP2[±45/0/±45]S'], s_col='Maximum Stress', n_col='log(Cycles to Failure)', r_col='Minimum/Maximum Stress', n_bootstrap=10, r_value=0.1, load_dir='tension', verbose=False, program=\"ThisWorklinlog\", model_name=\"ThisWork\")\n",
    "trainer.plot_multiple_S_N(m_codes=['Triax-AA-UP2[(±45/0)3/(0/±45)2]','MD-DD5P-UP2[0/±45/0]S','MD-ELT5500-VE3[±45/0/±45/0/±45]','DB-BIAX-DH3-EP1(±45)6','DB-BIAX-DH3-EP1(+/-45)3S','UNI-D155-EP3[0]','UNI-D155B-UP2[0]5','Biax-CH6-UP2[±45/0/±45]S'], s_col='Maximum Stress', n_col='log(Cycles to Failure)', r_col='Minimum/Maximum Stress', n_bootstrap=10, r_value=0.1, load_dir='tension', verbose=False, program=\"ThisWorkloglog\", model_name=\"ThisWork\")\n",
    "trainer.plot_multiple_S_N(m_codes=['Triax-AA-UP2[(±45/0)3/(0/±45)2]','MD-DD5P-UP2[0/±45/0]S','MD-ELT5500-VE3[±45/0/±45/0/±45]','DB-BIAX-DH3-EP1(±45)6','DB-BIAX-DH3-EP1(+/-45)3S','UNI-D155-EP3[0]','UNI-D155B-UP2[0]5','Biax-CH6-UP2[±45/0/±45]S'], s_col='Maximum Stress', n_col='log(Cycles to Failure)', r_col='Minimum/Maximum Stress', n_bootstrap=10, r_value=0.1, load_dir='tension', verbose=False, program=\"MLP\", model_name=\"MLP\")"
   ],
   "metadata": {
    "collapsed": false,
    "pycharm": {
     "name": "#%%\n"
    }
   }
  },
  {
   "cell_type": "markdown",
   "source": [
    "# Cycle split"
   ],
   "metadata": {
    "collapsed": false,
    "pycharm": {
     "name": "#%% md\n"
    }
   }
  },
  {
   "cell_type": "code",
   "execution_count": null,
   "outputs": [],
   "source": [
    "from src.core.datasplitter import CycleSplitter\n",
    "from src.core.model import *\n",
    "\n",
    "device = \"cuda\" if torch.cuda.is_available() else \"cpu\"\n",
    "print(\"Using {} device\".format(device))\n",
    "\n",
    "configfile = \"base_SNL_MSU_DOE_fatigue\"\n",
    "trainer = Trainer(device=device)\n",
    "trainer.load_config(configfile)\n",
    "trainer.datasplitter = CycleSplitter()\n",
    "trainer.load_data()\n",
    "trainer.train(verbose=True)\n",
    "\n",
    "models = [\n",
    "    AutoGluon(trainer),\n",
    "    MLP(trainer),\n",
    "    ThisWork(trainer),\n",
    "    ThisWork(trainer, manual_activate=[\"linlogSN\"], program=\"ThisWorklinlog\"),\n",
    "    ThisWork(trainer, manual_activate=[\"loglogSN\"], program=\"ThisWorkloglog\"),\n",
    "]\n",
    "\n",
    "trainer.add_modelbases(models)\n",
    "# trainer.bayes_opt=True\n",
    "trainer.train(verbose=True)"
   ],
   "metadata": {
    "collapsed": false,
    "pycharm": {
     "name": "#%%\n"
    }
   }
  },
  {
   "cell_type": "code",
   "execution_count": null,
   "outputs": [],
   "source": [
    "trainer.plot_multiple_S_N(m_codes=['Triax-AA-UP2[(±45/0)3/(0/±45)2]','MD-DD5P-UP2[0/±45/0]S','MD-ELT5500-VE3[±45/0/±45/0/±45]','DB-BIAX-DH3-EP1(±45)6','DB-BIAX-DH3-EP1(+/-45)3S','UNI-D155-EP3[0]','UNI-D155B-UP2[0]5','Biax-CH6-UP2[±45/0/±45]S'], s_col='Maximum Stress', n_col='log(Cycles to Failure)', r_col='Minimum/Maximum Stress', n_bootstrap=10,  r_value=0.1, load_dir='tension', verbose=False)\n",
    "trainer.plot_multiple_S_N(m_codes=['Triax-AA-UP2[(±45/0)3/(0/±45)2]','MD-DD5P-UP2[0/±45/0]S','MD-ELT5500-VE3[±45/0/±45/0/±45]','DB-BIAX-DH3-EP1(±45)6','DB-BIAX-DH3-EP1(+/-45)3S','UNI-D155-EP3[0]','UNI-D155B-UP2[0]5','Biax-CH6-UP2[±45/0/±45]S'], s_col='Maximum Stress', n_col='log(Cycles to Failure)', r_col='Minimum/Maximum Stress', n_bootstrap=10, r_value=0.1, load_dir='tension', verbose=False, program=\"ThisWorklinlog\", model_name=\"ThisWork\")\n",
    "trainer.plot_multiple_S_N(m_codes=['Triax-AA-UP2[(±45/0)3/(0/±45)2]','MD-DD5P-UP2[0/±45/0]S','MD-ELT5500-VE3[±45/0/±45/0/±45]','DB-BIAX-DH3-EP1(±45)6','DB-BIAX-DH3-EP1(+/-45)3S','UNI-D155-EP3[0]','UNI-D155B-UP2[0]5','Biax-CH6-UP2[±45/0/±45]S'], s_col='Maximum Stress', n_col='log(Cycles to Failure)', r_col='Minimum/Maximum Stress', n_bootstrap=10, r_value=0.1, load_dir='tension', verbose=False, program=\"ThisWorkloglog\", model_name=\"ThisWork\")\n",
    "trainer.plot_multiple_S_N(m_codes=['Triax-AA-UP2[(±45/0)3/(0/±45)2]','MD-DD5P-UP2[0/±45/0]S','MD-ELT5500-VE3[±45/0/±45/0/±45]','DB-BIAX-DH3-EP1(±45)6','DB-BIAX-DH3-EP1(+/-45)3S','UNI-D155-EP3[0]','UNI-D155B-UP2[0]5','Biax-CH6-UP2[±45/0/±45]S'], s_col='Maximum Stress', n_col='log(Cycles to Failure)', r_col='Minimum/Maximum Stress', n_bootstrap=10, r_value=0.1, load_dir='tension', verbose=False, program=\"MLP\", model_name=\"MLP\")"
   ],
   "metadata": {
    "collapsed": false,
    "pycharm": {
     "name": "#%%\n"
    }
   }
  },
  {
   "cell_type": "code",
   "execution_count": null,
   "outputs": [],
   "source": [
    "trainer.plot_truth_pred(log_trans=True, upper_lim=9, program='MLP')\n",
    "trainer.plot_truth_pred(log_trans=True, upper_lim=9, program='ThisWork')\n",
    "trainer.plot_truth_pred(log_trans=True, upper_lim=9, program='ThisWorklinlog')\n",
    "trainer.plot_truth_pred(log_trans=True, upper_lim=9, program='ThisWorkloglog')\n",
    "with HiddenPltShow():\n",
    "    trainer.plot_truth_pred(log_trans=True, upper_lim=9, program='AutoGluon')"
   ],
   "metadata": {
    "collapsed": false,
    "pycharm": {
     "name": "#%%\n"
    }
   }
  },
  {
   "cell_type": "markdown",
   "source": [
    "# Material Cycle split"
   ],
   "metadata": {
    "collapsed": false,
    "pycharm": {
     "name": "#%% md\n"
    }
   }
  },
  {
   "cell_type": "code",
   "execution_count": null,
   "outputs": [],
   "source": [
    "from src.core.datasplitter import MaterialCycleSplitter\n",
    "from src.core.model import *\n",
    "\n",
    "device = \"cuda\" if torch.cuda.is_available() else \"cpu\"\n",
    "print(\"Using {} device\".format(device))\n",
    "\n",
    "configfile = \"base_SNL_MSU_DOE_fatigue\"\n",
    "trainer = Trainer(device=device)\n",
    "trainer.load_config(configfile)\n",
    "trainer.datasplitter = MaterialCycleSplitter()\n",
    "trainer.load_data()\n",
    "trainer.train(verbose=True)\n",
    "\n",
    "models = [\n",
    "    AutoGluon(trainer),\n",
    "    MLP(trainer),\n",
    "    ThisWork(trainer),\n",
    "    ThisWork(trainer, manual_activate=[\"linlogSN\"], program=\"ThisWorklinlog\"),\n",
    "    ThisWork(trainer, manual_activate=[\"loglogSN\"], program=\"ThisWorkloglog\"),\n",
    "]\n",
    "\n",
    "trainer.add_modelbases(models)\n",
    "# trainer.bayes_opt=True\n",
    "trainer.train(verbose=True)"
   ],
   "metadata": {
    "collapsed": false,
    "pycharm": {
     "name": "#%%\n"
    }
   }
  },
  {
   "cell_type": "code",
   "execution_count": null,
   "outputs": [],
   "source": [
    "trainer.plot_multiple_S_N(m_codes=['Triax-AA-UP2[(±45/0)3/(0/±45)2]','MD-DD5P-UP2[0/±45/0]S','MD-ELT5500-VE3[±45/0/±45/0/±45]','DB-BIAX-DH3-EP1(±45)6','DB-BIAX-DH3-EP1(+/-45)3S','UNI-D155-EP3[0]','UNI-D155B-UP2[0]5','Biax-CH6-UP2[±45/0/±45]S'], s_col='Maximum Stress', n_col='log(Cycles to Failure)', r_col='Minimum/Maximum Stress', n_bootstrap=10,  r_value=0.1, load_dir='tension', verbose=False)\n",
    "trainer.plot_multiple_S_N(m_codes=['Triax-AA-UP2[(±45/0)3/(0/±45)2]','MD-DD5P-UP2[0/±45/0]S','MD-ELT5500-VE3[±45/0/±45/0/±45]','DB-BIAX-DH3-EP1(±45)6','DB-BIAX-DH3-EP1(+/-45)3S','UNI-D155-EP3[0]','UNI-D155B-UP2[0]5','Biax-CH6-UP2[±45/0/±45]S'], s_col='Maximum Stress', n_col='log(Cycles to Failure)', r_col='Minimum/Maximum Stress', n_bootstrap=10, r_value=0.1, load_dir='tension', verbose=False, program=\"ThisWorklinlog\", model_name=\"ThisWork\")\n",
    "trainer.plot_multiple_S_N(m_codes=['Triax-AA-UP2[(±45/0)3/(0/±45)2]','MD-DD5P-UP2[0/±45/0]S','MD-ELT5500-VE3[±45/0/±45/0/±45]','DB-BIAX-DH3-EP1(±45)6','DB-BIAX-DH3-EP1(+/-45)3S','UNI-D155-EP3[0]','UNI-D155B-UP2[0]5','Biax-CH6-UP2[±45/0/±45]S'], s_col='Maximum Stress', n_col='log(Cycles to Failure)', r_col='Minimum/Maximum Stress', n_bootstrap=10, r_value=0.1, load_dir='tension', verbose=False, program=\"ThisWorkloglog\", model_name=\"ThisWork\")\n",
    "trainer.plot_multiple_S_N(m_codes=['Triax-AA-UP2[(±45/0)3/(0/±45)2]','MD-DD5P-UP2[0/±45/0]S','MD-ELT5500-VE3[±45/0/±45/0/±45]','DB-BIAX-DH3-EP1(±45)6','DB-BIAX-DH3-EP1(+/-45)3S','UNI-D155-EP3[0]','UNI-D155B-UP2[0]5','Biax-CH6-UP2[±45/0/±45]S'], s_col='Maximum Stress', n_col='log(Cycles to Failure)', r_col='Minimum/Maximum Stress', n_bootstrap=10, r_value=0.1, load_dir='tension', verbose=False, program=\"MLP\", model_name=\"MLP\")"
   ],
   "metadata": {
    "collapsed": false,
    "pycharm": {
     "name": "#%%\n"
    }
   }
  },
  {
   "cell_type": "code",
   "execution_count": null,
   "outputs": [],
   "source": [
    "trainer.plot_truth_pred(log_trans=True, upper_lim=9, program='MLP')\n",
    "trainer.plot_truth_pred(log_trans=True, upper_lim=9, program='ThisWork')\n",
    "trainer.plot_truth_pred(log_trans=True, upper_lim=9, program='ThisWorklinlog')\n",
    "trainer.plot_truth_pred(log_trans=True, upper_lim=9, program='ThisWorkloglog')\n",
    "with HiddenPltShow():\n",
    "    trainer.plot_truth_pred(log_trans=True, upper_lim=9, program='AutoGluon')"
   ],
   "metadata": {
    "collapsed": false,
    "pycharm": {
     "name": "#%%\n"
    }
   }
  },
  {
   "cell_type": "code",
   "execution_count": null,
   "outputs": [],
   "source": [
    "from src.core.datasplitter import MaterialCycleSplitter\n",
    "from src.core.model import *\n",
    "\n",
    "device = \"cuda\" if torch.cuda.is_available() else \"cpu\"\n",
    "print(\"Using {} device\".format(device))\n",
    "\n",
    "configfile = \"base_SNL_MSU_DOE_fatigue\"\n",
    "trainer = Trainer(device=device)\n",
    "trainer.load_config(configfile)\n",
    "trainer.datasplitter = MaterialCycleSplitter()\n",
    "trainer.load_data()\n",
    "trainer.train(verbose=True)\n",
    "\n",
    "models = [\n",
    "    ThisWork(trainer, manual_activate=[\"linlogSN\"]),\n",
    "]\n",
    "\n",
    "trainer.add_modelbases(models)\n",
    "# trainer.bayes_opt=True\n",
    "trainer.train(verbose=True)"
   ],
   "metadata": {
    "collapsed": false,
    "pycharm": {
     "name": "#%%\n"
    }
   }
  },
  {
   "cell_type": "code",
   "execution_count": null,
   "outputs": [],
   "source": [
    "trainer.plot_multiple_S_N(m_codes=['Triax-AA-UP2[(±45/0)3/(0/±45)2]','MD-DD5P-UP2[0/±45/0]S','MD-ELT5500-VE3[±45/0/±45/0/±45]','DB-BIAX-DH3-EP1(±45)6','DB-BIAX-DH3-EP1(+/-45)3S','UNI-D155-EP3[0]','UNI-D155B-UP2[0]5','Biax-CH6-UP2[±45/0/±45]S'], s_col='Maximum Stress', n_col='log(Cycles to Failure)', r_col='Minimum/Maximum Stress', n_bootstrap=10,  r_value=0.1, load_dir='tension', verbose=False, refit=False)"
   ],
   "metadata": {
    "collapsed": false,
    "pycharm": {
     "name": "#%%\n"
    }
   }
  },
  {
   "cell_type": "code",
   "execution_count": null,
   "outputs": [],
   "source": [
    "trainer.unscaled_feature_data.loc[trainer._select_by_material_code(m_code='DB-BIAX-DH3-EP1(+/-45)3S', partition='train'), :]"
   ],
   "metadata": {
    "collapsed": false,
    "pycharm": {
     "name": "#%%\n"
    }
   }
  },
  {
   "cell_type": "markdown",
   "source": [
    "### Permutation feature importance"
   ],
   "metadata": {
    "collapsed": false,
    "pycharm": {
     "name": "#%% md\n"
    }
   }
  },
  {
   "cell_type": "code",
   "execution_count": null,
   "outputs": [],
   "source": [
    "# trainer.plot_feature_importance(modelbase=trainer.get_modelbase('ThisWork'), fig_size=(8,6))"
   ],
   "metadata": {
    "collapsed": false,
    "pycharm": {
     "name": "#%%\n"
    }
   }
  },
  {
   "cell_type": "markdown",
   "source": [
    "### Partial dependence"
   ],
   "metadata": {
    "collapsed": false,
    "pycharm": {
     "name": "#%% md\n"
    }
   }
  },
  {
   "cell_type": "code",
   "execution_count": null,
   "outputs": [],
   "source": [
    "# trainer.plot_partial_dependence(modelbase=trainer.get_modelbase('ThisWork'), log_trans=True, lower_lim=3, upper_lim=6, n_bootstrap=10)"
   ],
   "metadata": {
    "collapsed": false,
    "pycharm": {
     "name": "#%%\n"
    }
   }
  },
  {
   "cell_type": "code",
   "execution_count": null,
   "outputs": [],
   "source": [
    "# trainer.get_leaderboard(test_data_only=False)"
   ],
   "metadata": {
    "collapsed": false,
    "pycharm": {
     "name": "#%%\n"
    }
   }
  },
  {
   "cell_type": "code",
   "execution_count": null,
   "outputs": [],
   "source": [
    "# trainer.plot_partial_dependence(modelbase=trainer.get_modelbase('ThisWork'), log_trans=True, lower_lim=3, upper_lim=6, n_bootstrap=10)"
   ],
   "metadata": {
    "collapsed": false,
    "pycharm": {
     "name": "#%%\n"
    }
   }
  },
  {
   "cell_type": "code",
   "execution_count": null,
   "outputs": [],
   "source": [
    "# trainer.get_leaderboard(test_data_only=False)"
   ],
   "metadata": {
    "collapsed": false,
    "pycharm": {
     "name": "#%%\n"
    }
   }
  },
  {
   "cell_type": "code",
   "execution_count": null,
   "outputs": [],
   "source": [
    "# trainer.plot_partial_dependence(modelbase=trainer.get_modelbase('ThisWork'), log_trans=True, lower_lim=3, upper_lim=6, n_bootstrap=10)"
   ],
   "metadata": {
    "collapsed": false,
    "pycharm": {
     "name": "#%%\n"
    }
   }
  },
  {
   "cell_type": "code",
   "execution_count": null,
   "outputs": [],
   "source": [
    "# trainer.get_leaderboard(test_data_only=False)"
   ],
   "metadata": {
    "collapsed": false,
    "pycharm": {
     "name": "#%%\n"
    }
   }
  },
  {
   "cell_type": "code",
   "execution_count": null,
   "outputs": [],
   "source": [
    "# trainer.plot_partial_dependence(modelbase=trainer.get_modelbase('ThisWork'), log_trans=True, lower_lim=3, upper_lim=6, n_bootstrap=10)"
   ],
   "metadata": {
    "collapsed": false,
    "pycharm": {
     "name": "#%%\n"
    }
   }
  },
  {
   "cell_type": "code",
   "execution_count": null,
   "outputs": [],
   "source": [
    "# trainer.get_leaderboard(test_data_only=False)"
   ],
   "metadata": {
    "collapsed": false,
    "pycharm": {
     "name": "#%%\n"
    }
   }
  },
  {
   "cell_type": "code",
   "execution_count": null,
   "outputs": [],
   "source": [
    "# trainer.plot_partial_dependence(modelbase=trainer.get_modelbase('ThisWork'), log_trans=True, lower_lim=3, upper_lim=6, n_bootstrap=10)"
   ],
   "metadata": {
    "collapsed": false,
    "pycharm": {
     "name": "#%%\n"
    }
   }
  },
  {
   "cell_type": "code",
   "execution_count": null,
   "outputs": [],
   "source": [
    "# trainer.get_leaderboard(test_data_only=False)"
   ],
   "metadata": {
    "collapsed": false,
    "pycharm": {
     "name": "#%%\n"
    }
   }
  },
  {
   "cell_type": "markdown",
   "source": [
    "### Partial dependence"
   ],
   "metadata": {
    "collapsed": false,
    "pycharm": {
     "name": "#%% md\n"
    }
   }
  },
  {
   "cell_type": "code",
   "execution_count": null,
   "outputs": [],
   "source": [
    "# trainer.plot_partial_dependence(modelbase=trainer.get_modelbase('ThisWork'), log_trans=True, lower_lim=3, upper_lim=6, n_bootstrap=10)"
   ],
   "metadata": {
    "collapsed": false,
    "pycharm": {
     "name": "#%%\n"
    }
   }
  },
  {
   "cell_type": "code",
   "execution_count": null,
   "outputs": [],
   "source": [
    "# trainer.get_leaderboard(test_data_only=False)"
   ],
   "metadata": {
    "collapsed": false,
    "pycharm": {
     "name": "#%%\n"
    }
   }
  },
  {
   "cell_type": "code",
   "execution_count": null,
   "outputs": [],
   "source": [
    "# trainer.plot_partial_dependence(modelbase=trainer.get_modelbase('ThisWork'), log_trans=True, lower_lim=3, upper_lim=6, n_bootstrap=10)"
   ],
   "metadata": {
    "collapsed": false,
    "pycharm": {
     "name": "#%%\n"
    }
   }
  },
  {
   "cell_type": "code",
   "execution_count": null,
   "outputs": [],
   "source": [
    "# trainer.get_leaderboard(test_data_only=False)"
   ],
   "metadata": {
    "collapsed": false,
    "pycharm": {
     "name": "#%%\n"
    }
   }
  },
  {
   "cell_type": "code",
   "execution_count": null,
   "outputs": [],
   "source": [
    "# trainer.plot_partial_dependence(modelbase=trainer.get_modelbase('ThisWork'), log_trans=True, lower_lim=3, upper_lim=6, n_bootstrap=10)"
   ],
   "metadata": {
    "collapsed": false,
    "pycharm": {
     "name": "#%%\n"
    }
   }
  },
  {
   "cell_type": "code",
   "execution_count": null,
   "outputs": [],
   "source": [
    "# trainer.get_leaderboard(test_data_only=False)"
   ],
   "metadata": {
    "collapsed": false,
    "pycharm": {
     "name": "#%%\n"
    }
   }
  },
  {
   "cell_type": "code",
   "execution_count": null,
   "outputs": [],
   "source": [
    "# trainer.plot_partial_dependence(modelbase=trainer.get_modelbase('ThisWork'), log_trans=True, lower_lim=3, upper_lim=6, n_bootstrap=10)"
   ],
   "metadata": {
    "collapsed": false,
    "pycharm": {
     "name": "#%%\n"
    }
   }
  },
  {
   "cell_type": "code",
   "execution_count": null,
   "outputs": [],
   "source": [
    "# trainer.get_leaderboard(test_data_only=False)"
   ],
   "metadata": {
    "collapsed": false,
    "pycharm": {
     "name": "#%%\n"
    }
   }
  },
  {
   "cell_type": "code",
   "execution_count": null,
   "outputs": [],
   "source": [
    "# trainer.plot_partial_dependence(modelbase=trainer.get_modelbase('ThisWork'), log_trans=True, lower_lim=3, upper_lim=6, n_bootstrap=10)"
   ],
   "metadata": {
    "collapsed": false,
    "pycharm": {
     "name": "#%%\n"
    }
   }
  },
  {
   "cell_type": "code",
   "execution_count": null,
   "outputs": [],
   "source": [
    "# trainer.get_leaderboard(test_data_only=False)"
   ],
   "metadata": {
    "collapsed": false,
    "pycharm": {
     "name": "#%%\n"
    }
   }
  },
  {
   "cell_type": "code",
   "execution_count": null,
   "outputs": [],
   "source": [
    "# trainer.plot_partial_dependence(modelbase=trainer.get_modelbase('ThisWork'), log_trans=True, lower_lim=3, upper_lim=6, n_bootstrap=10)"
   ],
   "metadata": {
    "collapsed": false,
    "pycharm": {
     "name": "#%%\n"
    }
   }
  },
  {
   "cell_type": "code",
   "execution_count": null,
   "outputs": [],
   "source": [
    "# trainer.get_leaderboard(test_data_only=False)"
   ],
   "metadata": {
    "collapsed": false,
    "pycharm": {
     "name": "#%%\n"
    }
   }
  },
  {
   "cell_type": "code",
   "execution_count": 12,
   "metadata": {
    "collapsed": false,
    "pycharm": {
     "name": "#%%\n"
    }
   },
   "outputs": [],
   "source": [
    "# trainer.plot_partial_dependence(modelbase=trainer.get_modelbase('ThisWork'), log_trans=True, lower_lim=3, upper_lim=6, n_bootstrap=10)"
   ]
  },
  {
   "cell_type": "code",
   "execution_count": 13,
   "metadata": {
    "collapsed": false,
    "pycharm": {
     "name": "#%%\n"
    }
   },
   "outputs": [],
   "source": [
    "# trainer.get_leaderboard(test_data_only=False)"
   ]
  }
 ],
 "metadata": {
  "kernelspec": {
   "display_name": "Python 3.6.9 ('venv': venv)",
   "language": "python",
   "name": "python3"
  },
  "language_info": {
   "codemirror_mode": {
    "name": "ipython",
    "version": 3
   },
   "file_extension": ".py",
   "mimetype": "text/x-python",
   "name": "python",
   "nbconvert_exporter": "python",
   "pygments_lexer": "ipython3",
   "version": "3.7.15"
  },
  "orig_nbformat": 4,
  "vscode": {
   "interpreter": {
    "hash": "f15373116f3f1333770e7ecbd767398a2d7ae8734f1a603bc2fc87ae52980838"
   }
  }
 },
 "nbformat": 4,
 "nbformat_minor": 2
}