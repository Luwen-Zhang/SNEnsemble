{
 "cells": [
  {
   "cell_type": "code",
   "execution_count": null,
   "outputs": [],
   "source": [
    "from elsapy.elsclient import ElsClient\n",
    "from elsapy.elsprofile import ElsAuthor, ElsAffil\n",
    "from elsapy.elsdoc import FullDoc, AbsDoc\n",
    "from elsapy.elssearch import ElsSearch\n",
    "from elsapy.utils import recast_df\n",
    "import pandas as pd\n",
    "import json\n",
    "\n",
    "## Load configuration\n",
    "con_file = open(\"config.json\")\n",
    "config = json.load(con_file)\n",
    "con_file.close()\n",
    "\n",
    "## Initialize client\n",
    "client = ElsClient(config['apikey'])\n",
    "\n",
    "srch_line = 'fatigue AND life AND polymer AND composite AND water OR immerse OR wet'\n",
    "\n",
    "abs_keywords = False\n",
    "\n",
    "count_per_page = 200 # limitation: <=200"
   ],
   "metadata": {
    "collapsed": false,
    "pycharm": {
     "name": "#%%\n"
    }
   }
  },
  {
   "cell_type": "code",
   "execution_count": null,
   "outputs": [],
   "source": [
    "# See https://github.com/ElsevierDev/elsapy/blob/master/elsapy/elssearch.py for the original execute function\n",
    "\n",
    "from urllib.parse import quote_plus as url_encode\n",
    "\n",
    "class myElsSearch(ElsSearch):\n",
    "    def __init__(self, query, index, count = 25):\n",
    "        super(myElsSearch, self).__init__(query, index)\n",
    "        self._uri = self._base_url + self.index + '?count='+str(count)+'&query=' + url_encode(\n",
    "                self.query)\n",
    "\n",
    "    def execute(self, els_client=None, get_all=False):\n",
    "        api_response = els_client.exec_request(self._uri)\n",
    "        self._tot_num_res = int(api_response['search-results']['opensearch:totalResults'])\n",
    "        self._results = api_response['search-results']['entry']\n",
    "        if get_all is True:\n",
    "            while (self.num_res < self.tot_num_res) and not self._upper_limit_reached():\n",
    "                for e in api_response['search-results']['link']:\n",
    "                    if e['@ref'] == 'next':\n",
    "                        next_url = e['@href']\n",
    "                api_response = els_client.exec_request(next_url)\n",
    "                self._results += api_response['search-results']['entry']\n",
    "                print(f'{self.num_res}/{self.tot_num_res}, {next_url}')\n",
    "        self.results_df = recast_df(pd.DataFrame(self._results))\n",
    "\n",
    "srch = myElsSearch('TITLE-ABS-KEY('+srch_line+')','scopus',count=count_per_page)\n",
    "srch.execute(client, get_all=True)\n",
    "\n",
    "print('Find', srch.num_res, 'results.')\n",
    "\n",
    "df = pd.DataFrame(columns = ['doi', 'title', 'publication_name', 'url'])\n",
    "\n",
    "for idx,item in enumerate(srch.results):\n",
    "    try:\n",
    "        if abs_keywords:\n",
    "            doc = AbsDoc(scp_id=item['dc:identifier'].split(':')[1])\n",
    "            doc.read(client)\n",
    "            abstract = doc.data['item']['bibrecord']['head']['abstracts']\n",
    "            keywords = [x['$'] for x in doc.data['authkeywords']['author-keyword']]\n",
    "            keywords_line = ', '\n",
    "            keywords_line = keywords_line.join(keywords)\n",
    "            item_df = pd.DataFrame({\n",
    "                'doi': item['prism:doi'],\n",
    "                'title': item['dc:title'],\n",
    "                'publication_name': item['prism:publicationName'],\n",
    "                'abstract': abstract,\n",
    "                'keywords': keywords_line,\n",
    "                'url': '=HYPERLINK(\\\"https://doi.org/'+item['prism:doi']+'\\\",\\\"DOI Link\\\")'\n",
    "            }, index=[0])\n",
    "\n",
    "        else:\n",
    "            item_df = pd.DataFrame({\n",
    "                'doi': item['prism:doi'],\n",
    "                'title': item['dc:title'],\n",
    "                'publication_name': item['prism:publicationName'],\n",
    "                'url': '=HYPERLINK(\\\"https://doi.org/'+item['prism:doi']+'\\\",\\\"DOI Link\\\")'\n",
    "            }, index=[0])\n",
    "\n",
    "        df = pd.concat([df,item_df], ignore_index=True)\n",
    "\n",
    "    except:\n",
    "        pass\n",
    "\n",
    "    if (idx+1) % count_per_page==0 and abs_keywords:\n",
    "        print(f'Items finished: {idx+1}/{len(srch.results)}')\n",
    "\n",
    "df.reset_index()\n",
    "df.to_excel('../data/'+srch_line+'.xlsx')"
   ],
   "metadata": {
    "collapsed": false,
    "pycharm": {
     "name": "#%%\n"
    }
   }
  },
  {
   "cell_type": "code",
   "execution_count": null,
   "metadata": {
    "collapsed": false,
    "pycharm": {
     "name": "#%%\n"
    }
   },
   "outputs": [],
   "source": []
  }
 ],
 "metadata": {
  "kernelspec": {
   "display_name": "Python 3.6.9 ('venv': venv)",
   "language": "python",
   "name": "python3"
  },
  "language_info": {
   "codemirror_mode": {
    "name": "ipython",
    "version": 3
   },
   "file_extension": ".py",
   "mimetype": "text/x-python",
   "name": "python",
   "nbconvert_exporter": "python",
   "pygments_lexer": "ipython3",
   "version": "3.6.9"
  },
  "vscode": {
   "interpreter": {
    "hash": "f15373116f3f1333770e7ecbd767398a2d7ae8734f1a603bc2fc87ae52980838"
   }
  }
 },
 "nbformat": 4,
 "nbformat_minor": 0
}