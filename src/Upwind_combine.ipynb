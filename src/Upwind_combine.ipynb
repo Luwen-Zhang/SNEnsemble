{
 "cells": [
  {
   "cell_type": "markdown",
   "source": [
    "## Initialize"
   ],
   "metadata": {
    "collapsed": false,
    "pycharm": {
     "name": "#%% md\n"
    }
   }
  },
  {
   "cell_type": "code",
   "execution_count": 1,
   "metadata": {
    "pycharm": {
     "name": "#%%\n"
    }
   },
   "outputs": [],
   "source": [
    "%load_ext autoreload\n",
    "%autoreload 2\n",
    "\n",
    "import pandas as pd\n",
    "import numpy as np\n",
    "from utils import *\n",
    "import matplotlib.pyplot as plt\n",
    "import matplotlib\n",
    "\n",
    "data_path = '../data/Upwind_combine.xlsx'\n",
    "\n",
    "df_all = pd.read_excel(\n",
    "    data_path, engine='openpyxl', sheet_name=None)['Sheet1']"
   ]
  },
  {
   "cell_type": "code",
   "execution_count": 2,
   "outputs": [],
   "source": [
    "name_mapping = {\n",
    "    # 'Table', ##### Not useful\n",
    "    # 'OptiDAT nr.', ##### Not useful\n",
    "    # 'identification', ##### Not useful\n",
    "    # 'Property Plate', ##### Used to generate Material_Code\n",
    "    # 'laboratory', ##### Not useful\n",
    "    'angle': 'Load Angle',\n",
    "    # 'geometry', ##### Used to generate Material_Code\n",
    "    # 'material', ##### Not useful\n",
    "    'average thicknessmiddle': 'Thickness',\n",
    "    'widthmiddle': 'Width',\n",
    "    'area[mm2]': 'Area',\n",
    "    # 'length total[mm]',\n",
    "    'length gaugeaverage': 'Length(gauge)',\n",
    "    # 'workpackageI', ##### Not useful\n",
    "    # 'start date', ##### Not useful\n",
    "    # 'end date', ##### Not useful\n",
    "    # 'test type', ##### Identify type\n",
    "    'R-value': 'Minimum/Maximum Stress',\n",
    "    'load (max)[kN]': 'Maximum Load',\n",
    "    'average_emax': 'Average Strain',\n",
    "    'poissonaverage': 'Average Poisson Ratio',\n",
    "    'σmax[MPa]': 'Maximum Stress',\n",
    "    'G[Gpa]': 'Shear Modulus',\n",
    "    'cycles to failurefatigue': 'Cycles to Failure',\n",
    "    # 'runout', ##### Not useful\n",
    "    'loading rate[mm/min]': 'Displacement Rate',\n",
    "    'loading rate[Hz]': 'Frequency',\n",
    "    'E_avg[GPa]': 'Modulus (Tensile or Compressive)',\n",
    "    # 'machine', ##### Not useful\n",
    "    # 'control mode', ##### Not useful\n",
    "    # 'special fixture', ##### Not useful\n",
    "    # 'tabs remarks', ##### Not useful\n",
    "    'T02 max[ºC]': 'Temperature',\n",
    "    # 'Environment', ##### Most of them are \"Ambient\"\n",
    "    # 'reference document(s)', ##### Not useful\n",
    "    # 'remarks', ##### Not useful\n",
    "    # 'invalid', ##### Not useful\n",
    "    # 'strain gaugesmiddle', ##### Not useful\n",
    "    # 'grip pressure[MPa]', ##### How to use it?\n",
    "    'number of layers': 'Number of Layers',\n",
    "    # 'tab thickness',\n",
    "    # 'Plate-Fibre Type',\n",
    "    # 'Plate-Mould', ##### Not useful\n",
    "    # 'Plate-Date of Arrival', ##### Not useful\n",
    "    # 'Plate-Glass Density', ##### To calculate Volumn Fraction\n",
    "    'Plate-Laminate-Width': 'Laminate Width',\n",
    "    'Plate-Fibre Weight': 'Fibre Weight',\n",
    "    # 'Plate-Project', ##### Not useful\n",
    "    'Plate-Laminate-Thickness Adjustment Mould': 'Thickness Adjustment Mould',\n",
    "    # 'Plate-Injection Date', ##### Not useful\n",
    "    # 'Plate-Resin System-Mix Ratio', ##### Most of them are the same\n",
    "    # 'Plate-Material', ##### Not useful\n",
    "    # 'Plate-Weaver', ##### Not useful\n",
    "    'Plate-Laminate-Length': 'Laminate Length',\n",
    "    # 'Plate-Remarks', ##### Not useful\n",
    "    # 'Plate-Resin Density(liquid)', ##### To calculate Volumn Fraction\n",
    "    # 'Plate-Fibre Volume Fraction', ##### Incomplete, recalculate\n",
    "    # 'Plate-Vacuum-Curing', ##### Most of them are the same\n",
    "    # 'Plate-Layers', ##### Replicated\n",
    "    # 'Plate-article nr.', ##### Not useful\n",
    "    'Plate-Prepared Resin Mixture-Resin': 'Resin Mixture Resin Weight',\n",
    "    # 'Plate-Post-cure', ##### How to use it?\n",
    "    # 'Plate-Resin System-Resin', ##### Not useful\n",
    "    'Plate-Vacuum-Injection': 'Vacuum Injection',\n",
    "    'Plate-Prepared Resin Mixture-Hardener': 'Resin Mixture Hardener Weight',\n",
    "    'Plate-Lay-up': 'Lay-up',\n",
    "    # 'Plate-Curing Tabs Glue ', ##### How to use it?\n",
    "    # 'Plate-Fibre Mass', ##### To calculate Volumn Fraction\n",
    "    'Plate-Fibre Weight Percentage': 'Fibre Weight Fraction',\n",
    "    # 'Plate-Delta Cp', ##### What is it?\n",
    "    # 'Plate-Fibre Weight Fraction', ##### Too many absence\n",
    "    # 'Plate-Tg', ##### Too many absence\n",
    "    'Plate-Prepared Resin Mixture-Mix': 'Resin Mixture Weight',\n",
    "    # 'Plate-Void Content', ##### Too many absence\n",
    "    'Plate-Prepared Resin Mixture-Ratio': 'Resin Mixture Hardener Fraction',\n",
    "    # 'Plate-Resin System-Hardener', ##### Not useful\n",
    "    # 'Plate-Material Density', ##### Too many absence\n",
    "    # 'Plate-Resin Density(cured)', ##### Data seems not compatible with Resin Density(liquid)\n",
    "    # 'Plate-Operater' ##### Not useful\n",
    "    ################### Added features ###################\n",
    "    'Fibre Volumn Fraction': 'Fibre Volumn Fraction',\n",
    "    'Maximum Tensile Stress': 'Maximum Tensile Stress',\n",
    "    'Maximum Compressive Stress': 'Maximum Compressive Stress',\n",
    "    'Static Maximum Tensile Stress': 'Static Maximum Tensile Stress',\n",
    "    'Static Maximum Compressive Stress': 'Static Maximum Compressive Stress',\n",
    "    'Minimum Stress': 'Minimum Stress',\n",
    "    'Static Elastic Modulus': 'Static Elastic Modulus',\n",
    "    'Static Compressive Modulus': 'Static Compressive Modulus',\n",
    "    'Absolute Maximum Stress': 'Absolute Maximum Stress',\n",
    "    'Absolute Peak-to-peak Stress': 'Absolute Peak-to-peak Stress',\n",
    "    'Relative Maximum Stress': 'Relative Maximum Stress',\n",
    "    'Relative Peak-to-peak Stress': 'Relative Peak-to-peak Stress',\n",
    "}"
   ],
   "metadata": {
    "collapsed": false,
    "pycharm": {
     "name": "#%%\n"
    }
   }
  },
  {
   "cell_type": "markdown",
   "source": [
    "## Plot initial absence ratio"
   ],
   "metadata": {
    "collapsed": false,
    "pycharm": {
     "name": "#%% md\n"
    }
   }
  },
  {
   "cell_type": "code",
   "execution_count": 3,
   "outputs": [
    {
     "name": "stdout",
     "output_type": "stream",
     "text": [
      "Deleted features ['Table', 'OptiDAT nr.', 'identification', 'Property Plate', 'laboratory', 'geometry', 'material', 'length total[mm]', 'workpackageI', 'start date', 'end date', 'test type', 'runout', 'machine', 'control mode', 'special fixture', 'tabs remarks', 'Environment', 'reference document(s)', 'remarks', 'invalid', 'strain gaugesmiddle', 'grip pressure[MPa]', 'tab thickness', 'Plate-Fibre Type', 'Plate-Mould', 'Plate-Date of Arrival', 'Plate-Glass Density', 'Plate-Project', 'Plate-Injection Date', 'Plate-Resin System-Mix Ratio', 'Plate-Material', 'Plate-Weaver', 'Plate-Remarks', 'Plate-Resin Density(liquid)', 'Plate-Fibre Volume Fraction', 'Plate-Vacuum-Curing', 'Plate-Layers', 'Plate-article nr.', 'Plate-Post-cure', 'Plate-Resin System-Resin', 'Plate-Curing Tabs Glue ', 'Plate-Fibre Mass', 'Plate-Delta Cp', 'Plate-Fibre Weight Fraction', 'Plate-Tg', 'Plate-Void Content', 'Plate-Resin System-Hardener', 'Plate-Material Density', 'Plate-Resin Density(cured)', 'Plate-Operater']\n"
     ]
    }
   ],
   "source": [
    "col_to_del = [x for x in df_all.columns if x not in name_mapping.keys()]\n",
    "print('Deleted features', col_to_del)\n",
    "\n",
    "df_tmp = replace_column_name(df_all, name_mapping)\n",
    "for col in col_to_del:\n",
    "    del df_tmp[col]\n",
    "\n",
    "df_presence = calculate_absence_ratio(df_tmp)\n",
    "\n",
    "matplotlib.rc(\"text\", usetex=False)\n",
    "plt.rcParams[\"font.size\"] = 12\n",
    "\n",
    "clr = sns.color_palette(\"deep\")\n",
    "\n",
    "plt.figure(figsize=(10,8))\n",
    "ax = plt.subplot(111)\n",
    "plot_absence_ratio(ax, df_presence, orient='h', palette=clr, linewidth=1, edgecolor=[0, 0, 0])\n",
    "plt.tight_layout()\n",
    "\n",
    "plt.savefig('../output/Upwind/absence_ratio_initial.png', dpi=600)\n",
    "# plt.close()\n",
    "# plt.show()\n",
    "plt.close()"
   ],
   "metadata": {
    "collapsed": false,
    "pycharm": {
     "name": "#%%\n"
    }
   }
  },
  {
   "cell_type": "code",
   "execution_count": 4,
   "outputs": [],
   "source": [
    "# Add material code\n",
    "material_code = [str(df_all.loc[x, 'Property Plate']) + str(df_all.loc[x, 'geometry']) for x in range(len(df_all))]\n",
    "df_all['Material_Code'] = material_code"
   ],
   "metadata": {
    "collapsed": false,
    "pycharm": {
     "name": "#%%\n"
    }
   }
  },
  {
   "cell_type": "code",
   "execution_count": 5,
   "outputs": [],
   "source": [
    "# Divide Static Maximum Stress into Tensile and Compressive Stress\n",
    "df_all['Maximum Tensile Stress'] = np.nan\n",
    "df_all['Maximum Compressive Stress'] = np.nan\n",
    "df_all['Elastic Modulus'] = np.nan\n",
    "df_all['Compressive Modulus'] = np.nan\n",
    "for idx in range(len(df_all)):\n",
    "    if df_all.loc[idx,'σmax[MPa]']<0:\n",
    "        df_all.loc[idx,'Maximum Compressive Stress']=df_all.loc[idx,'σmax[MPa]']\n",
    "        df_all.loc[idx,'Compressive Modulus']=df_all.loc[idx,'E_avg[GPa]']\n",
    "    else:\n",
    "        df_all.loc[idx,'Maximum Tensile Stress']=df_all.loc[idx,'σmax[MPa]']\n",
    "        df_all.loc[idx,'Elastic Modulus']=df_all.loc[idx,'E_avg[GPa]']"
   ],
   "metadata": {
    "collapsed": false,
    "pycharm": {
     "name": "#%%\n"
    }
   }
  },
  {
   "cell_type": "code",
   "execution_count": 6,
   "outputs": [],
   "source": [
    "# If R>1, max stress must be negative\n",
    "where_R1 = []\n",
    "for idx,x in enumerate(df_all['R-value']):\n",
    "    if not isinstance(x,str) and x>1:\n",
    "        where_R1.append(idx)\n",
    "where_R1 = np.array(where_R1)\n",
    "df_all.loc[where_R1,'σmax[MPa]'] = -np.abs(df_all.loc[where_R1,'σmax[MPa]'])"
   ],
   "metadata": {
    "collapsed": false,
    "pycharm": {
     "name": "#%%\n"
    }
   }
  },
  {
   "cell_type": "code",
   "execution_count": 7,
   "outputs": [],
   "source": [
    "# Calculate Minimum Stress using R-value and Maximum Stress\n",
    "df_all['Minimum Stress'] = df_all['R-value'] * df_all['σmax[MPa]']"
   ],
   "metadata": {
    "collapsed": false,
    "pycharm": {
     "name": "#%%\n"
    }
   }
  },
  {
   "cell_type": "markdown",
   "source": [
    "## Extract static and fatigue experiments respectively"
   ],
   "metadata": {
    "collapsed": false,
    "pycharm": {
     "name": "#%% md\n"
    }
   }
  },
  {
   "cell_type": "code",
   "execution_count": 8,
   "outputs": [],
   "source": [
    "static_indexes = np.union1d(np.where(df_all['test type']=='STT')[0], np.where(df_all['test type']=='STC')[0])\n",
    "non_static_indexes = np.where(df_all['test type']=='CA')[0]\n",
    "\n",
    "df_tmp = df_all.copy()\n",
    "\n",
    "df_static = df_tmp.loc[static_indexes].copy()\n",
    "df_fatigue = df_tmp.loc[non_static_indexes].copy()\n",
    "\n",
    "df_static.reset_index(drop=True, inplace=True)\n",
    "df_fatigue.reset_index(drop=True, inplace=True)\n",
    "\n",
    "df_fatigue = replace_column_name(df_fatigue, name_mapping)\n",
    "df_static = replace_column_name(df_static, name_mapping)"
   ],
   "metadata": {
    "collapsed": false,
    "pycharm": {
     "name": "#%%\n"
    }
   }
  },
  {
   "cell_type": "code",
   "execution_count": 9,
   "outputs": [],
   "source": [
    "static_mat_lay = df_static['Material_Code'].values\n",
    "static_properties = {}\n",
    "\n",
    "static_features = ['Maximum Tensile Stress', 'Maximum Compressive Stress', 'Elastic Modulus', 'Compressive Modulus']\n",
    "\n",
    "for material in list(set(static_mat_lay)):\n",
    "    where_material = np.where(static_mat_lay == material)[0]\n",
    "    # print(material, len(where_material))\n",
    "    material_data = df_static.loc[where_material, static_features].copy()\n",
    "    material_data.reset_index(drop=True, inplace=True)\n",
    "    material_df = {}\n",
    "    for feature in static_features:\n",
    "        for idx in range(len(material_data[feature])):\n",
    "            if type(material_data.loc[idx, feature]) == str:\n",
    "                material_data.loc[idx, feature] = np.nan\n",
    "\n",
    "        presence_indexes = np.where(material_data[feature])[0]\n",
    "        mean_value = np.mean(material_data.loc[presence_indexes, feature])\n",
    "        material_df[feature] = mean_value\n",
    "\n",
    "    material_df = pd.DataFrame(material_df, index=[0])\n",
    "    static_properties[material]=material_df\n",
    "\n",
    "########### modify for another dataset ##############\n",
    "fatigue_static_features = ['Static '+x if 'Static' not in x else x for x in static_features]\n",
    "#####################################################\n",
    "fatigue_mat_lay = df_fatigue['Material_Code'].values\n",
    "\n",
    "for feature in fatigue_static_features:\n",
    "    if feature not in list(df_fatigue.columns):\n",
    "        df_fatigue[feature] = np.nan\n",
    "\n",
    "for material in list(set(static_mat_lay)):\n",
    "    where_material = np.where(fatigue_mat_lay == material)[0]\n",
    "    if len(where_material) > 0:\n",
    "        static_property = static_properties[material]\n",
    "        for feature in static_features:\n",
    "            ########### modify for another dataset ##############\n",
    "            name = 'Static '+feature if 'Static' not in feature else feature\n",
    "            feature_absence = np.where(pd.isna(df_fatigue[name]))[0]\n",
    "            to_assign = np.intersect1d(where_material, feature_absence)\n",
    "            #####################################################\n",
    "            df_fatigue.loc[to_assign,name] = static_property[feature].values[0]\n"
   ],
   "metadata": {
    "collapsed": false,
    "pycharm": {
     "name": "#%%\n"
    }
   }
  },
  {
   "cell_type": "code",
   "execution_count": 10,
   "outputs": [],
   "source": [
    "df_fatigue['Absolute Maximum Stress'] = np.nan\n",
    "df_fatigue['Absolute Peak-to-peak Stress'] = np.nan\n",
    "df_fatigue['Relative Maximum Stress'] = np.nan\n",
    "df_fatigue['Relative Peak-to-peak Stress'] = np.nan\n",
    "\n",
    "for idx in range(df_fatigue.values.shape[0]):\n",
    "    s = np.array([df_fatigue.loc[idx, 'Maximum Stress'],df_fatigue.loc[idx, 'Minimum Stress']])\n",
    "    which_max_stress = np.where(np.abs(s) == np.max(np.abs(s)))[0]\n",
    "    if len(which_max_stress) == 0:\n",
    "        which_max_stress = 1 - int(np.isnan(s[1])) # when nan appears in s\n",
    "    else:\n",
    "        which_max_stress = which_max_stress[0]\n",
    "\n",
    "    relative_to = np.abs(df_fatigue.loc[idx,'Static Maximum Tensile Stress']) if s[which_max_stress] > 0 else np.abs(df_fatigue.loc[idx,'Static Maximum Compressive Stress'])\n",
    "    if np.isnan(relative_to) and s[0] + s[1] < 1e-5 and s[which_max_stress] > 0:\n",
    "        relative_to = np.abs(df_fatigue.loc[idx,'Static Maximum Compressive Stress'])\n",
    "\n",
    "    df_fatigue.loc[idx,'Absolute Maximum Stress'] = s[which_max_stress]\n",
    "    p2p = np.abs(s[0]-s[1])\n",
    "    if np.isnan(p2p):\n",
    "        p2p = np.abs(s[1 - int(np.isnan(s[1]))])\n",
    "    df_fatigue.loc[idx,'Absolute Peak-to-peak Stress'] = p2p\n",
    "\n",
    "    if np.abs(s[which_max_stress]/relative_to) <= 1.1: # otherwise static data is not correct\n",
    "        df_fatigue.loc[idx,'Relative Maximum Stress'] = np.abs(s[which_max_stress]/relative_to)\n",
    "        df_fatigue.loc[idx,'Relative Peak-to-peak Stress'] = np.abs(p2p/relative_to)\n",
    "    else:\n",
    "        df_fatigue.loc[idx,'Static Maximum Tensile Stress'] = np.nan\n",
    "        df_fatigue.loc[idx,'Static Maximum Compressive Stress'] = np.nan"
   ],
   "metadata": {
    "collapsed": false,
    "pycharm": {
     "name": "#%%\n"
    }
   }
  },
  {
   "cell_type": "code",
   "execution_count": 11,
   "outputs": [],
   "source": [
    "# Remove runout tests\n",
    "df_fatigue = df_fatigue.loc[np.where(df_fatigue['runout'] != 'y')[0],:].copy()\n",
    "df_fatigue.reset_index(drop=True, inplace=True)"
   ],
   "metadata": {
    "collapsed": false,
    "pycharm": {
     "name": "#%%\n"
    }
   }
  },
  {
   "cell_type": "code",
   "execution_count": 12,
   "outputs": [],
   "source": [
    "if 'Lay-up' in df_fatigue.columns:\n",
    "    code2seq_dict = {}\n",
    "    layups = df_fatigue['Lay-up'].values\n",
    "    for layer in list(set(layups)):\n",
    "        code2seq_dict[layer] = code2seq(layer)\n",
    "    seq = []\n",
    "    for layer in layups:\n",
    "        seq.append('/'.join([str(x) for x in code2seq(layer)]))\n",
    "    df_fatigue['Sequence'] = seq"
   ],
   "metadata": {
    "collapsed": false,
    "pycharm": {
     "name": "#%%\n"
    }
   }
  },
  {
   "cell_type": "code",
   "execution_count": 13,
   "outputs": [],
   "source": [
    "df_fatigue.to_excel('../data/Upwind_fatigue.xlsx', engine='openpyxl', index=False)\n",
    "df_static.to_excel('../data/Upwind_static.xlsx', engine='openpyxl', index=False)"
   ],
   "metadata": {
    "collapsed": false,
    "pycharm": {
     "name": "#%%\n"
    }
   }
  },
  {
   "cell_type": "code",
   "execution_count": 14,
   "outputs": [
    {
     "name": "stdout",
     "output_type": "stream",
     "text": [
      "Deleted features ['Table', 'OptiDAT nr.', 'identification', 'Property Plate', 'laboratory', 'geometry', 'material', 'length total[mm]', 'workpackageI', 'start date', 'end date', 'test type', 'runout', 'machine', 'control mode', 'special fixture', 'tabs remarks', 'Environment', 'reference document(s)', 'remarks', 'invalid', 'strain gaugesmiddle', 'grip pressure[MPa]', 'tab thickness', 'Plate-Fibre Type', 'Plate-Mould', 'Plate-Date of Arrival', 'Plate-Glass Density', 'Plate-Project', 'Plate-Injection Date', 'Plate-Resin System-Mix Ratio', 'Plate-Material', 'Plate-Weaver', 'Plate-Remarks', 'Plate-Resin Density(liquid)', 'Plate-Fibre Volume Fraction', 'Plate-Vacuum-Curing', 'Plate-Layers', 'Plate-article nr.', 'Plate-Post-cure', 'Plate-Resin System-Resin', 'Plate-Curing Tabs Glue ', 'Plate-Fibre Mass', 'Plate-Delta Cp', 'Plate-Fibre Weight Fraction', 'Plate-Tg', 'Plate-Void Content', 'Plate-Resin System-Hardener', 'Plate-Material Density', 'Plate-Resin Density(cured)', 'Plate-Operater', 'Material_Code', 'Elastic Modulus', 'Compressive Modulus', 'Sequence']\n"
     ]
    }
   ],
   "source": [
    "col_to_del = [x for x in df_fatigue.columns if x not in name_mapping.values()]\n",
    "print('Deleted features', col_to_del)\n",
    "\n",
    "df_tmp = df_fatigue.copy()\n",
    "for col in col_to_del:\n",
    "    del df_tmp[col]\n",
    "\n",
    "df_presence = calculate_absence_ratio(df_tmp)\n",
    "\n",
    "clr = sns.color_palette(\"deep\")\n",
    "plt.rcParams[\"font.size\"] = 5\n",
    "\n",
    "plt.figure(figsize=(5,4),dpi=300)\n",
    "ax = plt.subplot(111)\n",
    "plot_absence_ratio(ax, df_presence, orient='h', palette=clr, linewidth=1, edgecolor=[0, 0, 0])\n",
    "plt.tight_layout()\n",
    "\n",
    "plt.savefig('../output/Upwind/absence_ratio.png')\n",
    "# plt.close()\n",
    "# plt.show()\n",
    "plt.close()"
   ],
   "metadata": {
    "collapsed": false,
    "pycharm": {
     "name": "#%%\n"
    }
   }
  },
  {
   "cell_type": "code",
   "execution_count": 14,
   "outputs": [],
   "source": [],
   "metadata": {
    "collapsed": false,
    "pycharm": {
     "name": "#%%\n"
    }
   }
  }
 ],
 "metadata": {
  "interpreter": {
   "hash": "1d8736527e45d6a6214b93c62d7cf11bdd64dc67a94623331c70c6bed418bafe"
  },
  "kernelspec": {
   "display_name": "Python 3.9.7 ('base')",
   "language": "python",
   "name": "python3"
  },
  "language_info": {
   "codemirror_mode": {
    "name": "ipython",
    "version": 3
   },
   "file_extension": ".py",
   "mimetype": "text/x-python",
   "name": "python",
   "nbconvert_exporter": "python",
   "pygments_lexer": "ipython3",
   "version": "3.9.7"
  },
  "orig_nbformat": 4
 },
 "nbformat": 4,
 "nbformat_minor": 2
}