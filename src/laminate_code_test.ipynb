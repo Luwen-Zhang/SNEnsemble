{
 "cells": [
  {
   "cell_type": "code",
   "execution_count": 1,
   "outputs": [
    {
     "data": {
      "text/plain": "          Material Lay-up  Fibre Volumn Fraction Resin Type  \\\n0         LCCF-T20   [0]5                   56.0        EP1   \n1         LCCF-T20   [0]5                   53.0        EP1   \n2         LCCF-T20   [0]5                   53.0        EP1   \n3         LCCF-T20   [0]5                   56.0        EP1   \n4         LCCF-T20   [0]5                   53.0        EP1   \n...            ...    ...                    ...        ...   \n4928  UNI-D155-EP3    [0]                   52.0        EP3   \n4929  UNI-D155-EP3    [0]                   52.0        EP3   \n4930  UNI-D155-EP3    [0]                   52.0        EP3   \n4931  UNI-D155-EP3    [0]                   52.0        EP3   \n4932  UNI-D155-EP3    [0]                   52.0        EP3   \n\n                            Resin        0 Deg fabric  \\\n0     Hexion MGS RIMR135/RIMH1366       Taekwang T20C   \n1     Hexion MGS RIMR135/RIMH1366       Taekwang T20C   \n2     Hexion MGS RIMR135/RIMH1366       Taekwang T20C   \n3     Hexion MGS RIMR135/RIMH1366       Taekwang T20C   \n4     Hexion MGS RIMR135/RIMH1366       Taekwang T20C   \n...                           ...                 ...   \n4928                   SP Prime20  Knytex D155 Strand   \n4929                   SP Prime20  Knytex D155 Strand   \n4930                   SP Prime20  Knytex D155 Strand   \n4931                   SP Prime20  Knytex D155 Strand   \n4932                   SP Prime20  Knytex D155 Strand   \n\n      Percentage of Fibre in 0-deg Direction 45 Deg fabric  \\\n0                                        100             0   \n1                                        100             0   \n2                                        100             0   \n3                                        100             0   \n4                                        100             0   \n...                                      ...           ...   \n4928                                       0             0   \n4929                                       0             0   \n4930                                       0             0   \n4931                                       0             0   \n4932                                       0             0   \n\n      Percentage of Fibre in 45-deg Direction 90 deg fabric  ...  \\\n0                                         0.0             0  ...   \n1                                         0.0             0  ...   \n2                                         0.0             0  ...   \n3                                         0.0             0  ...   \n4                                         0.0             0  ...   \n...                                       ...           ...  ...   \n4928                                      0.0             0  ...   \n4929                                      0.0             0  ...   \n4930                                      0.0             0  ...   \n4931                                      0.0             0  ...   \n4932                                      0.0             0  ...   \n\n      Static Maximum Tensile Stress  Static Maximum Compressive Stress  \\\n0                        909.166667                                NaN   \n1                        909.166667                                NaN   \n2                        909.166667                                NaN   \n3                        909.166667                                NaN   \n4                        909.166667                                NaN   \n...                             ...                                ...   \n4928                    1407.812500                             -764.5   \n4929                    1407.812500                             -764.5   \n4930                    1407.812500                             -764.5   \n4931                    1407.812500                             -764.5   \n4932                    1407.812500                             -764.5   \n\n      Static Elastic Modulus Static Maximum Tensile Strain  \\\n0                 131.416667                      0.680000   \n1                 131.416667                      0.680000   \n2                 131.416667                      0.680000   \n3                 131.416667                      0.680000   \n4                 131.416667                      0.680000   \n...                      ...                           ...   \n4928                     NaN                      2.553125   \n4929                     NaN                      2.553125   \n4930                     NaN                      2.553125   \n4931                     NaN                      2.553125   \n4932                     NaN                      2.553125   \n\n     Static Maximum Compressive Strain  Absolute Maximum Stress  \\\n0                                  NaN                    862.0   \n1                                  NaN                    793.0   \n2                                  NaN                    690.0   \n3                                  NaN                    690.0   \n4                                  NaN                    621.0   \n...                                ...                      ...   \n4928                               NaN                   -578.0   \n4929                               NaN                   -503.0   \n4930                               NaN                    361.0   \n4931                               NaN                   -510.0   \n4932                               NaN                    413.0   \n\n     Absolute Peak-to-peak Stress  Relative Maximum Stress  \\\n0                           775.8                 0.948121   \n1                           713.7                 0.872227   \n2                           621.0                 0.758937   \n3                           621.0                 0.758937   \n4                           558.9                 0.683043   \n...                           ...                      ...   \n4928                        520.2                 0.756050   \n4929                        452.7                 0.657946   \n4930                        722.0                 0.256426   \n4931                        459.0                 0.667103   \n4932                        826.0                 0.293363   \n\n      Relative Peak-to-peak Stress   Sequence  \n0                         0.853309  0/0/0/0/0  \n1                         0.785005  0/0/0/0/0  \n2                         0.683043  0/0/0/0/0  \n3                         0.683043  0/0/0/0/0  \n4                         0.614739  0/0/0/0/0  \n...                            ...        ...  \n4928                      0.680445          0  \n4929                      0.592152          0  \n4930                      0.512852          0  \n4931                      0.600392          0  \n4932                      0.586726          0  \n\n[4933 rows x 42 columns]",
      "text/html": "<div>\n<style scoped>\n    .dataframe tbody tr th:only-of-type {\n        vertical-align: middle;\n    }\n\n    .dataframe tbody tr th {\n        vertical-align: top;\n    }\n\n    .dataframe thead th {\n        text-align: right;\n    }\n</style>\n<table border=\"1\" class=\"dataframe\">\n  <thead>\n    <tr style=\"text-align: right;\">\n      <th></th>\n      <th>Material</th>\n      <th>Lay-up</th>\n      <th>Fibre Volumn Fraction</th>\n      <th>Resin Type</th>\n      <th>Resin</th>\n      <th>0 Deg fabric</th>\n      <th>Percentage of Fibre in 0-deg Direction</th>\n      <th>45 Deg fabric</th>\n      <th>Percentage of Fibre in 45-deg Direction</th>\n      <th>90 deg fabric</th>\n      <th>...</th>\n      <th>Static Maximum Tensile Stress</th>\n      <th>Static Maximum Compressive Stress</th>\n      <th>Static Elastic Modulus</th>\n      <th>Static Maximum Tensile Strain</th>\n      <th>Static Maximum Compressive Strain</th>\n      <th>Absolute Maximum Stress</th>\n      <th>Absolute Peak-to-peak Stress</th>\n      <th>Relative Maximum Stress</th>\n      <th>Relative Peak-to-peak Stress</th>\n      <th>Sequence</th>\n    </tr>\n  </thead>\n  <tbody>\n    <tr>\n      <th>0</th>\n      <td>LCCF-T20</td>\n      <td>[0]5</td>\n      <td>56.0</td>\n      <td>EP1</td>\n      <td>Hexion MGS RIMR135/RIMH1366</td>\n      <td>Taekwang T20C</td>\n      <td>100</td>\n      <td>0</td>\n      <td>0.0</td>\n      <td>0</td>\n      <td>...</td>\n      <td>909.166667</td>\n      <td>NaN</td>\n      <td>131.416667</td>\n      <td>0.680000</td>\n      <td>NaN</td>\n      <td>862.0</td>\n      <td>775.8</td>\n      <td>0.948121</td>\n      <td>0.853309</td>\n      <td>0/0/0/0/0</td>\n    </tr>\n    <tr>\n      <th>1</th>\n      <td>LCCF-T20</td>\n      <td>[0]5</td>\n      <td>53.0</td>\n      <td>EP1</td>\n      <td>Hexion MGS RIMR135/RIMH1366</td>\n      <td>Taekwang T20C</td>\n      <td>100</td>\n      <td>0</td>\n      <td>0.0</td>\n      <td>0</td>\n      <td>...</td>\n      <td>909.166667</td>\n      <td>NaN</td>\n      <td>131.416667</td>\n      <td>0.680000</td>\n      <td>NaN</td>\n      <td>793.0</td>\n      <td>713.7</td>\n      <td>0.872227</td>\n      <td>0.785005</td>\n      <td>0/0/0/0/0</td>\n    </tr>\n    <tr>\n      <th>2</th>\n      <td>LCCF-T20</td>\n      <td>[0]5</td>\n      <td>53.0</td>\n      <td>EP1</td>\n      <td>Hexion MGS RIMR135/RIMH1366</td>\n      <td>Taekwang T20C</td>\n      <td>100</td>\n      <td>0</td>\n      <td>0.0</td>\n      <td>0</td>\n      <td>...</td>\n      <td>909.166667</td>\n      <td>NaN</td>\n      <td>131.416667</td>\n      <td>0.680000</td>\n      <td>NaN</td>\n      <td>690.0</td>\n      <td>621.0</td>\n      <td>0.758937</td>\n      <td>0.683043</td>\n      <td>0/0/0/0/0</td>\n    </tr>\n    <tr>\n      <th>3</th>\n      <td>LCCF-T20</td>\n      <td>[0]5</td>\n      <td>56.0</td>\n      <td>EP1</td>\n      <td>Hexion MGS RIMR135/RIMH1366</td>\n      <td>Taekwang T20C</td>\n      <td>100</td>\n      <td>0</td>\n      <td>0.0</td>\n      <td>0</td>\n      <td>...</td>\n      <td>909.166667</td>\n      <td>NaN</td>\n      <td>131.416667</td>\n      <td>0.680000</td>\n      <td>NaN</td>\n      <td>690.0</td>\n      <td>621.0</td>\n      <td>0.758937</td>\n      <td>0.683043</td>\n      <td>0/0/0/0/0</td>\n    </tr>\n    <tr>\n      <th>4</th>\n      <td>LCCF-T20</td>\n      <td>[0]5</td>\n      <td>53.0</td>\n      <td>EP1</td>\n      <td>Hexion MGS RIMR135/RIMH1366</td>\n      <td>Taekwang T20C</td>\n      <td>100</td>\n      <td>0</td>\n      <td>0.0</td>\n      <td>0</td>\n      <td>...</td>\n      <td>909.166667</td>\n      <td>NaN</td>\n      <td>131.416667</td>\n      <td>0.680000</td>\n      <td>NaN</td>\n      <td>621.0</td>\n      <td>558.9</td>\n      <td>0.683043</td>\n      <td>0.614739</td>\n      <td>0/0/0/0/0</td>\n    </tr>\n    <tr>\n      <th>...</th>\n      <td>...</td>\n      <td>...</td>\n      <td>...</td>\n      <td>...</td>\n      <td>...</td>\n      <td>...</td>\n      <td>...</td>\n      <td>...</td>\n      <td>...</td>\n      <td>...</td>\n      <td>...</td>\n      <td>...</td>\n      <td>...</td>\n      <td>...</td>\n      <td>...</td>\n      <td>...</td>\n      <td>...</td>\n      <td>...</td>\n      <td>...</td>\n      <td>...</td>\n      <td>...</td>\n    </tr>\n    <tr>\n      <th>4928</th>\n      <td>UNI-D155-EP3</td>\n      <td>[0]</td>\n      <td>52.0</td>\n      <td>EP3</td>\n      <td>SP Prime20</td>\n      <td>Knytex D155 Strand</td>\n      <td>0</td>\n      <td>0</td>\n      <td>0.0</td>\n      <td>0</td>\n      <td>...</td>\n      <td>1407.812500</td>\n      <td>-764.5</td>\n      <td>NaN</td>\n      <td>2.553125</td>\n      <td>NaN</td>\n      <td>-578.0</td>\n      <td>520.2</td>\n      <td>0.756050</td>\n      <td>0.680445</td>\n      <td>0</td>\n    </tr>\n    <tr>\n      <th>4929</th>\n      <td>UNI-D155-EP3</td>\n      <td>[0]</td>\n      <td>52.0</td>\n      <td>EP3</td>\n      <td>SP Prime20</td>\n      <td>Knytex D155 Strand</td>\n      <td>0</td>\n      <td>0</td>\n      <td>0.0</td>\n      <td>0</td>\n      <td>...</td>\n      <td>1407.812500</td>\n      <td>-764.5</td>\n      <td>NaN</td>\n      <td>2.553125</td>\n      <td>NaN</td>\n      <td>-503.0</td>\n      <td>452.7</td>\n      <td>0.657946</td>\n      <td>0.592152</td>\n      <td>0</td>\n    </tr>\n    <tr>\n      <th>4930</th>\n      <td>UNI-D155-EP3</td>\n      <td>[0]</td>\n      <td>52.0</td>\n      <td>EP3</td>\n      <td>SP Prime20</td>\n      <td>Knytex D155 Strand</td>\n      <td>0</td>\n      <td>0</td>\n      <td>0.0</td>\n      <td>0</td>\n      <td>...</td>\n      <td>1407.812500</td>\n      <td>-764.5</td>\n      <td>NaN</td>\n      <td>2.553125</td>\n      <td>NaN</td>\n      <td>361.0</td>\n      <td>722.0</td>\n      <td>0.256426</td>\n      <td>0.512852</td>\n      <td>0</td>\n    </tr>\n    <tr>\n      <th>4931</th>\n      <td>UNI-D155-EP3</td>\n      <td>[0]</td>\n      <td>52.0</td>\n      <td>EP3</td>\n      <td>SP Prime20</td>\n      <td>Knytex D155 Strand</td>\n      <td>0</td>\n      <td>0</td>\n      <td>0.0</td>\n      <td>0</td>\n      <td>...</td>\n      <td>1407.812500</td>\n      <td>-764.5</td>\n      <td>NaN</td>\n      <td>2.553125</td>\n      <td>NaN</td>\n      <td>-510.0</td>\n      <td>459.0</td>\n      <td>0.667103</td>\n      <td>0.600392</td>\n      <td>0</td>\n    </tr>\n    <tr>\n      <th>4932</th>\n      <td>UNI-D155-EP3</td>\n      <td>[0]</td>\n      <td>52.0</td>\n      <td>EP3</td>\n      <td>SP Prime20</td>\n      <td>Knytex D155 Strand</td>\n      <td>0</td>\n      <td>0</td>\n      <td>0.0</td>\n      <td>0</td>\n      <td>...</td>\n      <td>1407.812500</td>\n      <td>-764.5</td>\n      <td>NaN</td>\n      <td>2.553125</td>\n      <td>NaN</td>\n      <td>413.0</td>\n      <td>826.0</td>\n      <td>0.293363</td>\n      <td>0.586726</td>\n      <td>0</td>\n    </tr>\n  </tbody>\n</table>\n<p>4933 rows × 42 columns</p>\n</div>"
     },
     "execution_count": 1,
     "metadata": {},
     "output_type": "execute_result"
    }
   ],
   "source": [
    "import pandas as pd\n",
    "\n",
    "df = pd.read_excel('../data/SNL_MSU_DOE_fatigue.xlsx', engine='openpyxl')\n",
    "\n",
    "df"
   ],
   "metadata": {
    "collapsed": false,
    "pycharm": {
     "name": "#%%\n"
    }
   }
  },
  {
   "cell_type": "code",
   "execution_count": 2,
   "outputs": [
    {
     "name": "stdout",
     "output_type": "stream",
     "text": [
      "[(±45)3]S                               [45, -45, 45, -45, 45, -45, -45, 45, -45, 45, -45, 45]\n",
      "[0]12                                   [0, 0, 0, 0, 0, 0, 0, 0, 0, 0, 0, 0]\n",
      "[90/0/±45/0]S                           [90, 0, 45, -45, 0, 0, -45, 45, 0, 90]\n",
      "[(90/±45)4]                             [90, 45, -45, 90, 45, -45, 90, 45, -45, 90, 45, -45]\n",
      "[(±45/0)2]S                             [45, -45, 0, 45, -45, 0, 0, -45, 45, 0, -45, 45]\n",
      "[(±45)/(0)4]S                           [45, -45, 0, 0, 0, 0, 0, 0, 0, 0, -45, 45]\n",
      "[(0)2/(0)2C/0/(0)2C/(0)2]               [0, 0, 0, 0, 0, 0, 0, 0, 0]\n",
      "[±45/0/±45/0/±45]                       [45, -45, 0, 45, -45, 0, 45, -45]\n",
      "[0]14                                   [0, 0, 0, 0, 0, 0, 0, 0, 0, 0, 0, 0, 0, 0]\n",
      "[±40]3                                  [40, -40, 40, -40, 40, -40]\n",
      "[0/±45/±45/0]S                          [0, 45, -45, 45, -45, 0, 0, -45, 45, -45, 45, 0]\n",
      "[(+/-45)S]3                             [45, -45, -45, 45, 45, -45, -45, 45, 45, -45, -45, 45]\n",
      "[(±45G)/(0)3C/(±45G)]                   [45, -45, 0, 0, 0, 45, -45]\n",
      "[0/±45/(0)2/+45]S                       [0, 45, -45, 0, 0, 45, 45, 0, 0, -45, 45, 0]\n",
      "[0/±45]4                                [0, 45, -45, 0, 45, -45, 0, 45, -45, 0, 45, -45]\n",
      "[(±45/0)3]S                             [45, -45, 0, 45, -45, 0, 45, -45, 0, 0, -45, 45, 0, -45, 45, 0, -45, 45]\n",
      "((±45)2/(0)2)S                          [45, -45, 45, -45, 0, 0, 0, 0, -45, 45, -45, 45]\n",
      "[±20]3                                  [20, -20, 20, -20, 20, -20]\n",
      "[0]7                                    [0, 0, 0, 0, 0, 0, 0]\n",
      "[±30]3                                  [30, -30, 30, -30, 30, -30]\n",
      "[(0/±45)3]S                             [0, 45, -45, 0, 45, -45, 0, 45, -45, -45, 45, 0, -45, 45, 0, -45, 45, 0]\n",
      "[0]9                                    [0, 0, 0, 0, 0, 0, 0, 0, 0]\n",
      "[0]8                                    [0, 0, 0, 0, 0, 0, 0, 0]\n",
      "[0]6                                    [0, 0, 0, 0, 0, 0]\n",
      "[(±45)/(90)2]S                          [45, -45, 90, 90, 90, 90, -45, 45]\n",
      "[0]2                                    [0, 0]\n",
      "(±45/(0)6C/±45)                         [45, -45, 0, 0, 0, 0, 0, 0, 45, -45]\n",
      "(RM/±45)3S                              [0, 45, -45, 0, 45, -45, 0, 45, -45, -45, 45, 0, -45, 45, 0, -45, 45, 0]\n",
      "[0/90]4                                 [0, 90, 0, 90, 0, 90, 0, 90]\n",
      "[0]10                                   [0, 0, 0, 0, 0, 0, 0, 0, 0, 0]\n",
      "[(±45)/(0)3C/±45)]                      [45, -45, 0, 0, 0, 45, -45]\n",
      "[(±45)2/(0)10]S                         [45, -45, 45, -45, 0, 0, 0, 0, 0, 0, 0, 0, 0, 0, 0, 0, 0, 0, 0, 0, 0, 0, 0, 0, -45, 45, -45, 45]\n",
      "[±45]3                                  [45, -45, 45, -45, 45, -45]\n",
      "[±60]3                                  [60, -60, 60, -60, 60, -60]\n",
      "[0/0/±45/±45]S                          [0, 0, 45, -45, 45, -45, -45, 45, -45, 45, 0, 0]\n",
      "[±45/(90)4C]S                           [45, -45, 90, 90, 90, 90, 90, 90, 90, 90, -45, 45]\n",
      "Injected Short Carbon fiber             []\n",
      "[(0/±45)/M/0/M/(±45/0)]                 [0, 45, -45, 0, 0, 0, 45, -45, 0]\n",
      "[(0)2/±45/(0)2]                         [0, 0, 45, -45, 0, 0]\n",
      "[(±45)/0/(±45)]S                        [45, -45, 0, 45, -45, -45, 45, 0, -45, 45]\n",
      "(±45)8                                  [45, -45, 45, -45, 45, -45, 45, -45, 45, -45, 45, -45, 45, -45, 45, -45]\n",
      "[90]4                                   [90, 90, 90, 90]\n",
      "[(0)2C/±45/(0)2C)                       [0, 0, 45, -45, 0, 0]\n",
      "[0]                                     [0]\n",
      "[±45/(0)3/+45]S                         [45, -45, 0, 0, 0, 45, 45, 0, 0, 0, -45, 45]\n",
      "(±45/0/±45)                             [45, -45, 0, 45, -45]\n",
      "(±45/0/0/0/±45)                         [45, -45, 0, 0, 0, 45, -45]\n",
      "[±45/±45/0/0]S                          [45, -45, 45, -45, 0, 0, 0, 0, -45, 45, -45, 45]\n",
      "[(0)2/±45/0/0C]S                        [0, 0, 45, -45, 0, 0, 0, 0, -45, 45, 0, 0]\n",
      "[0/±45]S                                [0, 45, -45, -45, 45, 0]\n",
      "[±70]3                                  [70, -70, 70, -70, 70, -70]\n",
      "[(±45)/(0)2]S                           [45, -45, 0, 0, 0, 0, -45, 45]\n",
      "[(90)2/M/±45/(90)2)]                    [90, 90, 0, 45, -45, 90, 90]\n",
      "[±45/(90)2/+45]S                        [45, -45, 90, 90, 45, 45, 90, 90, -45, 45]\n",
      "(0)N                                    [0]\n",
      "[(0)2/±45/0]S                           [0, 0, 45, -45, 0, 0, -45, 45, 0, 0]\n",
      "[±50]3                                  [50, -50, 50, -50, 50, -50]\n",
      "[(±45)4]S                               [45, -45, 45, -45, 45, -45, 45, -45, -45, 45, -45, 45, -45, 45, -45, 45]\n",
      "[90/0]2S                                [90, 0, 90, 0, 0, 90, 0, 90]\n",
      "[±45/[0]2/±45]                          [45, -45, 0, 0, 45, -45]\n",
      "(±45)6                                  [45, -45, 45, -45, 45, -45, 45, -45, 45, -45, 45, -45]\n",
      "[0/90]5                                 [0, 90, 0, 90, 0, 90, 0, 90, 0, 90]\n",
      "[M/±45/0)S]                             [0, 45, -45, 0, 0, -45, 45, 0]\n",
      "[0/±45/(0)3/±45/0]                      [0, 45, -45, 0, 0, 0, 45, -45, 0]\n",
      "[0/±45/0]                               [0, 45, -45, 0]\n",
      "[(0/±45)5]                              [0, 45, -45, 0, 45, -45, 0, 45, -45, 0, 45, -45, 0, 45, -45]\n",
      "(±45/0/±45)S                            [45, -45, 0, 45, -45, -45, 45, 0, -45, 45]\n",
      "[(±45/0/±45)]S                          [45, -45, 0, 45, -45, -45, 45, 0, -45, 45]\n",
      "[0]4                                    [0, 0, 0, 0]\n",
      "----                                    []\n",
      "[0/±45/0/±45/0]S                        [0, 45, -45, 0, 45, -45, 0, 0, -45, 45, 0, -45, 45, 0]\n",
      "(±45/0)(±45/0)                          [45, -45, 0, 45, -45, 0]\n",
      "(±45/(0)2)S                             [45, -45, 0, 0, 0, 0, -45, 45]\n",
      "[(0/±45)4]                              [0, 45, -45, 0, 45, -45, 0, 45, -45, 0, 45, -45]\n",
      "(±45/0/±45/0/±45)                       [45, -45, 0, 45, -45, 0, 45, -45]\n",
      "(±45/0)S                                [45, -45, 0, 0, -45, 45]\n",
      "[(±45/0)3/(0/±45)2]                     [45, -45, 0, 45, -45, 0, 45, -45, 0, 0, 45, -45, 0, 45, -45]\n",
      "[90/±45/90]S                            [90, 45, -45, 90, 90, -45, 45, 90]\n",
      "(+/-45)3S                               [45, -45, 45, -45, 45, -45, -45, 45, -45, 45, -45, 45]\n",
      "[0]3                                    [0, 0, 0]\n",
      "[0/±45/0]S                              [0, 45, -45, 0, 0, -45, 45, 0]\n",
      "[±45/(0)2/+45]S                         [45, -45, 0, 0, 45, 45, 0, 0, -45, 45]\n",
      "[90]6                                   [90, 90, 90, 90, 90, 90]\n",
      "[(±45)2]S                               [45, -45, 45, -45, -45, 45, -45, 45]\n",
      "[(±45)/0/(+45)]S                        [45, -45, 0, 45, 45, 0, -45, 45]\n",
      "[±45/(0)8/±45]                          [45, -45, 0, 0, 0, 0, 0, 0, 0, 0, 45, -45]\n",
      "[(±45)2/(0)2]S                          [45, -45, 45, -45, 0, 0, 0, 0, -45, 45, -45, 45]\n",
      "[±10]3                                  [10, -10, 10, -10, 10, -10]\n",
      "[(0)2/M/±45/(0)2)]                      [0, 0, 0, 45, -45, 0, 0]\n",
      "[±45]2S                                 [45, -45, 45, -45, -45, 45, -45, 45]\n",
      "[(RM/±45)S]3                            [0, 45, -45, -45, 45, 0, 0, 45, -45, -45, 45, 0, 0, 45, -45, -45, 45, 0]\n",
      "[±45/(0)4C]S                            [45, -45, 0, 0, 0, 0, 0, 0, 0, 0, -45, 45]\n",
      "[0/90]8                                 [0, 90, 0, 90, 0, 90, 0, 90, 0, 90, 0, 90, 0, 90, 0, 90]\n",
      "[±45/0/±45]S                            [45, -45, 0, 45, -45, -45, 45, 0, -45, 45]\n",
      "(+/-45)6                                [45, -45, 45, -45, 45, -45, 45, -45, 45, -45, 45, -45]\n",
      "[0]5                                    [0, 0, 0, 0, 0]\n",
      "[±45/0/0/±45]S                          [45, -45, 0, 0, 45, -45, -45, 45, 0, 0, -45, 45]\n",
      "[±80]3                                  [80, -80, 80, -80, 80, -80]\n"
     ]
    }
   ],
   "source": [
    "from utils import code2seq\n",
    "\n",
    "code2seq_dict = {}\n",
    "layups = df['Lay-up'].values\n",
    "for layer in list(set(layups)):\n",
    "    print(layer, end=' '*(40-len(layer)))\n",
    "    code2seq_dict[layer] = code2seq(layer)\n",
    "    print(code2seq_dict[layer])"
   ],
   "metadata": {
    "collapsed": false,
    "pycharm": {
     "name": "#%%\n"
    }
   }
  },
  {
   "cell_type": "code",
   "execution_count": null,
   "outputs": [],
   "source": [],
   "metadata": {
    "collapsed": false,
    "pycharm": {
     "name": "#%%\n"
    }
   }
  }
 ],
 "metadata": {
  "kernelspec": {
   "display_name": "Python 3",
   "language": "python",
   "name": "python3"
  },
  "language_info": {
   "codemirror_mode": {
    "name": "ipython",
    "version": 2
   },
   "file_extension": ".py",
   "mimetype": "text/x-python",
   "name": "python",
   "nbconvert_exporter": "python",
   "pygments_lexer": "ipython2",
   "version": "2.7.6"
  }
 },
 "nbformat": 4,
 "nbformat_minor": 0
}