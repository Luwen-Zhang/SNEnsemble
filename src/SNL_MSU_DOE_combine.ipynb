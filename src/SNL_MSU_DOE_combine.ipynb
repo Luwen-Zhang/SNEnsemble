{
 "cells": [
  {
   "cell_type": "markdown",
   "metadata": {
    "pycharm": {
     "name": "#%% md\n"
    }
   },
   "source": [
    "## Import data"
   ]
  },
  {
   "cell_type": "code",
   "execution_count": 1,
   "metadata": {
    "pycharm": {
     "name": "#%%\n"
    }
   },
   "outputs": [],
   "source": [
    "%load_ext autoreload\n",
    "%autoreload 2\n",
    "\n",
    "import pandas as pd\n",
    "import numpy as np\n",
    "from utils import *\n",
    "import matplotlib.pyplot as plt\n",
    "import matplotlib\n",
    "\n",
    "data_path = '../data/SNL_MSU_DOE_raw.xlsx'\n",
    "\n",
    "dfs = pd.read_excel(\n",
    "    data_path, engine='openpyxl', sheet_name=None)\n",
    "\n",
    "sheet_names = list(dfs.keys())\n",
    "sheet_names\n",
    "\n",
    "name_mapping = {\n",
    "    'Material': 'Material',\n",
    "    'Resin Type': 'Resin Type',\n",
    "    'Vf, %': 'Fibre Volumn Fraction',\n",
    "    '%, 0 Deg': 'Percentage of Fibre in 0-deg Direction',\n",
    "    '%, 45 Deg': 'Percentage of Fibre in 45-deg Direction',\n",
    "    '%, 90 Deg': 'Percentage of Fibre in 90-deg Direction',\n",
    "    'other %': 'Percentage of Fibre in Other Direction',\n",
    "    'Thickness, mm': 'Thickness',\n",
    "    'Max. Stress, MPa': 'Maximum Stress',\n",
    "    'Min. Stress, MPa': 'Minimum Stress',\n",
    "    'R-value': 'Minimum/Maximum Stress',\n",
    "    'Freq., Hz': 'Frequency',\n",
    "    'E, GPa': 'Initial Elastic Modulus',\n",
    "    'Max. % Strain': 'Maximum Strain',\n",
    "    'Min. % Strain': 'Minimum Strain',\n",
    "    'Cycles': 'Cycles to Failure',\n",
    "    'Moisture Gain, %': 'Moisture Gain',\n",
    "    'Testing Temperature, OC': 'Temperature',\n",
    "    'Width, mm': 'Width',\n",
    "    'Static Max. Stress, MPa': 'Static Maximum Tensile Stress',\n",
    "    'Static Min. Stress, MPa': 'Static Maximum Compressive Stress',\n",
    "    'Static E, GPa': 'Static Elastic Modulus',\n",
    "    'Static Max. % Strain': 'Static Maximum Tensile Strain',\n",
    "    'Static Min. % Strain': 'Static Maximum Compressive Strain',\n",
    "    'Absolute Maximum Stress': 'Absolute Maximum Stress',\n",
    "    'Absolute Peak-to-peak Stress': 'Absolute Peak-to-peak Stress',\n",
    "    'Relative Maximum Stress': 'Relative Maximum Stress',\n",
    "    'Relative Peak-to-peak Stress': 'Relative Peak-to-peak Stress'\n",
    "}"
   ]
  },
  {
   "cell_type": "code",
   "execution_count": 2,
   "metadata": {
    "pycharm": {
     "name": "#%%\n"
    }
   },
   "outputs": [
    {
     "name": "stdout",
     "output_type": "stream",
     "text": [
      "Deleted features ['Lay-up', 'Resin', '0 Deg fabric', '45 Deg fabric', '90 deg fabric', 'Cure / Post Cure', 'Process', 'Test #', 'Coupon', 'Runout', 'Cycles for 50% strain increase', 'Cycles for 100% strain increase', 'Cycles for 25% reduction in Modulus', 'Cycles for 1% strain', 'Freq., Hz or mm/s', 'E, GPa (0.1-0.3%)', 'Initial cracking strain, %', 'Modulus after initial cracking, GPa']\n"
     ]
    },
    {
     "name": "stderr",
     "output_type": "stream",
     "text": [
      "/home/xlluo/hdd/ML-fracture/venv/lib/python3.6/site-packages/seaborn/_decorators.py:43: FutureWarning: Pass the following variables as keyword args: x, y. From version 0.12, the only valid positional argument will be `data`, and passing other arguments without an explicit keyword will result in an error or misinterpretation.\n",
      "  FutureWarning\n"
     ]
    }
   ],
   "source": [
    "df_all = pd.concat([dfs[name] for name in sheet_names[2:]], axis=0, ignore_index=True)\n",
    "\n",
    "col_to_del = [x for x in df_all.columns if x not in name_mapping.keys()]\n",
    "print('Deleted features', col_to_del)\n",
    "\n",
    "df_tmp = replace_column_name(df_all, name_mapping)\n",
    "for col in col_to_del:\n",
    "    del df_tmp[col]\n",
    "    \n",
    "df_presence = calculate_absence_ratio(df_tmp)\n",
    "\n",
    "clr = sns.color_palette(\"deep\")\n",
    "\n",
    "plt.figure(figsize=(5,4),dpi=300)\n",
    "ax = plt.subplot(111)\n",
    "plot_absence_ratio(ax, df_presence, orient='h', palette=clr, linewidth=1, edgecolor=[0, 0, 0])\n",
    "plt.tight_layout()\n",
    "\n",
    "plt.savefig('../output/absence_ratio_initial.png')\n",
    "# plt.close()\n",
    "# plt.show()\n",
    "plt.close()"
   ]
  },
  {
   "cell_type": "markdown",
   "metadata": {
    "pycharm": {
     "name": "#%% md\n"
    }
   },
   "source": [
    "## Preprocess"
   ]
  },
  {
   "cell_type": "markdown",
   "metadata": {
    "pycharm": {
     "name": "#%% md\n"
    }
   },
   "source": [
    "### Fix missing and useless cells"
   ]
  },
  {
   "cell_type": "code",
   "execution_count": 3,
   "metadata": {
    "pycharm": {
     "name": "#%%\n"
    }
   },
   "outputs": [],
   "source": [
    "df_all = pd.concat([dfs[name] for name in sheet_names[2:]], axis=0, ignore_index=True)\n",
    "\n",
    "def remove_s(x, s):\n",
    "    if type(x) == str:\n",
    "        if s in x:\n",
    "            x = x.replace(s,'')\n",
    "            x = float(x)\n",
    "    return x\n",
    "\n",
    "def cal_fraction(x, s):\n",
    "    if type(x) == str:\n",
    "        if s in x:\n",
    "            x = x.split(s)\n",
    "            x = (float(x[0])+float(x[1]))/2\n",
    "    return x\n",
    "\n",
    "def conditional_remove(x, s):\n",
    "    if type(x) == str:\n",
    "        if s in x:\n",
    "            return np.nan\n",
    "    return x\n",
    "\n",
    "def conditional_replace(x, s1, s2):\n",
    "    if type(x) == str:\n",
    "        if s1 in x:\n",
    "            x = x.replace(s1, s2)\n",
    "    return x\n",
    "\n",
    "def str2num(x, s, n):\n",
    "    if type(x) == str:\n",
    "        if s == x:\n",
    "            x = n\n",
    "    return x\n",
    "\n",
    "def remove_strs(x):\n",
    "    if type(x) == str:\n",
    "        return np.nan\n",
    "    else:\n",
    "        return x\n",
    "\n",
    "def fill_na(x, n):\n",
    "    if np.isnan(x):\n",
    "        return n\n",
    "    else:\n",
    "        return x\n",
    "        \n",
    "\n",
    "def modify_col(df, column_name, func, **kargs):\n",
    "    col = df[column_name]\n",
    "    col = [func(x,**kargs) for x in col]\n",
    "    df.loc[:, column_name] = col\n",
    "\n",
    "\n",
    "modify_col(df_all, 'Testing Temperature, OC', remove_s, s=' ̊C')\n",
    "modify_col(df_all, '%, 45 Deg', remove_s, s=' G')\n",
    "modify_col(df_all, '%, 0 Deg', remove_s, s=' C')\n",
    "modify_col(df_all, 'other %', remove_s, s=' G')\n",
    "modify_col(df_all, 'Vf, %', cal_fraction, s='/')\n",
    "modify_col(df_all, '%, 0 Deg', cal_fraction, s='-')\n",
    "modify_col(df_all, '%, 45 Deg', cal_fraction, s='-')\n",
    "modify_col(df_all, 'Thickness, mm', conditional_remove, s='mm dia') #\n",
    "modify_col(df_all, 'Thickness, mm', conditional_remove, s='/') #\n",
    "modify_col(df_all, 'Max. Stress, MPa', remove_s, s='*')\n",
    "modify_col(df_all, 'Max. Stress, MPa', remove_s, s='+')\n",
    "modify_col(df_all, 'Max. Stress, MPa', conditional_remove, s='Newtons')\n",
    "modify_col(df_all, 'Min. Stress, MPa', conditional_remove, s='v')\n",
    "modify_col(df_all, 'R-value', conditional_remove, s='*')\n",
    "modify_col(df_all, 'R-value', conditional_replace, s1='static compression', s2='static')\n",
    "modify_col(df_all, 'Max. % Strain', conditional_remove, s='----')\n",
    "modify_col(df_all, 'Max. % Strain', remove_s, s='+')\n",
    "modify_col(df_all, 'Min. % Strain', conditional_remove, s='Runout')\n",
    "modify_col(df_all, 'E, GPa (0.1-0.3%)', conditional_remove, s='----')\n",
    "modify_col(df_all, 'Initial cracking strain, %', remove_strs)\n",
    "modify_col(df_all, 'Runout', str2num, s='Runout',n=1)\n",
    "modify_col(df_all, 'Runout', str2num, s='runout',n=1)\n",
    "# modify_col(df_all, 'Testing Temperature, OC', fill_na, n=20)\n",
    "\n",
    "# These columns use NaN to represent absence of fibre in the direction, so simply fillna by 0.\n",
    "fill_na_col = ['%, 0 Deg', '%, 45 Deg','%, 90 Deg','other %','45 Deg fabric','90 deg fabric','Runout']\n",
    "tmp = df_all[fill_na_col].fillna(0)\n",
    "df_all.loc[:,fill_na_col] = tmp\n",
    "\n",
    "def merge_col(df, from_col, to_col):\n",
    "    where = np.where(df[from_col].notna())[0]\n",
    "    df.loc[where, to_col] = df.loc[where, from_col]\n",
    "    del df[from_col]\n",
    "\n",
    "# These columns have different names in different sheets\n",
    "merge_col(df_all, 'E, GPa (0.1-0.3%)', 'E, GPa')\n",
    "merge_col(df_all, 'Freq., Hz or mm/s', 'Freq., Hz')\n",
    "\n",
    "# Some static experiments do not have R-value and cycles to failure are 1.\n",
    "df_all.loc[np.where(df_all['Cycles'] == 1)[0], 'R-value'] = 'static'"
   ]
  },
  {
   "cell_type": "markdown",
   "metadata": {
    "pycharm": {
     "name": "#%% md\n"
    }
   },
   "source": [
    "### Calculate missing Max/Min stress data using R-value"
   ]
  },
  {
   "cell_type": "code",
   "execution_count": 4,
   "metadata": {
    "pycharm": {
     "name": "#%%\n"
    }
   },
   "outputs": [],
   "source": [
    "static_indexes = np.where(df_all['R-value']=='static')[0]\n",
    "non_static_indexes = np.setdiff1d(df_all.index, static_indexes)\n",
    "miss_max_stress_indexes = np.where(np.isnan(df_all['Max. Stress, MPa']))[0]\n",
    "miss_min_stress_indexes = np.where(np.isnan(df_all['Min. Stress, MPa']))[0]\n",
    "miss_R_value_indexes = np.where(pd.isna(df_all['R-value']))[0]\n",
    "\n",
    "for idx in miss_max_stress_indexes:\n",
    "    if idx in non_static_indexes and type(df_all.loc[idx,'R-value'])!=str:\n",
    "        df_all.loc[idx,'Max. Stress, MPa'] = df_all.loc[idx,'Min. Stress, MPa']/df_all.loc[idx,'R-value']\n",
    "        \n",
    "for idx in miss_min_stress_indexes:\n",
    "    if idx in non_static_indexes and type(df_all.loc[idx,'R-value'])!=str:\n",
    "        df_all.loc[idx,'Min. Stress, MPa'] = df_all.loc[idx,'Max. Stress, MPa']*df_all.loc[idx,'R-value']\n",
    "        \n",
    "for idx in miss_R_value_indexes:\n",
    "    if idx in non_static_indexes:\n",
    "        df_all.loc[idx,'R-value'] = df_all.loc[idx,'Min. Stress, MPa']/df_all.loc[idx,'Max. Stress, MPa']"
   ]
  },
  {
   "cell_type": "code",
   "execution_count": 5,
   "metadata": {
    "pycharm": {
     "name": "#%%\n"
    }
   },
   "outputs": [],
   "source": [
    "df_all.to_excel('../data/SNL_MSU_DOE_combine.xlsx', engine='openpyxl', index=False)"
   ]
  },
  {
   "cell_type": "markdown",
   "metadata": {
    "pycharm": {
     "name": "#%% md\n"
    }
   },
   "source": [
    "### Extract and save static and fatigue data respectively"
   ]
  },
  {
   "cell_type": "code",
   "execution_count": 6,
   "metadata": {
    "pycharm": {
     "name": "#%%\n"
    }
   },
   "outputs": [],
   "source": [
    "\n",
    "# hide_cols = ['Lay-up','Resin Type','Resin','0 Deg fabric','45 Deg fabric','90 deg fabric','Cure / Post Cure','Process','Test #','Coupon']\n",
    "\n",
    "df_tmp = df_all.copy()\n",
    "# for col in hide_cols:\n",
    "#     del df_tmp[col]\n",
    "\n",
    "df_static = df_tmp.loc[static_indexes].copy()\n",
    "df_fatigue = df_tmp.loc[non_static_indexes].copy()\n",
    "\n",
    "df_static.reset_index(drop=True, inplace=True)\n",
    "df_fatigue.reset_index(drop=True, inplace=True)\n",
    "\n",
    "modify_col(df_fatigue, 'Freq., Hz', conditional_remove, s='mm/s')\n",
    "\n",
    "# df_fatigue.to_excel('../data/SNL_MSU_DOE_fatigue.xlsx', engine='openpyxl', index=False)\n",
    "df_static.to_excel('../data/SNL_MSU_DOE_static.xlsx', engine='openpyxl', index=False)"
   ]
  },
  {
   "cell_type": "markdown",
   "metadata": {
    "pycharm": {
     "name": "#%% md\n"
    }
   },
   "source": [
    "### Extract material properties from static experiments"
   ]
  },
  {
   "cell_type": "code",
   "execution_count": 7,
   "metadata": {
    "pycharm": {
     "name": "#%%\n"
    }
   },
   "outputs": [],
   "source": [
    "static_material_names = df_static['Material'].copy()\n",
    "static_lay_up = df_static['Lay-up'].copy()\n",
    "static_mat_lay = np.array([x+y for x,y in zip(static_material_names, static_lay_up)], dtype=str)\n",
    "static_properties = {}\n",
    "\n",
    "static_features = ['Max. Stress, MPa', 'Min. Stress, MPa', 'E, GPa', 'Max. % Strain', 'Min. % Strain']\n",
    "\n",
    "for material in list(set(static_mat_lay)):\n",
    "    where_material = np.where(static_mat_lay == material)[0]\n",
    "    # print(material, len(where_material))\n",
    "    material_data = df_static.loc[where_material, static_features].copy()\n",
    "    material_data.reset_index(drop=True, inplace=True)\n",
    "    material_df = {}\n",
    "    for feature in static_features:\n",
    "        for idx in range(len(material_data[feature])):\n",
    "            if type(material_data.loc[idx, feature]) == str:\n",
    "                material_data.loc[idx, feature] = np.nan\n",
    "        \n",
    "        presence_indexes = np.where(material_data[feature])[0]\n",
    "        mean_value = np.mean(material_data.loc[presence_indexes, feature])\n",
    "        material_df[feature] = mean_value\n",
    "    \n",
    "    material_df = pd.DataFrame(material_df, index=[0])\n",
    "    static_properties[material]=material_df\n",
    "\n",
    "fatigue_static_features = ['Static '+x for x in static_features]\n",
    "fatigue_material_names = df_fatigue['Material'].copy()\n",
    "fatigue_lay_up = df_fatigue['Lay-up'].copy()\n",
    "fatigue_mat_lay = np.array([x+y for x,y in zip(fatigue_material_names, fatigue_lay_up)], dtype=str)\n",
    "\n",
    "df_fatigue[fatigue_static_features] = np.nan\n",
    "            \n",
    "for material in list(set(static_mat_lay)):\n",
    "    where_material = np.where(fatigue_mat_lay == material)[0]\n",
    "    if len(where_material) > 0:\n",
    "        static_property = static_properties[material]\n",
    "        for feature in static_features:\n",
    "            df_fatigue.loc[where_material,'Static '+feature] = static_property[feature].values[0]\n"
   ]
  },
  {
   "cell_type": "markdown",
   "metadata": {},
   "source": [
    "## Calculate real max stress and relative p2pstress"
   ]
  },
  {
   "cell_type": "code",
   "execution_count": 8,
   "metadata": {},
   "outputs": [],
   "source": [
    "df_fatigue['Absolute Maximum Stress'] = np.nan\n",
    "df_fatigue['Absolute Peak-to-peak Stress'] = np.nan\n",
    "df_fatigue['Relative Maximum Stress'] = np.nan\n",
    "df_fatigue['Relative Peak-to-peak Stress'] = np.nan\n",
    "\n",
    "df_fatigue.loc[np.where(df_fatigue['Static Max. Stress, MPa']<0)[0],'Static Max. Stress, MPa'] = np.nan\n",
    "df_fatigue.loc[np.where(df_fatigue['Static Min. Stress, MPa']>0)[0],'Static Min. Stress, MPa'] = np.nan\n",
    "df_fatigue.loc[np.where(df_fatigue['Static Max. % Strain']<0)[0],'Static Max. % Strain'] = np.nan\n",
    "df_fatigue.loc[np.where(df_fatigue['Static Min. % Strain']>0)[0],'Static Min. % Strain'] = np.nan\n",
    "\n",
    "for idx in range(df_fatigue.values.shape[0]):\n",
    "    s = np.array([df_fatigue.loc[idx, 'Max. Stress, MPa'],df_fatigue.loc[idx, 'Min. Stress, MPa']])\n",
    "    which_max_stress = np.where(np.abs(s) == np.max(np.abs(s)))[0]\n",
    "    if len(which_max_stress) == 0:\n",
    "        which_max_stress = 1 - int(np.isnan(s[1])) # when nan appears in s\n",
    "    else:\n",
    "        which_max_stress = which_max_stress[0]\n",
    "        \n",
    "    relative_to = np.abs(df_fatigue.loc[idx,'Static Max. Stress, MPa']) if s[which_max_stress] > 0 else np.abs(df_fatigue.loc[idx,'Static Min. Stress, MPa'])\n",
    "    if np.isnan(relative_to) and s[0] + s[1] < 1e-5 and s[which_max_stress] > 0:\n",
    "        relative_to = np.abs(df_fatigue.loc[idx,'Static Min. Stress, MPa'])\n",
    "    df_fatigue.loc[idx,'Absolute Maximum Stress'] = s[which_max_stress]\n",
    "    df_fatigue.loc[idx,'Relative Maximum Stress'] = s[which_max_stress]/relative_to\n",
    "    \n",
    "    p2p = np.abs(s[0]-s[1])\n",
    "    if np.isnan(p2p):\n",
    "        p2p = np.abs(s[1 - int(np.isnan(s[1]))])\n",
    "        \n",
    "    df_fatigue.loc[idx,'Absolute Peak-to-peak Stress'] = p2p\n",
    "    df_fatigue.loc[idx,'Relative Peak-to-peak Stress'] = p2p/relative_to\n",
    "    \n",
    "df_fatigue.to_excel('../data/SNL_MSU_DOE_fatigue.xlsx', engine='openpyxl', index=False)"
   ]
  },
  {
   "cell_type": "markdown",
   "metadata": {
    "pycharm": {
     "name": "#%% md\n"
    }
   },
   "source": [
    "### Calculate and plot absence ratios"
   ]
  },
  {
   "cell_type": "code",
   "execution_count": 9,
   "metadata": {
    "pycharm": {
     "name": "#%%\n"
    }
   },
   "outputs": [
    {
     "name": "stdout",
     "output_type": "stream",
     "text": [
      "Deleted features ['Lay-up', 'Resin', '0 Deg fabric', '45 Deg fabric', '90 deg fabric', 'Cure / Post Cure', 'Process', 'Test #', 'Coupon', 'Runout', 'Cycles for 50% strain increase', 'Cycles for 100% strain increase', 'Cycles for 25% reduction in Modulus', 'Cycles for 1% strain', 'Initial cracking strain, %', 'Modulus after initial cracking, GPa']\n"
     ]
    },
    {
     "name": "stderr",
     "output_type": "stream",
     "text": [
      "/home/xlluo/hdd/ML-fracture/venv/lib/python3.6/site-packages/seaborn/_decorators.py:43: FutureWarning: Pass the following variables as keyword args: x, y. From version 0.12, the only valid positional argument will be `data`, and passing other arguments without an explicit keyword will result in an error or misinterpretation.\n",
      "  FutureWarning\n"
     ]
    }
   ],
   "source": [
    "col_to_del = [x for x in df_fatigue.columns if x not in name_mapping.keys()]\n",
    "print('Deleted features', col_to_del)\n",
    "\n",
    "df_tmp = replace_column_name(df_fatigue, name_mapping)\n",
    "for col in col_to_del:\n",
    "    del df_tmp[col]\n",
    "    \n",
    "df_presence = calculate_absence_ratio(df_tmp)\n",
    "\n",
    "clr = sns.color_palette(\"deep\")\n",
    "\n",
    "plt.figure(figsize=(5,4),dpi=300)\n",
    "ax = plt.subplot(111)\n",
    "plot_absence_ratio(ax, df_presence, orient='h', palette=clr, linewidth=1, edgecolor=[0, 0, 0])\n",
    "plt.tight_layout()\n",
    "\n",
    "plt.savefig('../output/absence_ratio.png')\n",
    "# plt.close()\n",
    "# plt.show()\n",
    "plt.close()"
   ]
  },
  {
   "cell_type": "code",
   "execution_count": 10,
   "metadata": {
    "pycharm": {
     "name": "#%%\n"
    }
   },
   "outputs": [
    {
     "data": {
      "text/html": [
       "<div>\n",
       "<style scoped>\n",
       "    .dataframe tbody tr th:only-of-type {\n",
       "        vertical-align: middle;\n",
       "    }\n",
       "\n",
       "    .dataframe tbody tr th {\n",
       "        vertical-align: top;\n",
       "    }\n",
       "\n",
       "    .dataframe thead th {\n",
       "        text-align: right;\n",
       "    }\n",
       "</style>\n",
       "<table border=\"1\" class=\"dataframe\">\n",
       "  <thead>\n",
       "    <tr style=\"text-align: right;\">\n",
       "      <th></th>\n",
       "      <th>feature</th>\n",
       "      <th>ratio</th>\n",
       "    </tr>\n",
       "  </thead>\n",
       "  <tbody>\n",
       "    <tr>\n",
       "      <th>0</th>\n",
       "      <td>Moisture Gain</td>\n",
       "      <td>0.949038</td>\n",
       "    </tr>\n",
       "    <tr>\n",
       "      <th>1</th>\n",
       "      <td>Temperature</td>\n",
       "      <td>0.924873</td>\n",
       "    </tr>\n",
       "    <tr>\n",
       "      <th>2</th>\n",
       "      <td>Static Maximum Compressive Strain</td>\n",
       "      <td>0.767549</td>\n",
       "    </tr>\n",
       "    <tr>\n",
       "      <th>3</th>\n",
       "      <td>Initial Elastic Modulus</td>\n",
       "      <td>0.571429</td>\n",
       "    </tr>\n",
       "    <tr>\n",
       "      <th>4</th>\n",
       "      <td>Width</td>\n",
       "      <td>0.544797</td>\n",
       "    </tr>\n",
       "    <tr>\n",
       "      <th>5</th>\n",
       "      <td>Minimum Strain</td>\n",
       "      <td>0.534111</td>\n",
       "    </tr>\n",
       "    <tr>\n",
       "      <th>6</th>\n",
       "      <td>Static Maximum Compressive Stress</td>\n",
       "      <td>0.333553</td>\n",
       "    </tr>\n",
       "    <tr>\n",
       "      <th>7</th>\n",
       "      <td>Maximum Strain</td>\n",
       "      <td>0.281440</td>\n",
       "    </tr>\n",
       "    <tr>\n",
       "      <th>8</th>\n",
       "      <td>Static Elastic Modulus</td>\n",
       "      <td>0.147460</td>\n",
       "    </tr>\n",
       "    <tr>\n",
       "      <th>9</th>\n",
       "      <td>Static Maximum Tensile Strain</td>\n",
       "      <td>0.145487</td>\n",
       "    </tr>\n",
       "    <tr>\n",
       "      <th>10</th>\n",
       "      <td>Static Maximum Tensile Stress</td>\n",
       "      <td>0.067730</td>\n",
       "    </tr>\n",
       "    <tr>\n",
       "      <th>11</th>\n",
       "      <td>Thickness</td>\n",
       "      <td>0.062962</td>\n",
       "    </tr>\n",
       "    <tr>\n",
       "      <th>12</th>\n",
       "      <td>Relative Maximum Stress</td>\n",
       "      <td>0.027125</td>\n",
       "    </tr>\n",
       "    <tr>\n",
       "      <th>13</th>\n",
       "      <td>Relative Peak-to-peak Stress</td>\n",
       "      <td>0.027125</td>\n",
       "    </tr>\n",
       "    <tr>\n",
       "      <th>14</th>\n",
       "      <td>Fibre Volumn Fraction</td>\n",
       "      <td>0.015946</td>\n",
       "    </tr>\n",
       "    <tr>\n",
       "      <th>15</th>\n",
       "      <td>Minimum/Maximum Stress</td>\n",
       "      <td>0.006083</td>\n",
       "    </tr>\n",
       "    <tr>\n",
       "      <th>16</th>\n",
       "      <td>Maximum Stress</td>\n",
       "      <td>0.005589</td>\n",
       "    </tr>\n",
       "    <tr>\n",
       "      <th>17</th>\n",
       "      <td>Cycles to Failure</td>\n",
       "      <td>0.000822</td>\n",
       "    </tr>\n",
       "    <tr>\n",
       "      <th>18</th>\n",
       "      <td>Frequency</td>\n",
       "      <td>0.000658</td>\n",
       "    </tr>\n",
       "    <tr>\n",
       "      <th>19</th>\n",
       "      <td>Minimum Stress</td>\n",
       "      <td>0.000658</td>\n",
       "    </tr>\n",
       "    <tr>\n",
       "      <th>20</th>\n",
       "      <td>Absolute Maximum Stress</td>\n",
       "      <td>0.000164</td>\n",
       "    </tr>\n",
       "    <tr>\n",
       "      <th>21</th>\n",
       "      <td>Absolute Peak-to-peak Stress</td>\n",
       "      <td>0.000164</td>\n",
       "    </tr>\n",
       "    <tr>\n",
       "      <th>22</th>\n",
       "      <td>Percentage of Fibre in Other Direction</td>\n",
       "      <td>0.000000</td>\n",
       "    </tr>\n",
       "    <tr>\n",
       "      <th>23</th>\n",
       "      <td>Percentage of Fibre in 90-deg Direction</td>\n",
       "      <td>0.000000</td>\n",
       "    </tr>\n",
       "    <tr>\n",
       "      <th>24</th>\n",
       "      <td>Percentage of Fibre in 45-deg Direction</td>\n",
       "      <td>0.000000</td>\n",
       "    </tr>\n",
       "    <tr>\n",
       "      <th>25</th>\n",
       "      <td>Percentage of Fibre in 0-deg Direction</td>\n",
       "      <td>0.000000</td>\n",
       "    </tr>\n",
       "    <tr>\n",
       "      <th>26</th>\n",
       "      <td>Resin Type</td>\n",
       "      <td>0.000000</td>\n",
       "    </tr>\n",
       "    <tr>\n",
       "      <th>27</th>\n",
       "      <td>Material</td>\n",
       "      <td>0.000000</td>\n",
       "    </tr>\n",
       "  </tbody>\n",
       "</table>\n",
       "</div>"
      ],
      "text/plain": [
       "                                    feature     ratio\n",
       "0                             Moisture Gain  0.949038\n",
       "1                               Temperature  0.924873\n",
       "2         Static Maximum Compressive Strain  0.767549\n",
       "3                   Initial Elastic Modulus  0.571429\n",
       "4                                     Width  0.544797\n",
       "5                            Minimum Strain  0.534111\n",
       "6         Static Maximum Compressive Stress  0.333553\n",
       "7                            Maximum Strain  0.281440\n",
       "8                    Static Elastic Modulus  0.147460\n",
       "9             Static Maximum Tensile Strain  0.145487\n",
       "10            Static Maximum Tensile Stress  0.067730\n",
       "11                                Thickness  0.062962\n",
       "12                  Relative Maximum Stress  0.027125\n",
       "13             Relative Peak-to-peak Stress  0.027125\n",
       "14                    Fibre Volumn Fraction  0.015946\n",
       "15                   Minimum/Maximum Stress  0.006083\n",
       "16                           Maximum Stress  0.005589\n",
       "17                        Cycles to Failure  0.000822\n",
       "18                                Frequency  0.000658\n",
       "19                           Minimum Stress  0.000658\n",
       "20                  Absolute Maximum Stress  0.000164\n",
       "21             Absolute Peak-to-peak Stress  0.000164\n",
       "22   Percentage of Fibre in Other Direction  0.000000\n",
       "23  Percentage of Fibre in 90-deg Direction  0.000000\n",
       "24  Percentage of Fibre in 45-deg Direction  0.000000\n",
       "25   Percentage of Fibre in 0-deg Direction  0.000000\n",
       "26                               Resin Type  0.000000\n",
       "27                                 Material  0.000000"
      ]
     },
     "execution_count": 10,
     "metadata": {},
     "output_type": "execute_result"
    }
   ],
   "source": [
    "df_presence"
   ]
  },
  {
   "cell_type": "code",
   "execution_count": null,
   "metadata": {
    "pycharm": {
     "name": "#%%\n"
    }
   },
   "outputs": [],
   "source": []
  }
 ],
 "metadata": {
  "kernelspec": {
   "display_name": "Python 3.6.9 ('venv': venv)",
   "language": "python",
   "name": "python3"
  },
  "language_info": {
   "codemirror_mode": {
    "name": "ipython",
    "version": 3
   },
   "file_extension": ".py",
   "mimetype": "text/x-python",
   "name": "python",
   "nbconvert_exporter": "python",
   "pygments_lexer": "ipython3",
   "version": "3.6.9"
  },
  "orig_nbformat": 4,
  "vscode": {
   "interpreter": {
    "hash": "f15373116f3f1333770e7ecbd767398a2d7ae8734f1a603bc2fc87ae52980838"
   }
  }
 },
 "nbformat": 4,
 "nbformat_minor": 2
}
