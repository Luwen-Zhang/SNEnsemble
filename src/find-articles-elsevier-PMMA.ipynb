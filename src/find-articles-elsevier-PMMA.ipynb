{
 "cells": [
  {
   "cell_type": "code",
   "execution_count": 1,
   "metadata": {
    "collapsed": false,
    "pycharm": {
     "name": "#%%\n"
    }
   },
   "outputs": [],
   "source": [
    "from elsapy.elsclient import ElsClient\n",
    "from elsapy.elsprofile import ElsAuthor, ElsAffil\n",
    "from elsapy.elsdoc import FullDoc, AbsDoc\n",
    "from elsapy.elssearch import ElsSearch\n",
    "from elsapy.utils import recast_df\n",
    "import pandas as pd\n",
    "import json\n",
    "\n",
    "## Load configuration\n",
    "con_file = open(\"config.json\")\n",
    "config = json.load(con_file)\n",
    "con_file.close()\n",
    "\n",
    "## Initialize client\n",
    "client = ElsClient(config['apikey'])\n",
    "# client.inst_token = config['insttoken']\n"
   ]
  },
  {
   "cell_type": "code",
   "execution_count": 2,
   "metadata": {
    "collapsed": false,
    "pycharm": {
     "name": "#%%\n"
    }
   },
   "outputs": [],
   "source": [
    "# See https://github.com/ElsevierDev/elsapy/blob/master/elsapy/elssearch.py for the original execute function\n",
    "\n",
    "from urllib.parse import quote_plus as url_encode\n",
    "\n",
    "class myElsSearch(ElsSearch):\n",
    "    def __init__(self, query, index, count = 25):\n",
    "        super(myElsSearch, self).__init__(query, index)\n",
    "        self._uri = self._base_url + self.index + '?count='+str(count)+'&query=' + url_encode(\n",
    "                self.query)\n",
    "\n",
    "    def execute(self, els_client=None, get_all=False):\n",
    "        api_response = els_client.exec_request(self._uri)\n",
    "        self._tot_num_res = int(api_response['search-results']['opensearch:totalResults'])\n",
    "        self._results = api_response['search-results']['entry']\n",
    "        if get_all is True:\n",
    "            while (self.num_res < self.tot_num_res) and not self._upper_limit_reached():\n",
    "                for e in api_response['search-results']['link']:\n",
    "                    if e['@ref'] == 'next':\n",
    "                        next_url = e['@href']\n",
    "                api_response = els_client.exec_request(next_url)\n",
    "                self._results += api_response['search-results']['entry']\n",
    "                print(f'{self.num_res}/{self.tot_num_res}, {next_url}')\n",
    "        self.results_df = recast_df(pd.DataFrame(self._results))"
   ]
  },
  {
   "cell_type": "code",
   "execution_count": 3,
   "metadata": {
    "collapsed": false,
    "pycharm": {
     "name": "#%%\n"
    }
   },
   "outputs": [
    {
     "name": "stdout",
     "output_type": "stream",
     "text": [
      "346/346, https://api.elsevier.com/content/search/scopus?start=200&count=200&query=TITLE-ABS-KEY%28fracture+AND+PMMA+AND+experiment+OR+test+AND+tension+OR+tensile%29\n",
      "Find 346 results.\n"
     ]
    }
   ],
   "source": [
    "srch_line = 'fracture AND PMMA AND experiment OR test AND tension OR tensile'\n",
    "\n",
    "srch = myElsSearch('TITLE-ABS-KEY('+srch_line+')','scopus',count=200)\n",
    "srch.execute(client, get_all=True)\n",
    "\n",
    "print('Find', srch.num_res, 'results.')"
   ]
  },
  {
   "cell_type": "code",
   "execution_count": null,
   "outputs": [],
   "source": [
    "srch.results[0]"
   ],
   "metadata": {
    "collapsed": false,
    "pycharm": {
     "name": "#%%\n"
    }
   }
  },
  {
   "cell_type": "code",
   "execution_count": null,
   "outputs": [],
   "source": [
    "df = pd.DataFrame(columns = ['doi', 'title', 'publication_name', 'url'])\n",
    "\n",
    "for item in srch.results:\n",
    "    try:\n",
    "        item_df = pd.DataFrame({\n",
    "            'doi': item['prism:doi'],\n",
    "            'title': item['dc:title'],\n",
    "            'publication_name': item['prism:publicationName'],\n",
    "            'url': '=HYPERLINK(\\\"https://doi.org/'+item['prism:doi']+'\\\",\\\"DOI Link\\\")'\n",
    "        }, index=[0])\n",
    "        df = pd.concat([df,item_df], ignore_index=True)\n",
    "\n",
    "    except:\n",
    "        pass\n",
    "\n",
    "df.reset_index()\n",
    "df.to_excel('../data/'+srch_line+'.xlsx', index=False)\n",
    "df.to_excel('../data/Extracted - '+srch_line+'.xlsx', index=False)"
   ],
   "metadata": {
    "collapsed": false,
    "pycharm": {
     "name": "#%%\n"
    }
   }
  },
  {
   "cell_type": "code",
   "execution_count": 5,
   "metadata": {
    "collapsed": false,
    "pycharm": {
     "name": "#%%\n"
    }
   },
   "outputs": [],
   "source": [
    "df = pd.DataFrame(columns = ['doi', 'title', 'publication_name', 'url'])\n",
    "\n",
    "for item in srch.results:\n",
    "    try:\n",
    "        item_df = pd.DataFrame({\n",
    "            'doi': item['prism:doi'],\n",
    "            'title': item['dc:title'],\n",
    "            'publication_name': item['prism:publicationName'],\n",
    "            'url': '=HYPERLINK(\\\"https://doi.org/'+item['prism:doi']+'\\\",\\\"DOI Link\\\")'\n",
    "        }, index=[0])\n",
    "        df = pd.concat([df,item_df], ignore_index=True)\n",
    "\n",
    "    except:\n",
    "        pass\n",
    "\n",
    "df.reset_index()\n",
    "df.to_excel('../data/'+srch_line+'.xlsx', index=False)\n",
    "df.to_excel('../data/Extracted - '+srch_line+'.xlsx', index=False)"
   ]
  },
  {
   "cell_type": "code",
   "execution_count": null,
   "metadata": {
    "collapsed": false,
    "pycharm": {
     "name": "#%%\n"
    }
   },
   "outputs": [],
   "source": []
  }
 ],
 "metadata": {
  "kernelspec": {
   "display_name": "Python 3.6.9 ('venv': venv)",
   "language": "python",
   "name": "python3"
  },
  "language_info": {
   "codemirror_mode": {
    "name": "ipython",
    "version": 3
   },
   "file_extension": ".py",
   "mimetype": "text/x-python",
   "name": "python",
   "nbconvert_exporter": "python",
   "pygments_lexer": "ipython3",
   "version": "3.6.9"
  },
  "vscode": {
   "interpreter": {
    "hash": "f15373116f3f1333770e7ecbd767398a2d7ae8734f1a603bc2fc87ae52980838"
   }
  }
 },
 "nbformat": 4,
 "nbformat_minor": 0
}