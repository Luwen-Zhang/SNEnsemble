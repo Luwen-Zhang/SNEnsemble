{
 "cells": [
  {
   "cell_type": "code",
   "execution_count": 2,
   "metadata": {
    "pycharm": {
     "name": "#%%\n"
    }
   },
   "outputs": [
    {
     "data": {
      "text/plain": "              Table  optiDAT nr.               Name Property Plate  \\\n0     Table OptiMat       4001.0  GEV207_S0300_0227           1017   \n1     Table OptiMat       4000.0  GEV207_S0300_0228           1017   \n2     Table OptiMat       3999.0  GEV213_R0390_0411            110   \n3     Table OptiMat       3998.0  GEV213_R0390_0412            110   \n4     Table OptiMat       3997.0  GEV213_R0390_0413            110   \n...             ...          ...                ...            ...   \n3430  Table OptiMat         11.0  GEV201_D0100_0011       GEV02014   \n3431  Table OptiMat          9.0  GEV201_D0100_0009       GEV02014   \n3432  Table OptiMat          6.0  GEV201_D0100_0006       GEV02014   \n3433  Table OptiMat          4.0  GEV201_D0100_0004       GEV02014   \n3434  Table OptiMat          1.0  GEV201_D0100_0001       GEV02014   \n\n      Fibre Volume Fraction   Lab Property Laminate Cut angle  Manufacturer  \\\n0                       NaN  CRES               MD2          0       GAMESA   \n1                       NaN  CRES               MD2          0       GAMESA   \n2                     56.05  CRES               UD3         90           LM   \n3                     56.05  CRES               UD3         90           LM   \n4                     56.05  CRES               UD3         90           LM   \n...                     ...   ...               ...        ...          ...   \n3430                    NaN   WMC               UD1          0           LM   \n3431                    NaN  RISØ               UD1          0           LM   \n3432                    NaN   WMC               UD1          0           LM   \n3433                    NaN  RISØ               UD1          0           LM   \n3434                    NaN   WMC               UD1          0           LM   \n\n     Property Geometry  ... Geometry-Repair-repair material Laminate- 0°  \\\n0                S0300  ...                             NaN          4.0   \n1                S0300  ...                             NaN          4.0   \n2                R0390  ...                             NaN          7.0   \n3                R0390  ...                             NaN          7.0   \n4                R0390  ...                             NaN          7.0   \n...                ...  ...                             ...          ...   \n3430             D0100  ...                             NaN          5.0   \n3431             D0100  ...                             NaN          5.0   \n3432             D0100  ...                             NaN          5.0   \n3433             D0100  ...                             NaN          5.0   \n3434             D0100  ...                             NaN          5.0   \n\n      Geometry-L  Laminate- 90°  Plate-Fibre content-Std.deviation W/W%  \\\n0          610.0            0.0                                     NaN   \n1          610.0            0.0                                     NaN   \n2          145.0            0.0                                    0.34   \n3          145.0            0.0                                    0.34   \n4          145.0            0.0                                    0.34   \n...          ...            ...                                     ...   \n3430         NaN            0.0                                     NaN   \n3431         NaN            0.0                                     NaN   \n3432         NaN            0.0                                     NaN   \n3433         NaN            0.0                                     NaN   \n3434         NaN            0.0                                     NaN   \n\n      Plate-Resin content-Std. deviation  \\\n0                                    NaN   \n1                                    NaN   \n2                                   0.46   \n3                                   0.46   \n4                                   0.46   \n...                                  ...   \n3430                                 NaN   \n3431                                 NaN   \n3432                                 NaN   \n3433                                 NaN   \n3434                                 NaN   \n\n     Plate-Fibre content-Std. Deviation V/V%           Laminate-Resin  \\\n0                                        NaN  Prime 20, slow hardener   \n1                                        NaN  Prime 20, slow hardener   \n2                                       0.43  Prime 20, slow hardener   \n3                                       0.43  Prime 20, slow hardener   \n4                                       0.43  Prime 20, slow hardener   \n...                                      ...                      ...   \n3430                                     NaN  Prime 20, slow hardener   \n3431                                     NaN  Prime 20, slow hardener   \n3432                                     NaN  Prime 20, slow hardener   \n3433                                     NaN  Prime 20, slow hardener   \n3434                                     NaN  Prime 20, slow hardener   \n\n      Plate-Fibre content-Average V/V%  Laminate-Fibre  \n0                                  NaN         PPG2002  \n1                                  NaN         PPG2002  \n2                                56.05         PPG2002  \n3                                56.05         PPG2002  \n4                                56.05         PPG2002  \n...                                ...             ...  \n3430                               NaN         PPG2002  \n3431                               NaN         PPG2002  \n3432                               NaN         PPG2002  \n3433                               NaN         PPG2002  \n3434                               NaN         PPG2002  \n\n[3435 rows x 138 columns]",
      "text/html": "<div>\n<style scoped>\n    .dataframe tbody tr th:only-of-type {\n        vertical-align: middle;\n    }\n\n    .dataframe tbody tr th {\n        vertical-align: top;\n    }\n\n    .dataframe thead th {\n        text-align: right;\n    }\n</style>\n<table border=\"1\" class=\"dataframe\">\n  <thead>\n    <tr style=\"text-align: right;\">\n      <th></th>\n      <th>Table</th>\n      <th>optiDAT nr.</th>\n      <th>Name</th>\n      <th>Property Plate</th>\n      <th>Fibre Volume Fraction</th>\n      <th>Lab</th>\n      <th>Property Laminate</th>\n      <th>Cut angle</th>\n      <th>Manufacturer</th>\n      <th>Property Geometry</th>\n      <th>...</th>\n      <th>Geometry-Repair-repair material</th>\n      <th>Laminate- 0°</th>\n      <th>Geometry-L</th>\n      <th>Laminate- 90°</th>\n      <th>Plate-Fibre content-Std.deviation W/W%</th>\n      <th>Plate-Resin content-Std. deviation</th>\n      <th>Plate-Fibre content-Std. Deviation V/V%</th>\n      <th>Laminate-Resin</th>\n      <th>Plate-Fibre content-Average V/V%</th>\n      <th>Laminate-Fibre</th>\n    </tr>\n  </thead>\n  <tbody>\n    <tr>\n      <th>0</th>\n      <td>Table OptiMat</td>\n      <td>4001.0</td>\n      <td>GEV207_S0300_0227</td>\n      <td>1017</td>\n      <td>NaN</td>\n      <td>CRES</td>\n      <td>MD2</td>\n      <td>0</td>\n      <td>GAMESA</td>\n      <td>S0300</td>\n      <td>...</td>\n      <td>NaN</td>\n      <td>4.0</td>\n      <td>610.0</td>\n      <td>0.0</td>\n      <td>NaN</td>\n      <td>NaN</td>\n      <td>NaN</td>\n      <td>Prime 20, slow hardener</td>\n      <td>NaN</td>\n      <td>PPG2002</td>\n    </tr>\n    <tr>\n      <th>1</th>\n      <td>Table OptiMat</td>\n      <td>4000.0</td>\n      <td>GEV207_S0300_0228</td>\n      <td>1017</td>\n      <td>NaN</td>\n      <td>CRES</td>\n      <td>MD2</td>\n      <td>0</td>\n      <td>GAMESA</td>\n      <td>S0300</td>\n      <td>...</td>\n      <td>NaN</td>\n      <td>4.0</td>\n      <td>610.0</td>\n      <td>0.0</td>\n      <td>NaN</td>\n      <td>NaN</td>\n      <td>NaN</td>\n      <td>Prime 20, slow hardener</td>\n      <td>NaN</td>\n      <td>PPG2002</td>\n    </tr>\n    <tr>\n      <th>2</th>\n      <td>Table OptiMat</td>\n      <td>3999.0</td>\n      <td>GEV213_R0390_0411</td>\n      <td>110</td>\n      <td>56.05</td>\n      <td>CRES</td>\n      <td>UD3</td>\n      <td>90</td>\n      <td>LM</td>\n      <td>R0390</td>\n      <td>...</td>\n      <td>NaN</td>\n      <td>7.0</td>\n      <td>145.0</td>\n      <td>0.0</td>\n      <td>0.34</td>\n      <td>0.46</td>\n      <td>0.43</td>\n      <td>Prime 20, slow hardener</td>\n      <td>56.05</td>\n      <td>PPG2002</td>\n    </tr>\n    <tr>\n      <th>3</th>\n      <td>Table OptiMat</td>\n      <td>3998.0</td>\n      <td>GEV213_R0390_0412</td>\n      <td>110</td>\n      <td>56.05</td>\n      <td>CRES</td>\n      <td>UD3</td>\n      <td>90</td>\n      <td>LM</td>\n      <td>R0390</td>\n      <td>...</td>\n      <td>NaN</td>\n      <td>7.0</td>\n      <td>145.0</td>\n      <td>0.0</td>\n      <td>0.34</td>\n      <td>0.46</td>\n      <td>0.43</td>\n      <td>Prime 20, slow hardener</td>\n      <td>56.05</td>\n      <td>PPG2002</td>\n    </tr>\n    <tr>\n      <th>4</th>\n      <td>Table OptiMat</td>\n      <td>3997.0</td>\n      <td>GEV213_R0390_0413</td>\n      <td>110</td>\n      <td>56.05</td>\n      <td>CRES</td>\n      <td>UD3</td>\n      <td>90</td>\n      <td>LM</td>\n      <td>R0390</td>\n      <td>...</td>\n      <td>NaN</td>\n      <td>7.0</td>\n      <td>145.0</td>\n      <td>0.0</td>\n      <td>0.34</td>\n      <td>0.46</td>\n      <td>0.43</td>\n      <td>Prime 20, slow hardener</td>\n      <td>56.05</td>\n      <td>PPG2002</td>\n    </tr>\n    <tr>\n      <th>...</th>\n      <td>...</td>\n      <td>...</td>\n      <td>...</td>\n      <td>...</td>\n      <td>...</td>\n      <td>...</td>\n      <td>...</td>\n      <td>...</td>\n      <td>...</td>\n      <td>...</td>\n      <td>...</td>\n      <td>...</td>\n      <td>...</td>\n      <td>...</td>\n      <td>...</td>\n      <td>...</td>\n      <td>...</td>\n      <td>...</td>\n      <td>...</td>\n      <td>...</td>\n      <td>...</td>\n    </tr>\n    <tr>\n      <th>3430</th>\n      <td>Table OptiMat</td>\n      <td>11.0</td>\n      <td>GEV201_D0100_0011</td>\n      <td>GEV02014</td>\n      <td>NaN</td>\n      <td>WMC</td>\n      <td>UD1</td>\n      <td>0</td>\n      <td>LM</td>\n      <td>D0100</td>\n      <td>...</td>\n      <td>NaN</td>\n      <td>5.0</td>\n      <td>NaN</td>\n      <td>0.0</td>\n      <td>NaN</td>\n      <td>NaN</td>\n      <td>NaN</td>\n      <td>Prime 20, slow hardener</td>\n      <td>NaN</td>\n      <td>PPG2002</td>\n    </tr>\n    <tr>\n      <th>3431</th>\n      <td>Table OptiMat</td>\n      <td>9.0</td>\n      <td>GEV201_D0100_0009</td>\n      <td>GEV02014</td>\n      <td>NaN</td>\n      <td>RISØ</td>\n      <td>UD1</td>\n      <td>0</td>\n      <td>LM</td>\n      <td>D0100</td>\n      <td>...</td>\n      <td>NaN</td>\n      <td>5.0</td>\n      <td>NaN</td>\n      <td>0.0</td>\n      <td>NaN</td>\n      <td>NaN</td>\n      <td>NaN</td>\n      <td>Prime 20, slow hardener</td>\n      <td>NaN</td>\n      <td>PPG2002</td>\n    </tr>\n    <tr>\n      <th>3432</th>\n      <td>Table OptiMat</td>\n      <td>6.0</td>\n      <td>GEV201_D0100_0006</td>\n      <td>GEV02014</td>\n      <td>NaN</td>\n      <td>WMC</td>\n      <td>UD1</td>\n      <td>0</td>\n      <td>LM</td>\n      <td>D0100</td>\n      <td>...</td>\n      <td>NaN</td>\n      <td>5.0</td>\n      <td>NaN</td>\n      <td>0.0</td>\n      <td>NaN</td>\n      <td>NaN</td>\n      <td>NaN</td>\n      <td>Prime 20, slow hardener</td>\n      <td>NaN</td>\n      <td>PPG2002</td>\n    </tr>\n    <tr>\n      <th>3433</th>\n      <td>Table OptiMat</td>\n      <td>4.0</td>\n      <td>GEV201_D0100_0004</td>\n      <td>GEV02014</td>\n      <td>NaN</td>\n      <td>RISØ</td>\n      <td>UD1</td>\n      <td>0</td>\n      <td>LM</td>\n      <td>D0100</td>\n      <td>...</td>\n      <td>NaN</td>\n      <td>5.0</td>\n      <td>NaN</td>\n      <td>0.0</td>\n      <td>NaN</td>\n      <td>NaN</td>\n      <td>NaN</td>\n      <td>Prime 20, slow hardener</td>\n      <td>NaN</td>\n      <td>PPG2002</td>\n    </tr>\n    <tr>\n      <th>3434</th>\n      <td>Table OptiMat</td>\n      <td>1.0</td>\n      <td>GEV201_D0100_0001</td>\n      <td>GEV02014</td>\n      <td>NaN</td>\n      <td>WMC</td>\n      <td>UD1</td>\n      <td>0</td>\n      <td>LM</td>\n      <td>D0100</td>\n      <td>...</td>\n      <td>NaN</td>\n      <td>5.0</td>\n      <td>NaN</td>\n      <td>0.0</td>\n      <td>NaN</td>\n      <td>NaN</td>\n      <td>NaN</td>\n      <td>Prime 20, slow hardener</td>\n      <td>NaN</td>\n      <td>PPG2002</td>\n    </tr>\n  </tbody>\n</table>\n<p>3435 rows × 138 columns</p>\n</div>"
     },
     "execution_count": 2,
     "metadata": {},
     "output_type": "execute_result"
    }
   ],
   "source": [
    "from tables2table import Tables2Table\n",
    "\n",
    "ex = Tables2Table('../data/OptiMat.xlsx')\n",
    "ex.read()\n",
    "ex.get_data()"
   ]
  },
  {
   "cell_type": "code",
   "execution_count": 2,
   "metadata": {
    "pycharm": {
     "name": "#%%\n"
    }
   },
   "outputs": [
    {
     "data": {
      "text/plain": [
       "array([ 106,  107,  108,  109,  110,  111,  112,  113,  114,  115,  116,\n",
       "        117,  118,  119,  120,  121,  122,  123,  124,  125,  126,  127,\n",
       "        128,  129,  130,  131,  132,  133,  134,  135,  136,  137,  138,\n",
       "        139,  140,  141,  142,  143,  144,  145,  318,  319,  320,  321,\n",
       "        322,  323,  324,  325,  326,  327,  660,  661,  662,  663,  664,\n",
       "        665,  666,  667,  668,  669,  670,  671,  672,  673,  674,  675,\n",
       "        676,  677,  678,  679,  680,  681,  682,  683, 1069, 1070, 1071,\n",
       "       1072, 1073, 1074, 1075, 1076, 1077, 1078, 1079, 1080, 1081, 1082,\n",
       "       1090, 1091, 1092, 1093, 1094, 1095, 1441, 1442, 1443, 1444, 1445,\n",
       "       1446, 1447, 1448, 1449, 1450, 1451, 1452, 1453, 1454, 1455, 1456,\n",
       "       1457, 1458, 1459, 1460, 1461, 1462, 1463, 1464, 1465, 1466, 1467,\n",
       "       1468, 1469, 1470, 1471, 1472, 1473, 1474, 1475, 1476, 1477, 1478,\n",
       "       1479, 1480, 1481, 1590, 1591, 1592, 1593, 1594, 1595, 1596, 1597,\n",
       "       1598, 1599, 1600, 1601, 1602, 1603, 1604, 1605, 1606, 1607, 1608,\n",
       "       1609, 1610, 1611, 1612, 1613, 1614, 1615, 1616, 1617, 1618, 1619,\n",
       "       1620, 1621, 1622, 1623, 1624, 1625, 1626, 1627, 1628, 1629, 1630,\n",
       "       1631, 1632, 1633, 1634, 1635, 1636, 1637, 1638, 1639, 2174, 2175,\n",
       "       2176, 2177, 2178, 2179, 2180, 2181, 2182, 2183, 2184, 2185, 2186,\n",
       "       2187, 2188, 2189, 2190, 2191, 2192, 2193, 2194, 2195, 2196, 2197,\n",
       "       2198, 2199, 2200, 2201, 2202, 2203, 2204, 2205, 2206, 2207, 2208,\n",
       "       2209, 2210, 2211, 2212, 2213, 2214, 2215, 2635, 2636, 2637, 2638,\n",
       "       2639, 2640, 2641, 2642, 2643, 2644, 2645, 2646, 2647, 2648, 2649,\n",
       "       2650, 2651, 2652, 2653, 2654, 2655, 2656, 2657, 2658, 2659, 2660,\n",
       "       2661])"
      ]
     },
     "execution_count": 2,
     "metadata": {},
     "output_type": "execute_result"
    }
   ],
   "source": [
    "def linear_func(x):\n",
    "    return x\n",
    "\n",
    "ex.apply_transform('Geometry-maximum\\nwidth', 'wmax', linear_func)\n",
    "ex.apply_transform('Geometry-maximum\\nwidth', 'wmin', linear_func)\n",
    "ex.apply_transform('Geometry-maximum\\nwidth', 'waverage', linear_func)"
   ]
  },
  {
   "cell_type": "code",
   "execution_count": 3,
   "metadata": {
    "pycharm": {
     "name": "#%%\n"
    }
   },
   "outputs": [],
   "source": [
    "ex.to_excel('../output/OptiMat_combine.xlsx', index=False)"
   ]
  },
  {
   "cell_type": "code",
   "execution_count": null,
   "metadata": {
    "pycharm": {
     "name": "#%%\n"
    }
   },
   "outputs": [],
   "source": []
  }
 ],
 "metadata": {
  "interpreter": {
   "hash": "1d8736527e45d6a6214b93c62d7cf11bdd64dc67a94623331c70c6bed418bafe"
  },
  "kernelspec": {
   "display_name": "Python 3.9.7 ('base')",
   "language": "python",
   "name": "python3"
  },
  "language_info": {
   "codemirror_mode": {
    "name": "ipython",
    "version": 3
   },
   "file_extension": ".py",
   "mimetype": "text/x-python",
   "name": "python",
   "nbconvert_exporter": "python",
   "pygments_lexer": "ipython3",
   "version": "3.9.7"
  },
  "orig_nbformat": 4
 },
 "nbformat": 4,
 "nbformat_minor": 2
}