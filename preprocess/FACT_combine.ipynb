{
 "cells": [
  {
   "cell_type": "code",
   "execution_count": 1,
   "metadata": {
    "pycharm": {
     "name": "#%%\n"
    }
   },
   "outputs": [],
   "source": [
    "%load_ext autoreload\n",
    "%autoreload 2\n",
    "\n",
    "import pandas as pd\n",
    "import numpy as np\n",
    "from utils import *\n",
    "import matplotlib.pyplot as plt\n",
    "import matplotlib\n",
    "\n",
    "data_path = '../data/FACT_raw.xlsx'\n",
    "\n",
    "df_all = pd.read_excel(\n",
    "    data_path, engine='openpyxl', sheet_name=None)['Sheet1']\n",
    "\n",
    "df_all.drop(0,axis=0,inplace=True)\n",
    "df_all.reset_index(drop=True,inplace=True)"
   ]
  },
  {
   "cell_type": "code",
   "execution_count": 2,
   "metadata": {
    "pycharm": {
     "name": "#%%\n"
    }
   },
   "outputs": [],
   "source": [
    "name_mapping = {\n",
    "    # 'optiDAT nr.', ##### Not useful\n",
    "    # 'Optimat/FACT name', ##### Not useful\n",
    "    # 'data delivered under name', ##### Not useful\n",
    "    # 'from plate',##### empty\n",
    "    # 'tested at laboratory', ##### Not useful\n",
    "    'laminate': 'Lay-up',\n",
    "    # 'cut angle': 'Cut Angle', ##### empty\n",
    "    # 'chop', ##### What is it?\n",
    "    0: 'Percentage of Fibre in 0-deg Direction',\n",
    "    '+/-45': 'Percentage of Fibre in 45-deg Direction',\n",
    "    90: 'Percentage of Fibre in 90-deg Direction',\n",
    "    'other direction': 'Percentage of Fibre in Other Direction',\n",
    "    # 'Resin', ##### Not useful\n",
    "    # 'Fibre', ##### Not useful\n",
    "    'FVF': 'Fibre Volumn Fraction',\n",
    "    'porosity': 'Porosity', ##### Too much absence\n",
    "    'Barcol hardness': 'Barcol Hardness',\n",
    "    # 'Manufactured by/Quality Assurance Specification', ##### Not useful\n",
    "    # 'production method',##### Not useful\n",
    "    # 'Geometry', ##### Not useful\n",
    "    # 'material ', ##### Not useful\n",
    "    'thickness (old)': 'Thickness',\n",
    "    # 'average thickness (new)', ##### empty\n",
    "    'maximum width': 'Maximum Width',\n",
    "    'minimum width': 'Minimum Width',\n",
    "    # 'average width (new)', ##### empty\n",
    "    'area': 'Area',\n",
    "    'length': 'Length',\n",
    "    'load length': 'Load Length',\n",
    "    'radius of waist': 'Radius of Waist',\n",
    "    # 'specimen standard', ##### empty\n",
    "    # 'prog', ##### Not useful\n",
    "    # 'start test', ##### Not useful\n",
    "    # 'end of test', ##### Not useful\n",
    "    # 'test type', ##### As filter\n",
    "    'R-value': 'Minimum/Maximum Stress',\n",
    "    # 'F_max',##### empty\n",
    "    # 'Fmax during fatigue', ##### empty\n",
    "    # 'Fmax during static test', ##### empty\n",
    "    # 'deviation of Fmax>2% w.r.t. test frame settings during fatigue?', ##### empty\n",
    "    # 'F_max 90° direction', ##### empty\n",
    "    'e_max': 'Maximum Strain',\n",
    "    # 'e_max 90°', ##### empty\n",
    "    # 'e_max 45°', ##### empty\n",
    "    's_max': 'Maximum Stress',\n",
    "    # 'normalized s_max', ##### Not useful\n",
    "    # 'shear strain (e12)', ##### empty\n",
    "    # 'shear strength', ##### empty\n",
    "    # 'Shear Modulus (G12)', ##### empty\n",
    "    'No. of cycles to failure': 'Cycles to Failure',\n",
    "    # 'level', ##### empty\n",
    "    # 'Unnamed: 51', ##### empty\n",
    "    # 'no. of cycles', ##### empty\n",
    "    # 'Unnamed: 53', ##### empty\n",
    "    # 'No. of spectrum passes to failure', ##### To much absence, how to use it?\n",
    "    # 'failure mode', ##### To much absence\n",
    "    # 'runout?',\n",
    "    # 'R-value.1', ##### empty\n",
    "    # 'F_max.1', ##### empty\n",
    "    # 'e_max.1', ##### empty\n",
    "    # 's_max.1', ##### empty\n",
    "    # 'No. of cycles in block 2', ##### empty\n",
    "    'UTS': 'Static Maximum Tensile Stress',\n",
    "    'UCS': 'Static Maximum Compressive Stress',\n",
    "    'e_UTS': 'Static Maximum Tensile Strain',\n",
    "    'e_UCS': 'Static Maximum Compressive Strain',\n",
    "    # 'UTS (mat. spec.)', ##### What is it?\n",
    "    # 'UCS (mat. spec.)', ##### What is it?\n",
    "    # 'corr. UTS', ##### What is it?\n",
    "    # 'corr. UCS', ##### What is it?\n",
    "    # 'RTS', ##### empty\n",
    "    # 'RCS', ##### empty\n",
    "    # 'e_RTS', ##### empty\n",
    "    # 'e_RCS', ##### empty\n",
    "    # 'LRU': 'Stress Rate',\n",
    "    'SRU': 'Strain Rate',\n",
    "    # 'SRU.1', ##### empty\n",
    "    # 'SRU speed deviation ? 2% during static test?', ##### empty\n",
    "    # 'LRF', ##### What is it?\n",
    "    # 'SRF', ##### What is it?\n",
    "    # 'SRF.1', ##### What is it?\n",
    "    # 'wave', ##### Not useful\n",
    "    'fconstant': 'Frequency',\n",
    "    # 'test time', ##### Not useful\n",
    "    # 'fconstant block 2', ##### empty\n",
    "    'Eit': 'Static Elastic Modulus',\n",
    "    'Eic': 'Static Compressive Modulus',\n",
    "    # 'Eft',\n",
    "    # 'Efc',\n",
    "    # 'ILSS', ##### empty\n",
    "    # 's_flex', ##### empty\n",
    "    # 'test machine', ##### empty\n",
    "    # 'control', ##### All load control\n",
    "    # 'grip', ##### Not useful\n",
    "    # 'ABG', ##### What is it?\n",
    "    'Temperature': 'Temperature',\n",
    "    # 'Temperature control?',\n",
    "    # 'Preconditioned?', ##### empty\n",
    "    # 'environment', ##### All \"d\", What is it?\n",
    "    'RH': 'Relative Humidity',\n",
    "    # 'Test condition', ##### empty\n",
    "    # 'ref.', ##### Not useful\n",
    "    # 'NB', ##### What is it?\n",
    "    # 'RB', ##### What is it?\n",
    "    # 's_res', ##### empty\n",
    "    # 'N10sr', ##### To much absence\n",
    "    # 'specimen shape', ##### Not useful\n",
    "    # 'Remarks', ##### empty\n",
    "    # 'Bending', ##### empty\n",
    "    # 'buckling', ##### empty\n",
    "    # 'temperature failure or temperature above 35 °C', ##### empty\n",
    "    # 'tab failure', ##### empty\n",
    "    # 'delaminated', ##### empty\n",
    "    # 'incomplete measurement data available',  ##### empty\n",
    "    # 'Strain calculated using E', ##### empty\n",
    "    # 'Premature failure in RST', ##### empty\n",
    "    # \"Poissons's ratio\", ##### empty\n",
    "    # 'Strain measurement equipment', ##### empty\n",
    "    # 'Strain measurement equipment (2)', ##### empty\n",
    "    # 'Grip pressure' ##### empty\n",
    "}"
   ]
  },
  {
   "cell_type": "code",
   "execution_count": 3,
   "metadata": {
    "pycharm": {
     "name": "#%%\n"
    }
   },
   "outputs": [
    {
     "name": "stdout",
     "output_type": "stream",
     "text": [
      "Deleted features ['optiDAT nr.', 'Optimat/FACT name', 'data delivered under name', 'from plate', 'tested at laboratory', 'cut angle', 'chop', 'Resin', 'Fibre', 'Manufactured by/Quality Assurance Specification', 'production method', 'Geometry', 'material ', 'average thickness (new)', 'average width (new)', 'specimen standard', 'prog', 'start test', 'end of test', 'test type', 'F_max', 'Fmax during fatigue', 'Fmax during static test', 'deviation of Fmax>2% w.r.t. test frame settings during fatigue?', 'F_max 90° direction', 'e_max 90°', 'e_max 45°', 'normalized s_max', 'shear strain (e12)', 'shear strength', 'Shear Modulus (G12)', 'level', 'Unnamed: 51', 'no. of cycles', 'Unnamed: 53', 'No. of spectrum passes to failure', 'failure mode', 'runout?', 'R-value.1', 'F_max.1', 'e_max.1', 's_max.1', 'No. of cycles in block 2', 'UTS (mat. spec.)', 'UCS (mat. spec.)', 'corr. UTS', 'corr. UCS', 'RTS', 'RCS', 'e_RTS', 'e_RCS', 'LRU', 'SRU.1', 'SRU speed deviation ? 2% during static test?', 'LRF', 'SRF', 'SRF.1', 'wave', 'test time', 'fconstant block 2', 'Eft', 'Efc', 'ILSS', 's_flex', 'test machine', 'control', 'grip', 'ABG', 'Temperature control?', 'Preconditioned?', 'environment', 'Test condition', 'ref.', 'NB', 'RB', 's_res', 'N10sr', 'specimen shape', 'Remarks', 'Bending', 'buckling', 'temperature failure or temperature above 35 °C', 'tab failure', 'delaminated', 'incomplete measurement data available', 'Strain calculated using E', 'Premature failure in RST', \"Poissons's ratio\", 'Strain measurement equipment', 'Strain measurement equipment (2)', 'Grip pressure']\n"
     ]
    }
   ],
   "source": [
    "col_to_del = [x for x in df_all.columns if x not in name_mapping.keys()]\n",
    "print('Deleted features', col_to_del)\n",
    "\n",
    "df_tmp = replace_column_name(df_all, name_mapping)\n",
    "for col in col_to_del:\n",
    "    del df_tmp[col]\n",
    "\n",
    "df_presence = calculate_absence_ratio(df_tmp)\n",
    "\n",
    "matplotlib.rc(\"text\", usetex=False)\n",
    "plt.rcParams[\"font.size\"] = 12\n",
    "\n",
    "clr = sns.color_palette(\"deep\")\n",
    "\n",
    "plt.figure(figsize=(10,8))\n",
    "ax = plt.subplot(111)\n",
    "plot_absence_ratio(ax, df_presence, orient='h', palette=clr, linewidth=1, edgecolor=[0, 0, 0])\n",
    "plt.tight_layout()\n",
    "\n",
    "plt.savefig('../output/FACT/absence_ratio_initial.png', dpi=600)\n",
    "# plt.close()\n",
    "# plt.show()\n",
    "plt.close()"
   ]
  },
  {
   "cell_type": "code",
   "execution_count": 4,
   "outputs": [],
   "source": [
    "def fill_na(x, n):\n",
    "    if np.isnan(x):\n",
    "        return n\n",
    "    else:\n",
    "        return x\n",
    "\n",
    "\n",
    "def modify_col(df, column_name, func, **kargs):\n",
    "    if column_name in list(df.columns):\n",
    "        col = df[column_name]\n",
    "        col = [func(x,**kargs) for x in col]\n",
    "        df.loc[:, column_name] = col\n",
    "\n",
    "modify_col(df_all, 0, fill_na, n = 0)\n",
    "modify_col(df_all, '+/-45', fill_na, n = 0)\n",
    "modify_col(df_all, 90, fill_na, n = 0)\n",
    "modify_col(df_all, 'other direction', fill_na, n = 0)"
   ],
   "metadata": {
    "collapsed": false,
    "pycharm": {
     "name": "#%%\n"
    }
   }
  },
  {
   "cell_type": "code",
   "execution_count": 5,
   "outputs": [],
   "source": [
    "# Add material code\n",
    "material_code = [str(df_all.loc[x, 'material ']) + str(df_all.loc[x, 'laminate']) for x in range(len(df_all))]\n",
    "df_all['Material_Code'] = material_code"
   ],
   "metadata": {
    "collapsed": false,
    "pycharm": {
     "name": "#%%\n"
    }
   }
  },
  {
   "cell_type": "code",
   "execution_count": 6,
   "outputs": [],
   "source": [
    "# If R>1, max stress must be negative\n",
    "where_R1 = []\n",
    "for idx,x in enumerate(df_all['R-value']):\n",
    "    if not isinstance(x,str) and x>1:\n",
    "        where_R1.append(idx)\n",
    "where_R1 = np.array(where_R1)\n",
    "df_all.loc[where_R1,'s_max'] = -np.abs(df_all.loc[where_R1,'s_max'])"
   ],
   "metadata": {
    "collapsed": false,
    "pycharm": {
     "name": "#%%\n"
    }
   }
  },
  {
   "cell_type": "code",
   "execution_count": 7,
   "outputs": [],
   "source": [
    "# Cal minimum stress\n",
    "df_all['Minimum Stress'] = df_all['R-value'] * df_all['s_max']"
   ],
   "metadata": {
    "collapsed": false,
    "pycharm": {
     "name": "#%%\n"
    }
   }
  },
  {
   "cell_type": "code",
   "execution_count": 8,
   "outputs": [],
   "source": [
    "df_fatigue = df_all.loc[np.where(df_all['test type'] == 'CA')[0],:].copy()\n",
    "df_fatigue.reset_index(drop=True, inplace=True)\n",
    "df_fatigue = replace_column_name(df_fatigue, name_mapping)"
   ],
   "metadata": {
    "collapsed": false,
    "pycharm": {
     "name": "#%%\n"
    }
   }
  },
  {
   "cell_type": "code",
   "execution_count": 9,
   "outputs": [],
   "source": [
    "df_fatigue['Absolute Maximum Stress'] = np.nan\n",
    "df_fatigue['Absolute Peak-to-peak Stress'] = np.nan\n",
    "df_fatigue['Relative Maximum Stress'] = np.nan\n",
    "df_fatigue['Relative Peak-to-peak Stress'] = np.nan\n",
    "\n",
    "for idx in range(df_fatigue.values.shape[0]):\n",
    "    s = np.array([df_fatigue.loc[idx, 'Maximum Stress'],df_fatigue.loc[idx, 'Minimum Stress']])\n",
    "    which_max_stress = np.where(np.abs(s) == np.max(np.abs(s)))[0]\n",
    "    if len(which_max_stress) == 0:\n",
    "        which_max_stress = 1 - int(np.isnan(s[1])) # when nan appears in s\n",
    "    else:\n",
    "        which_max_stress = which_max_stress[0]\n",
    "\n",
    "    relative_to = np.abs(df_fatigue.loc[idx,'Static Maximum Tensile Stress']) if s[which_max_stress] > 0 else np.abs(df_fatigue.loc[idx,'Static Maximum Compressive Stress'])\n",
    "    if np.isnan(relative_to) and s[0] + s[1] < 1e-5 and s[which_max_stress] > 0:\n",
    "        relative_to = np.abs(df_fatigue.loc[idx,'Static Maximum Compressive Stress'])\n",
    "\n",
    "    df_fatigue.loc[idx,'Absolute Maximum Stress'] = s[which_max_stress]\n",
    "    p2p = np.abs(s[0]-s[1])\n",
    "    if np.isnan(p2p):\n",
    "        p2p = np.abs(s[1 - int(np.isnan(s[1]))])\n",
    "    df_fatigue.loc[idx,'Absolute Peak-to-peak Stress'] = p2p\n",
    "\n",
    "    # if True:\n",
    "    if np.abs(s[which_max_stress]/relative_to) <= 1.1: # otherwise static data is not correct\n",
    "        df_fatigue.loc[idx,'Relative Maximum Stress'] = np.abs(s[which_max_stress]/relative_to)\n",
    "        df_fatigue.loc[idx,'Relative Peak-to-peak Stress'] = np.abs(p2p/relative_to)\n",
    "    else:\n",
    "        df_fatigue.loc[idx,'Static Maximum Tensile Stress'] = np.nan\n",
    "        df_fatigue.loc[idx,'Static Maximum Compressive Stress'] = np.nan"
   ],
   "metadata": {
    "collapsed": false,
    "pycharm": {
     "name": "#%%\n"
    }
   }
  },
  {
   "cell_type": "code",
   "execution_count": 10,
   "outputs": [],
   "source": [
    "# Remove runout tests\n",
    "df_fatigue = df_fatigue.loc[np.where(df_fatigue['runout?'] != 'y')[0],:].copy()\n",
    "df_fatigue.reset_index(drop=True, inplace=True)"
   ],
   "metadata": {
    "collapsed": false,
    "pycharm": {
     "name": "#%%\n"
    }
   }
  },
  {
   "cell_type": "code",
   "execution_count": 11,
   "outputs": [],
   "source": [
    "if 'Lay-up' in df_fatigue.columns:\n",
    "    code2seq_dict = {}\n",
    "    layups = df_fatigue['Lay-up'].values\n",
    "    for layer in list(set(layups)):\n",
    "        code2seq_dict[layer] = code2seq(layer)\n",
    "    seq = []\n",
    "    for layer in layups:\n",
    "        seq.append('/'.join([str(x) for x in code2seq(layer)]))\n",
    "    df_fatigue['Sequence'] = seq"
   ],
   "metadata": {
    "collapsed": false,
    "pycharm": {
     "name": "#%%\n"
    }
   }
  },
  {
   "cell_type": "code",
   "execution_count": 12,
   "outputs": [],
   "source": [
    "df_fatigue.to_excel('../data/FACT_fatigue.xlsx', engine='openpyxl', index=False)"
   ],
   "metadata": {
    "collapsed": false,
    "pycharm": {
     "name": "#%%\n"
    }
   }
  },
  {
   "cell_type": "code",
   "execution_count": 13,
   "outputs": [
    {
     "data": {
      "text/plain": "  0%|          | 0/34 [00:00<?, ?it/s]",
      "application/vnd.jupyter.widget-view+json": {
       "version_major": 2,
       "version_minor": 0,
       "model_id": "878b0b7cb14640cea24830979310cd6b"
      }
     },
     "metadata": {},
     "output_type": "display_data"
    },
    {
     "name": "stderr",
     "output_type": "stream",
     "text": [
      "/home/xlluo/hdd/ML-fracture/venv/lib/python3.6/site-packages/sklearn/preprocessing/_data.py:400: RuntimeWarning: All-NaN slice encountered\n",
      "  data_min = np.nanmin(X, axis=0)\n",
      "/home/xlluo/hdd/ML-fracture/venv/lib/python3.6/site-packages/sklearn/preprocessing/_data.py:401: RuntimeWarning: All-NaN slice encountered\n",
      "  data_max = np.nanmax(X, axis=0)\n",
      "/home/xlluo/hdd/ML-fracture/venv/lib/python3.6/site-packages/sklearn/preprocessing/_data.py:400: RuntimeWarning: All-NaN slice encountered\n",
      "  data_min = np.nanmin(X, axis=0)\n",
      "/home/xlluo/hdd/ML-fracture/venv/lib/python3.6/site-packages/sklearn/preprocessing/_data.py:401: RuntimeWarning: All-NaN slice encountered\n",
      "  data_max = np.nanmax(X, axis=0)\n"
     ]
    }
   ],
   "source": [
    "measure_features = ['Maximum Stress', 'Minimum Stress', 'Frequency']\n",
    "from sklearn.preprocessing import MinMaxScaler\n",
    "fatigue_mat_lay = df_fatigue['Material_Code'].copy()\n",
    "df_avg_fatigue = pd.DataFrame(columns = df_fatigue.columns)\n",
    "bar = tqdm(total=len(list(set(fatigue_mat_lay))))\n",
    "for material in list(set(fatigue_mat_lay)):\n",
    "    where_material = np.where(fatigue_mat_lay == material)[0]\n",
    "    # print(where_material)\n",
    "    df_material = df_fatigue.loc[where_material, measure_features].copy()\n",
    "    scaler = MinMaxScaler()\n",
    "    df_material.loc[:,:] = scaler.fit_transform(df_material)\n",
    "    mse_matrix = np.zeros((len(where_material), len(where_material)))\n",
    "    for i_idx, i in enumerate(where_material):\n",
    "        for j_idx, j in enumerate(where_material):\n",
    "            if j_idx < i_idx:\n",
    "                continue\n",
    "            val_i = df_material.loc[i,:]\n",
    "            val_j = df_material.loc[j,:]\n",
    "            mse_val = np.mean((val_i - val_j)**2)\n",
    "            mse_matrix[i_idx, j_idx] = mse_matrix[j_idx, i_idx] = mse_val\n",
    "\n",
    "    all_correlation = []\n",
    "    for i_idx, i in enumerate(where_material):\n",
    "        where_correlated = list(where_material[np.where(mse_matrix[i_idx,:]<1e-5)[0]])\n",
    "        if where_correlated not in all_correlation:\n",
    "            all_correlation.append(where_correlated)\n",
    "    # all_correlation = all_correlation\n",
    "    for cor in all_correlation:\n",
    "        if len(cor)>1:\n",
    "            df_avg = df_fatigue.loc[[cor[0]], :].copy()\n",
    "            mean_values = df_fatigue.loc[cor, :].mean()\n",
    "            df_avg[mean_values.index] = mean_values.values\n",
    "            df_avg_fatigue = pd.concat([df_avg_fatigue, df_avg], ignore_index=True, axis=0)\n",
    "        elif len(cor) == 1:\n",
    "            df_avg_fatigue = pd.concat([df_avg_fatigue, df_fatigue.loc[[cor[0]], :]], ignore_index=True, axis=0)\n",
    "        else:\n",
    "            pass # Min Stress, Max Stress or frequency is not recorded\n",
    "    bar.update(1)\n",
    "\n",
    "df_avg_fatigue.reset_index(drop=True, inplace=True)\n",
    "\n",
    "df_avg_fatigue.to_excel('../data/FACT_avg_fatigue.xlsx', engine='openpyxl', index=False)"
   ],
   "metadata": {
    "collapsed": false,
    "pycharm": {
     "name": "#%%\n"
    }
   }
  },
  {
   "cell_type": "code",
   "execution_count": 14,
   "outputs": [
    {
     "name": "stdout",
     "output_type": "stream",
     "text": [
      "Deleted features ['optiDAT nr.', 'Optimat/FACT name', 'data delivered under name', 'from plate', 'tested at laboratory', 'cut angle', 'chop', 'Resin', 'Fibre', 'Manufactured by/Quality Assurance Specification', 'production method', 'Geometry', 'material ', 'average thickness (new)', 'average width (new)', 'specimen standard', 'prog', 'start test', 'end of test', 'test type', 'F_max', 'Fmax during fatigue', 'Fmax during static test', 'deviation of Fmax>2% w.r.t. test frame settings during fatigue?', 'F_max 90° direction', 'e_max 90°', 'e_max 45°', 'normalized s_max', 'shear strain (e12)', 'shear strength', 'Shear Modulus (G12)', 'level', 'Unnamed: 51', 'no. of cycles', 'Unnamed: 53', 'No. of spectrum passes to failure', 'failure mode', 'runout?', 'R-value.1', 'F_max.1', 'e_max.1', 's_max.1', 'No. of cycles in block 2', 'UTS (mat. spec.)', 'UCS (mat. spec.)', 'corr. UTS', 'corr. UCS', 'RTS', 'RCS', 'e_RTS', 'e_RCS', 'LRU', 'SRU.1', 'SRU speed deviation ? 2% during static test?', 'LRF', 'SRF', 'SRF.1', 'wave', 'test time', 'fconstant block 2', 'Eft', 'Efc', 'ILSS', 's_flex', 'test machine', 'control', 'grip', 'ABG', 'Temperature control?', 'Preconditioned?', 'environment', 'Test condition', 'ref.', 'NB', 'RB', 's_res', 'N10sr', 'specimen shape', 'Remarks', 'Bending', 'buckling', 'temperature failure or temperature above 35 °C', 'tab failure', 'delaminated', 'incomplete measurement data available', 'Strain calculated using E', 'Premature failure in RST', \"Poissons's ratio\", 'Strain measurement equipment', 'Strain measurement equipment (2)', 'Grip pressure', 'Material_Code', 'Minimum Stress', 'Absolute Maximum Stress', 'Absolute Peak-to-peak Stress', 'Relative Maximum Stress', 'Relative Peak-to-peak Stress', 'Sequence']\n"
     ]
    }
   ],
   "source": [
    "col_to_del = [x for x in df_fatigue.columns if x not in name_mapping.values()]\n",
    "print('Deleted features', col_to_del)\n",
    "\n",
    "df_tmp = df_fatigue.copy()\n",
    "for col in col_to_del:\n",
    "    del df_tmp[col]\n",
    "\n",
    "df_presence = calculate_absence_ratio(df_tmp)\n",
    "\n",
    "clr = sns.color_palette(\"deep\")\n",
    "plt.rcParams[\"font.size\"] = 5\n",
    "\n",
    "plt.figure(figsize=(5,4),dpi=300)\n",
    "ax = plt.subplot(111)\n",
    "plot_absence_ratio(ax, df_presence, orient='h', palette=clr, linewidth=1, edgecolor=[0, 0, 0])\n",
    "plt.tight_layout()\n",
    "\n",
    "plt.savefig('../output/FACT/absence_ratio.png')\n",
    "# plt.close()\n",
    "# plt.show()\n",
    "plt.close()"
   ],
   "metadata": {
    "collapsed": false,
    "pycharm": {
     "name": "#%%\n"
    }
   }
  },
  {
   "cell_type": "code",
   "execution_count": 15,
   "outputs": [
    {
     "data": {
      "text/plain": "    optiDAT nr. Optimat/FACT name data delivered under name from plate  \\\n0         19001              9001                      FACT        NaN   \n1         19002              9002                      FACT        NaN   \n2         11334              1334                      FACT        NaN   \n3         11333              1333                      FACT        NaN   \n4         19005              9005                      FACT        NaN   \n..          ...               ...                       ...        ...   \n880       10604               604                      FACT        NaN   \n881       10605               605                      FACT        NaN   \n882       10606               606                      FACT        NaN   \n883       10620               620                      FACT        NaN   \n884       10666               666                      FACT        NaN   \n\n    tested at laboratory                                     Lay-up  \\\n0                    TUD  [[+45(240),-45(240)SB]8,[0(495),90(5)]7]s   \n1                    TUD  [[+45(240),-45(240)SB]8,[0(495),90(5)]7]s   \n2                    TUD  [[+45(240),-45(240)SB]8,[0(495),90(5)]7]s   \n3                    TUD  [[+45(240),-45(240)SB]8,[0(495),90(5)]7]s   \n4                    TUD  [[+45(240),-45(240)SB]8,[0(495),90(5)]7]s   \n..                   ...                                        ...   \n880                  DNV         [[0(400),90(400)WR],[(100CSM)]SB]5   \n881                  DNV         [[0(400),90(400)WR],[(100CSM)]SB]5   \n882                  DNV         [[0(400),90(400)WR],[(100CSM)]SB]5   \n883                  DNV         [[0(400),90(400)WR],[(100CSM)]SB]5   \n884                  DNV                          [0(600),90(8)K]3s   \n\n     cut angle chop  Percentage of Fibre in 0-deg Direction  \\\n0          NaN  NaN                                       7   \n1          NaN  NaN                                       7   \n2          NaN  NaN                                       7   \n3          NaN  NaN                                       7   \n4          NaN  NaN                                       7   \n..         ...  ...                                     ...   \n880        NaN    5                                       5   \n881        NaN    5                                       5   \n882        NaN    5                                       5   \n883        NaN    5                                       5   \n884        NaN  NaN                                       6   \n\n     Percentage of Fibre in 45-deg Direction  ...  \\\n0                                          8  ...   \n1                                          8  ...   \n2                                          8  ...   \n3                                          8  ...   \n4                                          8  ...   \n..                                       ...  ...   \n880                                        0  ...   \n881                                        0  ...   \n882                                        0  ...   \n883                                        0  ...   \n884                                        0  ...   \n\n     Strain measurement equipment  Strain measurement equipment (2)  \\\n0                             NaN                               NaN   \n1                             NaN                               NaN   \n2                             NaN                               NaN   \n3                             NaN                               NaN   \n4                             NaN                               NaN   \n..                            ...                               ...   \n880                           NaN                               NaN   \n881                           NaN                               NaN   \n882                           NaN                               NaN   \n883                           NaN                               NaN   \n884                           NaN                               NaN   \n\n    Grip pressure                                Material_Code Minimum Stress  \\\n0             NaN  GP[[+45(240),-45(240)SB]8,[0(495),90(5)]7]s           9.11   \n1             NaN  GP[[+45(240),-45(240)SB]8,[0(495),90(5)]7]s           9.11   \n2             NaN  GP[[+45(240),-45(240)SB]8,[0(495),90(5)]7]s           9.11   \n3             NaN  GP[[+45(240),-45(240)SB]8,[0(495),90(5)]7]s          9.111   \n4             NaN  GP[[+45(240),-45(240)SB]8,[0(495),90(5)]7]s            -65   \n..            ...                                          ...            ...   \n880           NaN         GV[[0(400),90(400)WR],[(100CSM)]SB]5            -39   \n881           NaN         GV[[0(400),90(400)WR],[(100CSM)]SB]5            -39   \n882           NaN         GV[[0(400),90(400)WR],[(100CSM)]SB]5            -78   \n883           NaN         GP[[0(400),90(400)WR],[(100CSM)]SB]5       -58.4666   \n884           NaN                          GP[0(600),90(8)K]3s           -203   \n\n    Absolute Maximum Stress Absolute Peak-to-peak Stress  \\\n0                   91.1000                      81.9900   \n1                   91.1000                      81.9900   \n2                   91.1000                      81.9900   \n3                   91.1100                      81.9990   \n4                   65.0000                     130.0000   \n..                      ...                          ...   \n880                 39.0000                      78.0000   \n881                 39.0000                      78.0000   \n882                 78.0000                     156.0000   \n883                 58.4666                     116.9332   \n884                203.0000                     406.0000   \n\n    Relative Maximum Stress Relative Peak-to-peak Stress  \\\n0                  0.212850                     0.191565   \n1                  0.212850                     0.191565   \n2                  0.212850                     0.191565   \n3                  0.212874                     0.191586   \n4                  0.151869                     0.303738   \n..                      ...                          ...   \n880                     NaN                          NaN   \n881                     NaN                          NaN   \n882                     NaN                          NaN   \n883                     NaN                          NaN   \n884                     NaN                          NaN   \n\n                                              Sequence  \n0    45/-45/45/-45/45/-45/45/-45/45/-45/45/-45/45/-...  \n1    45/-45/45/-45/45/-45/45/-45/45/-45/45/-45/45/-...  \n2    45/-45/45/-45/45/-45/45/-45/45/-45/45/-45/45/-...  \n3    45/-45/45/-45/45/-45/45/-45/45/-45/45/-45/45/-...  \n4    45/-45/45/-45/45/-45/45/-45/45/-45/45/-45/45/-...  \n..                                                 ...  \n880                 0/90/0/0/90/0/0/90/0/0/90/0/0/90/0  \n881                 0/90/0/0/90/0/0/90/0/0/90/0/0/90/0  \n882                 0/90/0/0/90/0/0/90/0/0/90/0/0/90/0  \n883                 0/90/0/0/90/0/0/90/0/0/90/0/0/90/0  \n884                      0/90/0/90/0/90/90/0/90/0/90/0  \n\n[885 rows x 127 columns]",
      "text/html": "<div>\n<style scoped>\n    .dataframe tbody tr th:only-of-type {\n        vertical-align: middle;\n    }\n\n    .dataframe tbody tr th {\n        vertical-align: top;\n    }\n\n    .dataframe thead th {\n        text-align: right;\n    }\n</style>\n<table border=\"1\" class=\"dataframe\">\n  <thead>\n    <tr style=\"text-align: right;\">\n      <th></th>\n      <th>optiDAT nr.</th>\n      <th>Optimat/FACT name</th>\n      <th>data delivered under name</th>\n      <th>from plate</th>\n      <th>tested at laboratory</th>\n      <th>Lay-up</th>\n      <th>cut angle</th>\n      <th>chop</th>\n      <th>Percentage of Fibre in 0-deg Direction</th>\n      <th>Percentage of Fibre in 45-deg Direction</th>\n      <th>...</th>\n      <th>Strain measurement equipment</th>\n      <th>Strain measurement equipment (2)</th>\n      <th>Grip pressure</th>\n      <th>Material_Code</th>\n      <th>Minimum Stress</th>\n      <th>Absolute Maximum Stress</th>\n      <th>Absolute Peak-to-peak Stress</th>\n      <th>Relative Maximum Stress</th>\n      <th>Relative Peak-to-peak Stress</th>\n      <th>Sequence</th>\n    </tr>\n  </thead>\n  <tbody>\n    <tr>\n      <th>0</th>\n      <td>19001</td>\n      <td>9001</td>\n      <td>FACT</td>\n      <td>NaN</td>\n      <td>TUD</td>\n      <td>[[+45(240),-45(240)SB]8,[0(495),90(5)]7]s</td>\n      <td>NaN</td>\n      <td>NaN</td>\n      <td>7</td>\n      <td>8</td>\n      <td>...</td>\n      <td>NaN</td>\n      <td>NaN</td>\n      <td>NaN</td>\n      <td>GP[[+45(240),-45(240)SB]8,[0(495),90(5)]7]s</td>\n      <td>9.11</td>\n      <td>91.1000</td>\n      <td>81.9900</td>\n      <td>0.212850</td>\n      <td>0.191565</td>\n      <td>45/-45/45/-45/45/-45/45/-45/45/-45/45/-45/45/-...</td>\n    </tr>\n    <tr>\n      <th>1</th>\n      <td>19002</td>\n      <td>9002</td>\n      <td>FACT</td>\n      <td>NaN</td>\n      <td>TUD</td>\n      <td>[[+45(240),-45(240)SB]8,[0(495),90(5)]7]s</td>\n      <td>NaN</td>\n      <td>NaN</td>\n      <td>7</td>\n      <td>8</td>\n      <td>...</td>\n      <td>NaN</td>\n      <td>NaN</td>\n      <td>NaN</td>\n      <td>GP[[+45(240),-45(240)SB]8,[0(495),90(5)]7]s</td>\n      <td>9.11</td>\n      <td>91.1000</td>\n      <td>81.9900</td>\n      <td>0.212850</td>\n      <td>0.191565</td>\n      <td>45/-45/45/-45/45/-45/45/-45/45/-45/45/-45/45/-...</td>\n    </tr>\n    <tr>\n      <th>2</th>\n      <td>11334</td>\n      <td>1334</td>\n      <td>FACT</td>\n      <td>NaN</td>\n      <td>TUD</td>\n      <td>[[+45(240),-45(240)SB]8,[0(495),90(5)]7]s</td>\n      <td>NaN</td>\n      <td>NaN</td>\n      <td>7</td>\n      <td>8</td>\n      <td>...</td>\n      <td>NaN</td>\n      <td>NaN</td>\n      <td>NaN</td>\n      <td>GP[[+45(240),-45(240)SB]8,[0(495),90(5)]7]s</td>\n      <td>9.11</td>\n      <td>91.1000</td>\n      <td>81.9900</td>\n      <td>0.212850</td>\n      <td>0.191565</td>\n      <td>45/-45/45/-45/45/-45/45/-45/45/-45/45/-45/45/-...</td>\n    </tr>\n    <tr>\n      <th>3</th>\n      <td>11333</td>\n      <td>1333</td>\n      <td>FACT</td>\n      <td>NaN</td>\n      <td>TUD</td>\n      <td>[[+45(240),-45(240)SB]8,[0(495),90(5)]7]s</td>\n      <td>NaN</td>\n      <td>NaN</td>\n      <td>7</td>\n      <td>8</td>\n      <td>...</td>\n      <td>NaN</td>\n      <td>NaN</td>\n      <td>NaN</td>\n      <td>GP[[+45(240),-45(240)SB]8,[0(495),90(5)]7]s</td>\n      <td>9.111</td>\n      <td>91.1100</td>\n      <td>81.9990</td>\n      <td>0.212874</td>\n      <td>0.191586</td>\n      <td>45/-45/45/-45/45/-45/45/-45/45/-45/45/-45/45/-...</td>\n    </tr>\n    <tr>\n      <th>4</th>\n      <td>19005</td>\n      <td>9005</td>\n      <td>FACT</td>\n      <td>NaN</td>\n      <td>TUD</td>\n      <td>[[+45(240),-45(240)SB]8,[0(495),90(5)]7]s</td>\n      <td>NaN</td>\n      <td>NaN</td>\n      <td>7</td>\n      <td>8</td>\n      <td>...</td>\n      <td>NaN</td>\n      <td>NaN</td>\n      <td>NaN</td>\n      <td>GP[[+45(240),-45(240)SB]8,[0(495),90(5)]7]s</td>\n      <td>-65</td>\n      <td>65.0000</td>\n      <td>130.0000</td>\n      <td>0.151869</td>\n      <td>0.303738</td>\n      <td>45/-45/45/-45/45/-45/45/-45/45/-45/45/-45/45/-...</td>\n    </tr>\n    <tr>\n      <th>...</th>\n      <td>...</td>\n      <td>...</td>\n      <td>...</td>\n      <td>...</td>\n      <td>...</td>\n      <td>...</td>\n      <td>...</td>\n      <td>...</td>\n      <td>...</td>\n      <td>...</td>\n      <td>...</td>\n      <td>...</td>\n      <td>...</td>\n      <td>...</td>\n      <td>...</td>\n      <td>...</td>\n      <td>...</td>\n      <td>...</td>\n      <td>...</td>\n      <td>...</td>\n      <td>...</td>\n    </tr>\n    <tr>\n      <th>880</th>\n      <td>10604</td>\n      <td>604</td>\n      <td>FACT</td>\n      <td>NaN</td>\n      <td>DNV</td>\n      <td>[[0(400),90(400)WR],[(100CSM)]SB]5</td>\n      <td>NaN</td>\n      <td>5</td>\n      <td>5</td>\n      <td>0</td>\n      <td>...</td>\n      <td>NaN</td>\n      <td>NaN</td>\n      <td>NaN</td>\n      <td>GV[[0(400),90(400)WR],[(100CSM)]SB]5</td>\n      <td>-39</td>\n      <td>39.0000</td>\n      <td>78.0000</td>\n      <td>NaN</td>\n      <td>NaN</td>\n      <td>0/90/0/0/90/0/0/90/0/0/90/0/0/90/0</td>\n    </tr>\n    <tr>\n      <th>881</th>\n      <td>10605</td>\n      <td>605</td>\n      <td>FACT</td>\n      <td>NaN</td>\n      <td>DNV</td>\n      <td>[[0(400),90(400)WR],[(100CSM)]SB]5</td>\n      <td>NaN</td>\n      <td>5</td>\n      <td>5</td>\n      <td>0</td>\n      <td>...</td>\n      <td>NaN</td>\n      <td>NaN</td>\n      <td>NaN</td>\n      <td>GV[[0(400),90(400)WR],[(100CSM)]SB]5</td>\n      <td>-39</td>\n      <td>39.0000</td>\n      <td>78.0000</td>\n      <td>NaN</td>\n      <td>NaN</td>\n      <td>0/90/0/0/90/0/0/90/0/0/90/0/0/90/0</td>\n    </tr>\n    <tr>\n      <th>882</th>\n      <td>10606</td>\n      <td>606</td>\n      <td>FACT</td>\n      <td>NaN</td>\n      <td>DNV</td>\n      <td>[[0(400),90(400)WR],[(100CSM)]SB]5</td>\n      <td>NaN</td>\n      <td>5</td>\n      <td>5</td>\n      <td>0</td>\n      <td>...</td>\n      <td>NaN</td>\n      <td>NaN</td>\n      <td>NaN</td>\n      <td>GV[[0(400),90(400)WR],[(100CSM)]SB]5</td>\n      <td>-78</td>\n      <td>78.0000</td>\n      <td>156.0000</td>\n      <td>NaN</td>\n      <td>NaN</td>\n      <td>0/90/0/0/90/0/0/90/0/0/90/0/0/90/0</td>\n    </tr>\n    <tr>\n      <th>883</th>\n      <td>10620</td>\n      <td>620</td>\n      <td>FACT</td>\n      <td>NaN</td>\n      <td>DNV</td>\n      <td>[[0(400),90(400)WR],[(100CSM)]SB]5</td>\n      <td>NaN</td>\n      <td>5</td>\n      <td>5</td>\n      <td>0</td>\n      <td>...</td>\n      <td>NaN</td>\n      <td>NaN</td>\n      <td>NaN</td>\n      <td>GP[[0(400),90(400)WR],[(100CSM)]SB]5</td>\n      <td>-58.4666</td>\n      <td>58.4666</td>\n      <td>116.9332</td>\n      <td>NaN</td>\n      <td>NaN</td>\n      <td>0/90/0/0/90/0/0/90/0/0/90/0/0/90/0</td>\n    </tr>\n    <tr>\n      <th>884</th>\n      <td>10666</td>\n      <td>666</td>\n      <td>FACT</td>\n      <td>NaN</td>\n      <td>DNV</td>\n      <td>[0(600),90(8)K]3s</td>\n      <td>NaN</td>\n      <td>NaN</td>\n      <td>6</td>\n      <td>0</td>\n      <td>...</td>\n      <td>NaN</td>\n      <td>NaN</td>\n      <td>NaN</td>\n      <td>GP[0(600),90(8)K]3s</td>\n      <td>-203</td>\n      <td>203.0000</td>\n      <td>406.0000</td>\n      <td>NaN</td>\n      <td>NaN</td>\n      <td>0/90/0/90/0/90/90/0/90/0/90/0</td>\n    </tr>\n  </tbody>\n</table>\n<p>885 rows × 127 columns</p>\n</div>"
     },
     "execution_count": 15,
     "metadata": {},
     "output_type": "execute_result"
    }
   ],
   "source": [
    "df_fatigue"
   ],
   "metadata": {
    "collapsed": false,
    "pycharm": {
     "name": "#%%\n"
    }
   }
  },
  {
   "cell_type": "code",
   "execution_count": 15,
   "outputs": [],
   "source": [],
   "metadata": {
    "collapsed": false,
    "pycharm": {
     "name": "#%%\n"
    }
   }
  }
 ],
 "metadata": {
  "kernelspec": {
   "display_name": "Python 3.6.9 ('venv': venv)",
   "language": "python",
   "name": "python3"
  },
  "language_info": {
   "codemirror_mode": {
    "name": "ipython",
    "version": 3
   },
   "file_extension": ".py",
   "mimetype": "text/x-python",
   "name": "python",
   "nbconvert_exporter": "python",
   "pygments_lexer": "ipython3",
   "version": "3.6.9"
  },
  "orig_nbformat": 4,
  "vscode": {
   "interpreter": {
    "hash": "f15373116f3f1333770e7ecbd767398a2d7ae8734f1a603bc2fc87ae52980838"
   }
  }
 },
 "nbformat": 4,
 "nbformat_minor": 2
}