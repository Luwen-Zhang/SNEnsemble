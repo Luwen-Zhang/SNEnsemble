{
 "cells": [
  {
   "cell_type": "code",
   "execution_count": 1,
   "metadata": {
    "pycharm": {
     "name": "#%%\n"
    }
   },
   "outputs": [],
   "source": [
    "%load_ext autoreload\n",
    "%autoreload 2\n",
    "\n",
    "import pandas as pd\n",
    "import numpy as np\n",
    "from utils import *\n",
    "import matplotlib.pyplot as plt\n",
    "import matplotlib\n",
    "\n",
    "data_path = '../data/FACT_raw.xlsx'\n",
    "\n",
    "df_all = pd.read_excel(\n",
    "    data_path, engine='openpyxl', sheet_name=None)['Sheet1']\n",
    "\n",
    "df_all.drop(0,axis=0,inplace=True)\n",
    "df_all.reset_index(drop=True,inplace=True)"
   ]
  },
  {
   "cell_type": "code",
   "execution_count": 2,
   "metadata": {
    "pycharm": {
     "name": "#%%\n"
    }
   },
   "outputs": [],
   "source": [
    "name_mapping = {\n",
    "    # 'optiDAT nr.', ##### Not useful\n",
    "    # 'Optimat/FACT name', ##### Not useful\n",
    "    # 'data delivered under name', ##### Not useful\n",
    "    # 'from plate',##### empty\n",
    "    # 'tested at laboratory', ##### Not useful\n",
    "    'laminate': 'Lay-up',\n",
    "    # 'cut angle': 'Cut Angle', ##### empty\n",
    "    # 'chop', ##### What is it?\n",
    "    0: 'Percentage of Fibre in 0-deg Direction',\n",
    "    '+/-45': 'Percentage of Fibre in 45-deg Direction',\n",
    "    90: 'Percentage of Fibre in 90-deg Direction',\n",
    "    'other direction': 'Percentage of Fibre in Other Direction',\n",
    "    # 'Resin', ##### Not useful\n",
    "    # 'Fibre', ##### Not useful\n",
    "    'FVF': 'Fibre Volumn Fraction',\n",
    "    'porosity': 'Porosity', ##### Too much absence\n",
    "    'Barcol hardness': 'Barcol Hardness',\n",
    "    # 'Manufactured by/Quality Assurance Specification', ##### Not useful\n",
    "    # 'production method',##### Not useful\n",
    "    # 'Geometry', ##### Not useful\n",
    "    # 'material ', ##### Not useful\n",
    "    'thickness (old)': 'Thickness',\n",
    "    # 'average thickness (new)', ##### empty\n",
    "    'maximum width': 'Maximum Width',\n",
    "    'minimum width': 'Minimum Width',\n",
    "    # 'average width (new)', ##### empty\n",
    "    'area': 'Area',\n",
    "    'length': 'Length',\n",
    "    'load length': 'Load Length',\n",
    "    'radius of waist': 'Radius of Waist',\n",
    "    # 'specimen standard', ##### empty\n",
    "    # 'prog', ##### Not useful\n",
    "    # 'start test', ##### Not useful\n",
    "    # 'end of test', ##### Not useful\n",
    "    # 'test type', ##### As filter\n",
    "    'R-value': 'Minimum/Maximum Stress',\n",
    "    # 'F_max',##### empty\n",
    "    # 'Fmax during fatigue', ##### empty\n",
    "    # 'Fmax during static test', ##### empty\n",
    "    # 'deviation of Fmax>2% w.r.t. test frame settings during fatigue?', ##### empty\n",
    "    # 'F_max 90° direction', ##### empty\n",
    "    'e_max': 'Maximum Strain',\n",
    "    # 'e_max 90°', ##### empty\n",
    "    # 'e_max 45°', ##### empty\n",
    "    's_max': 'Maximum Stress',\n",
    "    # 'normalized s_max', ##### Not useful\n",
    "    # 'shear strain (e12)', ##### empty\n",
    "    # 'shear strength', ##### empty\n",
    "    # 'Shear Modulus (G12)', ##### empty\n",
    "    'No. of cycles to failure': 'Cycles to Failure',\n",
    "    # 'level', ##### empty\n",
    "    # 'Unnamed: 51', ##### empty\n",
    "    # 'no. of cycles', ##### empty\n",
    "    # 'Unnamed: 53', ##### empty\n",
    "    # 'No. of spectrum passes to failure', ##### To much absence, how to use it?\n",
    "    # 'failure mode', ##### To much absence\n",
    "    # 'runout?',\n",
    "    # 'R-value.1', ##### empty\n",
    "    # 'F_max.1', ##### empty\n",
    "    # 'e_max.1', ##### empty\n",
    "    # 's_max.1', ##### empty\n",
    "    # 'No. of cycles in block 2', ##### empty\n",
    "    'UTS': 'Static Maximum Tensile Stress',\n",
    "    'UCS': 'Static Maximum Compressive Stress',\n",
    "    'e_UTS': 'Static Maximum Tensile Strain',\n",
    "    'e_UCS': 'Static Maximum Compressive Strain',\n",
    "    # 'UTS (mat. spec.)', ##### What is it?\n",
    "    # 'UCS (mat. spec.)', ##### What is it?\n",
    "    # 'corr. UTS', ##### What is it?\n",
    "    # 'corr. UCS', ##### What is it?\n",
    "    # 'RTS', ##### empty\n",
    "    # 'RCS', ##### empty\n",
    "    # 'e_RTS', ##### empty\n",
    "    # 'e_RCS', ##### empty\n",
    "    # 'LRU': 'Stress Rate',\n",
    "    'SRU': 'Strain Rate',\n",
    "    # 'SRU.1', ##### empty\n",
    "    # 'SRU speed deviation ? 2% during static test?', ##### empty\n",
    "    # 'LRF', ##### What is it?\n",
    "    # 'SRF', ##### What is it?\n",
    "    # 'SRF.1', ##### What is it?\n",
    "    # 'wave', ##### Not useful\n",
    "    'fconstant': 'Frequency',\n",
    "    # 'test time', ##### Not useful\n",
    "    # 'fconstant block 2', ##### empty\n",
    "    'Eit': 'Static Elastic Modulus',\n",
    "    'Eic': 'Static Compressive Modulus',\n",
    "    # 'Eft',\n",
    "    # 'Efc',\n",
    "    # 'ILSS', ##### empty\n",
    "    # 's_flex', ##### empty\n",
    "    # 'test machine', ##### empty\n",
    "    # 'control', ##### All load control\n",
    "    # 'grip', ##### Not useful\n",
    "    # 'ABG', ##### What is it?\n",
    "    'Temperature': 'Temperature',\n",
    "    # 'Temperature control?',\n",
    "    # 'Preconditioned?', ##### empty\n",
    "    # 'environment', ##### All \"d\", What is it?\n",
    "    'RH': 'Relative Humidity',\n",
    "    # 'Test condition', ##### empty\n",
    "    # 'ref.', ##### Not useful\n",
    "    # 'NB', ##### What is it?\n",
    "    # 'RB', ##### What is it?\n",
    "    # 's_res', ##### empty\n",
    "    # 'N10sr', ##### To much absence\n",
    "    # 'specimen shape', ##### Not useful\n",
    "    # 'Remarks', ##### empty\n",
    "    # 'Bending', ##### empty\n",
    "    # 'buckling', ##### empty\n",
    "    # 'temperature failure or temperature above 35 °C', ##### empty\n",
    "    # 'tab failure', ##### empty\n",
    "    # 'delaminated', ##### empty\n",
    "    # 'incomplete measurement data available',  ##### empty\n",
    "    # 'Strain calculated using E', ##### empty\n",
    "    # 'Premature failure in RST', ##### empty\n",
    "    # \"Poissons's ratio\", ##### empty\n",
    "    # 'Strain measurement equipment', ##### empty\n",
    "    # 'Strain measurement equipment (2)', ##### empty\n",
    "    # 'Grip pressure' ##### empty\n",
    "}"
   ]
  },
  {
   "cell_type": "code",
   "execution_count": 3,
   "metadata": {
    "pycharm": {
     "name": "#%%\n"
    }
   },
   "outputs": [
    {
     "name": "stdout",
     "output_type": "stream",
     "text": [
      "Deleted features ['optiDAT nr.', 'Optimat/FACT name', 'data delivered under name', 'from plate', 'tested at laboratory', 'cut angle', 'chop', 'Resin', 'Fibre', 'Manufactured by/Quality Assurance Specification', 'production method', 'Geometry', 'material ', 'average thickness (new)', 'average width (new)', 'specimen standard', 'prog', 'start test', 'end of test', 'test type', 'F_max', 'Fmax during fatigue', 'Fmax during static test', 'deviation of Fmax>2% w.r.t. test frame settings during fatigue?', 'F_max 90° direction', 'e_max 90°', 'e_max 45°', 'normalized s_max', 'shear strain (e12)', 'shear strength', 'Shear Modulus (G12)', 'level', 'Unnamed: 51', 'no. of cycles', 'Unnamed: 53', 'No. of spectrum passes to failure', 'failure mode', 'runout?', 'R-value.1', 'F_max.1', 'e_max.1', 's_max.1', 'No. of cycles in block 2', 'UTS (mat. spec.)', 'UCS (mat. spec.)', 'corr. UTS', 'corr. UCS', 'RTS', 'RCS', 'e_RTS', 'e_RCS', 'LRU', 'SRU.1', 'SRU speed deviation ? 2% during static test?', 'LRF', 'SRF', 'SRF.1', 'wave', 'test time', 'fconstant block 2', 'Eft', 'Efc', 'ILSS', 's_flex', 'test machine', 'control', 'grip', 'ABG', 'Temperature control?', 'Preconditioned?', 'environment', 'Test condition', 'ref.', 'NB', 'RB', 's_res', 'N10sr', 'specimen shape', 'Remarks', 'Bending', 'buckling', 'temperature failure or temperature above 35 °C', 'tab failure', 'delaminated', 'incomplete measurement data available', 'Strain calculated using E', 'Premature failure in RST', \"Poissons's ratio\", 'Strain measurement equipment', 'Strain measurement equipment (2)', 'Grip pressure']\n"
     ]
    }
   ],
   "source": [
    "col_to_del = [x for x in df_all.columns if x not in name_mapping.keys()]\n",
    "print('Deleted features', col_to_del)\n",
    "\n",
    "df_tmp = replace_column_name(df_all, name_mapping)\n",
    "for col in col_to_del:\n",
    "    del df_tmp[col]\n",
    "\n",
    "df_presence = calculate_absence_ratio(df_tmp)\n",
    "\n",
    "matplotlib.rc(\"text\", usetex=False)\n",
    "plt.rcParams[\"font.size\"] = 12\n",
    "\n",
    "clr = sns.color_palette(\"deep\")\n",
    "\n",
    "plt.figure(figsize=(10,8))\n",
    "ax = plt.subplot(111)\n",
    "plot_absence_ratio(ax, df_presence, orient='h', palette=clr, linewidth=1, edgecolor=[0, 0, 0])\n",
    "plt.tight_layout()\n",
    "\n",
    "plt.savefig('../output/FACT/absence_ratio_initial.png', dpi=600)\n",
    "# plt.close()\n",
    "# plt.show()\n",
    "plt.close()"
   ]
  },
  {
   "cell_type": "code",
   "execution_count": 4,
   "outputs": [],
   "source": [
    "def fill_na(x, n):\n",
    "    if np.isnan(x):\n",
    "        return n\n",
    "    else:\n",
    "        return x\n",
    "\n",
    "\n",
    "def modify_col(df, column_name, func, **kargs):\n",
    "    if column_name in list(df.columns):\n",
    "        col = df[column_name]\n",
    "        col = [func(x,**kargs) for x in col]\n",
    "        df.loc[:, column_name] = col\n",
    "\n",
    "modify_col(df_all, 0, fill_na, n = 0)\n",
    "modify_col(df_all, '+/-45', fill_na, n = 0)\n",
    "modify_col(df_all, 90, fill_na, n = 0)\n",
    "modify_col(df_all, 'other direction', fill_na, n = 0)"
   ],
   "metadata": {
    "collapsed": false,
    "pycharm": {
     "name": "#%%\n"
    }
   }
  },
  {
   "cell_type": "code",
   "execution_count": 5,
   "outputs": [],
   "source": [
    "# Add material code\n",
    "material_code = [str(df_all.loc[x, 'material ']) + str(df_all.loc[x, 'laminate']) for x in range(len(df_all))]\n",
    "df_all['Material_Code'] = material_code"
   ],
   "metadata": {
    "collapsed": false,
    "pycharm": {
     "name": "#%%\n"
    }
   }
  },
  {
   "cell_type": "code",
   "execution_count": 6,
   "outputs": [],
   "source": [
    "# If R>1, max stress must be negative\n",
    "where_R1 = []\n",
    "for idx,x in enumerate(df_all['R-value']):\n",
    "    if not isinstance(x,str) and x>1:\n",
    "        where_R1.append(idx)\n",
    "where_R1 = np.array(where_R1)\n",
    "df_all.loc[where_R1,'s_max'] = -np.abs(df_all.loc[where_R1,'s_max'])"
   ],
   "metadata": {
    "collapsed": false,
    "pycharm": {
     "name": "#%%\n"
    }
   }
  },
  {
   "cell_type": "code",
   "execution_count": 7,
   "outputs": [],
   "source": [
    "# Cal minimum stress\n",
    "df_all['Minimum Stress'] = df_all['R-value'] * df_all['s_max']"
   ],
   "metadata": {
    "collapsed": false,
    "pycharm": {
     "name": "#%%\n"
    }
   }
  },
  {
   "cell_type": "code",
   "execution_count": 8,
   "outputs": [],
   "source": [
    "if 'laminate' in df_all.columns:\n",
    "    code2seq_dict = {}\n",
    "    layups = df_all['laminate'].values\n",
    "    for layer in list(set(layups)):\n",
    "        code2seq_dict[layer] = code2seq(layer)\n",
    "    seq = []\n",
    "    for layer in layups:\n",
    "        seq.append('/'.join([str(x) for x in code2seq(layer)]))\n",
    "    df_all['Sequence'] = seq"
   ],
   "metadata": {
    "collapsed": false,
    "pycharm": {
     "name": "#%%\n"
    }
   }
  },
  {
   "cell_type": "code",
   "execution_count": 9,
   "outputs": [],
   "source": [
    "sequence = [[int(y) if y != '' else np.nan for y in str(x).split('/')] for x in\n",
    "            df_all['Sequence'].values]\n",
    "deg_layers = np.zeros((len(sequence), 4),\n",
    "                      dtype=np.int)  # for 0-deg, pm45-deg, 90-deg, and other directions respectively\n",
    "\n",
    "for idx, seq in enumerate(sequence):\n",
    "    deg_layers[idx, 0] = seq.count(0)\n",
    "    deg_layers[idx, 1] = seq.count(45) + seq.count(-45)\n",
    "    deg_layers[idx, 2] = seq.count(90)\n",
    "    deg_layers[idx, 3] = len(seq) - seq.count(np.nan) - np.sum(deg_layers[idx, :3])\n",
    "\n",
    "deg_layers_name = ['0-deg layers', '45-deg layers', '90-deg layers',\n",
    "                   'Other-deg layers']\n",
    "df_all = pd.concat([df_all, pd.DataFrame(data=deg_layers,\n",
    "                                                  columns=deg_layers_name)], axis=1)"
   ],
   "metadata": {
    "collapsed": false,
    "pycharm": {
     "name": "#%%\n"
    }
   }
  },
  {
   "cell_type": "code",
   "execution_count": 10,
   "outputs": [],
   "source": [
    "df_fatigue = df_all.loc[np.where(df_all['test type'] == 'CA')[0],:].copy()\n",
    "df_fatigue.reset_index(drop=True, inplace=True)\n",
    "df_fatigue = replace_column_name(df_fatigue, name_mapping)"
   ],
   "metadata": {
    "collapsed": false,
    "pycharm": {
     "name": "#%%\n"
    }
   }
  },
  {
   "cell_type": "code",
   "execution_count": 11,
   "outputs": [],
   "source": [
    "df_fatigue['Absolute Maximum Stress'] = np.nan\n",
    "df_fatigue['Absolute Peak-to-peak Stress'] = np.nan\n",
    "df_fatigue['Relative Maximum Stress'] = np.nan\n",
    "df_fatigue['Relative Peak-to-peak Stress'] = np.nan\n",
    "\n",
    "for idx in range(df_fatigue.values.shape[0]):\n",
    "    s = np.array([df_fatigue.loc[idx, 'Maximum Stress'],df_fatigue.loc[idx, 'Minimum Stress']])\n",
    "    which_max_stress = np.where(np.abs(s) == np.max(np.abs(s)))[0]\n",
    "    if len(which_max_stress) == 0:\n",
    "        which_max_stress = 1 - int(np.isnan(s[1])) # when nan appears in s\n",
    "    else:\n",
    "        which_max_stress = which_max_stress[0]\n",
    "\n",
    "    relative_to = np.abs(df_fatigue.loc[idx,'Static Maximum Tensile Stress']) if s[which_max_stress] > 0 else np.abs(df_fatigue.loc[idx,'Static Maximum Compressive Stress'])\n",
    "    if np.isnan(relative_to) and s[0] + s[1] < 1e-5 and s[which_max_stress] > 0:\n",
    "        relative_to = np.abs(df_fatigue.loc[idx,'Static Maximum Compressive Stress'])\n",
    "\n",
    "    df_fatigue.loc[idx,'Absolute Maximum Stress'] = s[which_max_stress]\n",
    "    p2p = np.abs(s[0]-s[1])\n",
    "    if np.isnan(p2p):\n",
    "        p2p = np.abs(s[1 - int(np.isnan(s[1]))])\n",
    "    df_fatigue.loc[idx,'Absolute Peak-to-peak Stress'] = p2p\n",
    "\n",
    "    # if True:\n",
    "    if np.abs(s[which_max_stress]/relative_to) <= 1.1: # otherwise static data is not correct\n",
    "        df_fatigue.loc[idx,'Relative Maximum Stress'] = np.abs(s[which_max_stress]/relative_to)\n",
    "        df_fatigue.loc[idx,'Relative Peak-to-peak Stress'] = np.abs(p2p/relative_to)\n",
    "    else:\n",
    "        df_fatigue.loc[idx,'Static Maximum Tensile Stress'] = np.nan\n",
    "        df_fatigue.loc[idx,'Static Maximum Compressive Stress'] = np.nan"
   ],
   "metadata": {
    "collapsed": false,
    "pycharm": {
     "name": "#%%\n"
    }
   }
  },
  {
   "cell_type": "code",
   "execution_count": 12,
   "outputs": [],
   "source": [
    "# Remove runout tests\n",
    "df_fatigue = df_fatigue.loc[np.where(df_fatigue['runout?'] != 'y')[0],:].copy()\n",
    "df_fatigue.reset_index(drop=True, inplace=True)"
   ],
   "metadata": {
    "collapsed": false,
    "pycharm": {
     "name": "#%%\n"
    }
   }
  },
  {
   "cell_type": "code",
   "execution_count": 13,
   "outputs": [],
   "source": [
    "df_fatigue['log(Static Maximum Tensile Stress)'] = np.log10(df_fatigue['Static Maximum Tensile Stress'].values.astype(float))\n",
    "df_fatigue['log(Cycles to Failure)'] = np.log10(df_fatigue['Cycles to Failure'].values.astype(float))"
   ],
   "metadata": {
    "collapsed": false,
    "pycharm": {
     "name": "#%%\n"
    }
   }
  },
  {
   "cell_type": "code",
   "execution_count": 14,
   "outputs": [],
   "source": [
    "df_fatigue.to_excel('../data/FACT_fatigue.xlsx', engine='openpyxl', index=False)"
   ],
   "metadata": {
    "collapsed": false,
    "pycharm": {
     "name": "#%%\n"
    }
   }
  },
  {
   "cell_type": "code",
   "execution_count": 15,
   "outputs": [
    {
     "data": {
      "text/plain": "  0%|          | 0/34 [00:00<?, ?it/s]",
      "application/vnd.jupyter.widget-view+json": {
       "version_major": 2,
       "version_minor": 0,
       "model_id": "04192e09b29a4abda9480fd3656dc89a"
      }
     },
     "metadata": {},
     "output_type": "display_data"
    },
    {
     "name": "stderr",
     "output_type": "stream",
     "text": [
      "/home/xlluo/anaconda3/envs/ML-fracture/lib/python3.7/site-packages/sklearn/preprocessing/_data.py:400: RuntimeWarning: All-NaN slice encountered\n",
      "  data_min = np.nanmin(X, axis=0)\n",
      "/home/xlluo/anaconda3/envs/ML-fracture/lib/python3.7/site-packages/sklearn/preprocessing/_data.py:401: RuntimeWarning: All-NaN slice encountered\n",
      "  data_max = np.nanmax(X, axis=0)\n",
      "/home/xlluo/anaconda3/envs/ML-fracture/lib/python3.7/site-packages/sklearn/preprocessing/_data.py:400: RuntimeWarning: All-NaN slice encountered\n",
      "  data_min = np.nanmin(X, axis=0)\n",
      "/home/xlluo/anaconda3/envs/ML-fracture/lib/python3.7/site-packages/sklearn/preprocessing/_data.py:401: RuntimeWarning: All-NaN slice encountered\n",
      "  data_max = np.nanmax(X, axis=0)\n"
     ]
    }
   ],
   "source": [
    "measure_features = ['Maximum Stress', 'Minimum Stress', 'Frequency']\n",
    "from sklearn.preprocessing import MinMaxScaler\n",
    "fatigue_mat_lay = df_fatigue['Material_Code'].copy()\n",
    "df_avg_fatigue = pd.DataFrame(columns = df_fatigue.columns)\n",
    "bar = tqdm(total=len(list(set(fatigue_mat_lay))))\n",
    "for material in list(set(fatigue_mat_lay)):\n",
    "    where_material = np.where(fatigue_mat_lay == material)[0]\n",
    "    # print(where_material)\n",
    "    df_material = df_fatigue.loc[where_material, measure_features].copy()\n",
    "    scaler = MinMaxScaler()\n",
    "    df_material.loc[:,:] = scaler.fit_transform(df_material)\n",
    "    mse_matrix = np.zeros((len(where_material), len(where_material)))\n",
    "    for i_idx, i in enumerate(where_material):\n",
    "        for j_idx, j in enumerate(where_material):\n",
    "            if j_idx < i_idx:\n",
    "                continue\n",
    "            val_i = df_material.loc[i,:]\n",
    "            val_j = df_material.loc[j,:]\n",
    "            mse_val = np.mean((val_i - val_j)**2)\n",
    "            mse_matrix[i_idx, j_idx] = mse_matrix[j_idx, i_idx] = mse_val\n",
    "\n",
    "    all_correlation = []\n",
    "    for i_idx, i in enumerate(where_material):\n",
    "        where_correlated = list(where_material[np.where(mse_matrix[i_idx,:]<1e-5)[0]])\n",
    "        if where_correlated not in all_correlation:\n",
    "            all_correlation.append(where_correlated)\n",
    "    # all_correlation = all_correlation\n",
    "    for cor in all_correlation:\n",
    "        if len(cor)>1:\n",
    "            df_avg = df_fatigue.loc[[cor[0]], :].copy()\n",
    "            mean_values = df_fatigue.loc[cor, :].mean()\n",
    "            df_avg[mean_values.index] = mean_values.values\n",
    "            df_avg_fatigue = pd.concat([df_avg_fatigue, df_avg], ignore_index=True, axis=0)\n",
    "        elif len(cor) == 1:\n",
    "            df_avg_fatigue = pd.concat([df_avg_fatigue, df_fatigue.loc[[cor[0]], :]], ignore_index=True, axis=0)\n",
    "        else:\n",
    "            pass # Min Stress, Max Stress or frequency is not recorded\n",
    "    bar.update(1)\n",
    "\n",
    "df_avg_fatigue.reset_index(drop=True, inplace=True)\n",
    "\n",
    "df_avg_fatigue.to_excel('../data/FACT_avg_fatigue.xlsx', engine='openpyxl', index=False)"
   ],
   "metadata": {
    "collapsed": false,
    "pycharm": {
     "name": "#%%\n"
    }
   }
  },
  {
   "cell_type": "code",
   "execution_count": null,
   "outputs": [
    {
     "name": "stdout",
     "output_type": "stream",
     "text": [
      "Deleted features ['optiDAT nr.', 'Optimat/FACT name', 'data delivered under name', 'from plate', 'tested at laboratory', 'cut angle', 'chop', 'Resin', 'Fibre', 'Manufactured by/Quality Assurance Specification', 'production method', 'Geometry', 'material ', 'average thickness (new)', 'average width (new)', 'specimen standard', 'prog', 'start test', 'end of test', 'test type', 'F_max', 'Fmax during fatigue', 'Fmax during static test', 'deviation of Fmax>2% w.r.t. test frame settings during fatigue?', 'F_max 90° direction', 'e_max 90°', 'e_max 45°', 'normalized s_max', 'shear strain (e12)', 'shear strength', 'Shear Modulus (G12)', 'level', 'Unnamed: 51', 'no. of cycles', 'Unnamed: 53', 'No. of spectrum passes to failure', 'failure mode', 'runout?', 'R-value.1', 'F_max.1', 'e_max.1', 's_max.1', 'No. of cycles in block 2', 'UTS (mat. spec.)', 'UCS (mat. spec.)', 'corr. UTS', 'corr. UCS', 'RTS', 'RCS', 'e_RTS', 'e_RCS', 'LRU', 'SRU.1', 'SRU speed deviation ? 2% during static test?', 'LRF', 'SRF', 'SRF.1', 'wave', 'test time', 'fconstant block 2', 'Eft', 'Efc', 'ILSS', 's_flex', 'test machine', 'control', 'grip', 'ABG', 'Temperature control?', 'Preconditioned?', 'environment', 'Test condition', 'ref.', 'NB', 'RB', 's_res', 'N10sr', 'specimen shape', 'Remarks', 'Bending', 'buckling', 'temperature failure or temperature above 35 °C', 'tab failure', 'delaminated', 'incomplete measurement data available', 'Strain calculated using E', 'Premature failure in RST', \"Poissons's ratio\", 'Strain measurement equipment', 'Strain measurement equipment (2)', 'Grip pressure', 'Material_Code', 'Minimum Stress', 'Sequence', '0-deg layers', '45-deg layers', '90-deg layers', 'Other-deg layers', 'Absolute Maximum Stress', 'Absolute Peak-to-peak Stress', 'Relative Maximum Stress', 'Relative Peak-to-peak Stress', 'log(Static Maximum Tensile Stress)', 'log(Cycles to Failure)']\n"
     ]
    }
   ],
   "source": [
    "col_to_del = [x for x in df_fatigue.columns if x not in name_mapping.values()]\n",
    "print('Deleted features', col_to_del)\n",
    "\n",
    "df_tmp = df_fatigue.copy()\n",
    "for col in col_to_del:\n",
    "    del df_tmp[col]\n",
    "\n",
    "df_presence = calculate_absence_ratio(df_tmp)\n",
    "\n",
    "clr = sns.color_palette(\"deep\")\n",
    "plt.rcParams[\"font.size\"] = 5\n",
    "\n",
    "plt.figure(figsize=(5,4),dpi=300)\n",
    "ax = plt.subplot(111)\n",
    "plot_absence_ratio(ax, df_presence, orient='h', palette=clr, linewidth=1, edgecolor=[0, 0, 0])\n",
    "plt.tight_layout()\n",
    "\n",
    "plt.savefig('../output/FACT/absence_ratio.png')\n",
    "# plt.close()\n",
    "# plt.show()\n",
    "plt.close()"
   ],
   "metadata": {
    "collapsed": false,
    "pycharm": {
     "name": "#%%\n",
     "is_executing": true
    }
   }
  },
  {
   "cell_type": "code",
   "execution_count": null,
   "outputs": [],
   "source": [
    "df_fatigue"
   ],
   "metadata": {
    "collapsed": false,
    "pycharm": {
     "name": "#%%\n",
     "is_executing": true
    }
   }
  },
  {
   "cell_type": "code",
   "execution_count": null,
   "outputs": [],
   "source": [],
   "metadata": {
    "collapsed": false,
    "pycharm": {
     "name": "#%%\n",
     "is_executing": true
    }
   }
  }
 ],
 "metadata": {
  "kernelspec": {
   "display_name": "Python 3.6.9 ('venv': venv)",
   "language": "python",
   "name": "python3"
  },
  "language_info": {
   "codemirror_mode": {
    "name": "ipython",
    "version": 3
   },
   "file_extension": ".py",
   "mimetype": "text/x-python",
   "name": "python",
   "nbconvert_exporter": "python",
   "pygments_lexer": "ipython3",
   "version": "3.6.9"
  },
  "orig_nbformat": 4,
  "vscode": {
   "interpreter": {
    "hash": "f15373116f3f1333770e7ecbd767398a2d7ae8734f1a603bc2fc87ae52980838"
   }
  }
 },
 "nbformat": 4,
 "nbformat_minor": 2
}