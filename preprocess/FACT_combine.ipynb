{
 "cells": [
  {
   "cell_type": "code",
   "execution_count": 1,
   "metadata": {
    "pycharm": {
     "name": "#%%\n"
    }
   },
   "outputs": [],
   "source": [
    "%load_ext autoreload\n",
    "%autoreload 2\n",
    "\n",
    "import pandas as pd\n",
    "import numpy as np\n",
    "from utils import *\n",
    "import matplotlib.pyplot as plt\n",
    "import matplotlib\n",
    "\n",
    "data_path = '../data/FACT_raw.xlsx'\n",
    "\n",
    "df_all = pd.read_excel(\n",
    "    data_path, engine='openpyxl', sheet_name=None)['Sheet1']\n",
    "\n",
    "df_all.drop(0,axis=0,inplace=True)\n",
    "df_all.reset_index(drop=True,inplace=True)"
   ]
  },
  {
   "cell_type": "code",
   "execution_count": 2,
   "metadata": {
    "pycharm": {
     "name": "#%%\n"
    }
   },
   "outputs": [],
   "source": [
    "name_mapping = {\n",
    "    # 'optiDAT nr.', ##### Not useful\n",
    "    # 'Optimat/FACT name', ##### Not useful\n",
    "    # 'data delivered under name', ##### Not useful\n",
    "    # 'from plate',##### empty\n",
    "    # 'tested at laboratory', ##### Not useful\n",
    "    'laminate': 'Lay-up',\n",
    "    # 'cut angle': 'Cut Angle', ##### empty\n",
    "    # 'chop', ##### What is it?\n",
    "    0: 'Percentage of Fibre in 0-deg Direction',\n",
    "    '+/-45': 'Percentage of Fibre in 45-deg Direction',\n",
    "    90: 'Percentage of Fibre in 90-deg Direction',\n",
    "    'other direction': 'Percentage of Fibre in Other Direction',\n",
    "    # 'Resin', ##### Not useful\n",
    "    # 'Fibre', ##### Not useful\n",
    "    'FVF': 'Fibre Volumn Fraction',\n",
    "    'porosity': 'Porosity', ##### Too much absence\n",
    "    'Barcol hardness': 'Barcol Hardness',\n",
    "    # 'Manufactured by/Quality Assurance Specification', ##### Not useful\n",
    "    # 'production method',##### Not useful\n",
    "    # 'Geometry', ##### Not useful\n",
    "    # 'material ', ##### Not useful\n",
    "    'thickness (old)': 'Thickness',\n",
    "    # 'average thickness (new)', ##### empty\n",
    "    'maximum width': 'Maximum Width',\n",
    "    'minimum width': 'Minimum Width',\n",
    "    # 'average width (new)', ##### empty\n",
    "    'area': 'Area',\n",
    "    'length': 'Length',\n",
    "    'load length': 'Load Length',\n",
    "    'radius of waist': 'Radius of Waist',\n",
    "    # 'specimen standard', ##### empty\n",
    "    # 'prog', ##### Not useful\n",
    "    # 'start test', ##### Not useful\n",
    "    # 'end of test', ##### Not useful\n",
    "    # 'test type', ##### As filter\n",
    "    'R-value': 'Minimum/Maximum Stress',\n",
    "    # 'F_max',##### empty\n",
    "    # 'Fmax during fatigue', ##### empty\n",
    "    # 'Fmax during static test', ##### empty\n",
    "    # 'deviation of Fmax>2% w.r.t. test frame settings during fatigue?', ##### empty\n",
    "    # 'F_max 90° direction', ##### empty\n",
    "    'e_max': 'Maximum Strain',\n",
    "    # 'e_max 90°', ##### empty\n",
    "    # 'e_max 45°', ##### empty\n",
    "    's_max': 'Maximum Stress',\n",
    "    # 'normalized s_max', ##### Not useful\n",
    "    # 'shear strain (e12)', ##### empty\n",
    "    # 'shear strength', ##### empty\n",
    "    # 'Shear Modulus (G12)', ##### empty\n",
    "    'No. of cycles to failure': 'Cycles to Failure',\n",
    "    # 'level', ##### empty\n",
    "    # 'Unnamed: 51', ##### empty\n",
    "    # 'no. of cycles', ##### empty\n",
    "    # 'Unnamed: 53', ##### empty\n",
    "    # 'No. of spectrum passes to failure', ##### To much absence, how to use it?\n",
    "    # 'failure mode', ##### To much absence\n",
    "    # 'runout?',\n",
    "    # 'R-value.1', ##### empty\n",
    "    # 'F_max.1', ##### empty\n",
    "    # 'e_max.1', ##### empty\n",
    "    # 's_max.1', ##### empty\n",
    "    # 'No. of cycles in block 2', ##### empty\n",
    "    'UTS': 'Static Maximum Tensile Stress',\n",
    "    'UCS': 'Static Maximum Compressive Stress',\n",
    "    'e_UTS': 'Static Maximum Tensile Strain',\n",
    "    'e_UCS': 'Static Maximum Compressive Strain',\n",
    "    # 'UTS (mat. spec.)', ##### What is it?\n",
    "    # 'UCS (mat. spec.)', ##### What is it?\n",
    "    # 'corr. UTS', ##### What is it?\n",
    "    # 'corr. UCS', ##### What is it?\n",
    "    # 'RTS', ##### empty\n",
    "    # 'RCS', ##### empty\n",
    "    # 'e_RTS', ##### empty\n",
    "    # 'e_RCS', ##### empty\n",
    "    # 'LRU': 'Stress Rate',\n",
    "    'SRU': 'Strain Rate',\n",
    "    # 'SRU.1', ##### empty\n",
    "    # 'SRU speed deviation ? 2% during static test?', ##### empty\n",
    "    # 'LRF', ##### What is it?\n",
    "    # 'SRF', ##### What is it?\n",
    "    # 'SRF.1', ##### What is it?\n",
    "    # 'wave', ##### Not useful\n",
    "    'fconstant': 'Frequency',\n",
    "    # 'test time', ##### Not useful\n",
    "    # 'fconstant block 2', ##### empty\n",
    "    'Eit': 'Static Elastic Modulus',\n",
    "    'Eic': 'Static Compressive Modulus',\n",
    "    # 'Eft',\n",
    "    # 'Efc',\n",
    "    # 'ILSS', ##### empty\n",
    "    # 's_flex', ##### empty\n",
    "    # 'test machine', ##### empty\n",
    "    # 'control', ##### All load control\n",
    "    # 'grip', ##### Not useful\n",
    "    # 'ABG', ##### What is it?\n",
    "    'Temperature': 'Temperature',\n",
    "    # 'Temperature control?',\n",
    "    # 'Preconditioned?', ##### empty\n",
    "    # 'environment', ##### All \"d\", What is it?\n",
    "    'RH': 'Relative Humidity',\n",
    "    # 'Test condition', ##### empty\n",
    "    # 'ref.', ##### Not useful\n",
    "    # 'NB', ##### What is it?\n",
    "    # 'RB', ##### What is it?\n",
    "    # 's_res', ##### empty\n",
    "    # 'N10sr', ##### To much absence\n",
    "    # 'specimen shape', ##### Not useful\n",
    "    # 'Remarks', ##### empty\n",
    "    # 'Bending', ##### empty\n",
    "    # 'buckling', ##### empty\n",
    "    # 'temperature failure or temperature above 35 °C', ##### empty\n",
    "    # 'tab failure', ##### empty\n",
    "    # 'delaminated', ##### empty\n",
    "    # 'incomplete measurement data available',  ##### empty\n",
    "    # 'Strain calculated using E', ##### empty\n",
    "    # 'Premature failure in RST', ##### empty\n",
    "    # \"Poissons's ratio\", ##### empty\n",
    "    # 'Strain measurement equipment', ##### empty\n",
    "    # 'Strain measurement equipment (2)', ##### empty\n",
    "    # 'Grip pressure' ##### empty\n",
    "}"
   ]
  },
  {
   "cell_type": "code",
   "execution_count": 3,
   "metadata": {
    "pycharm": {
     "name": "#%%\n"
    }
   },
   "outputs": [],
   "source": [
    "plot_absence(df_all, name_mapping, '../data/FACT_absence_ratio_initial.png', fontsize=12)"
   ]
  },
  {
   "cell_type": "code",
   "execution_count": 4,
   "outputs": [],
   "source": [
    "modify_col(df_all, 0, fill_na, n = 0)\n",
    "modify_col(df_all, '+/-45', fill_na, n = 0)\n",
    "modify_col(df_all, 90, fill_na, n = 0)\n",
    "modify_col(df_all, 'other direction', fill_na, n = 0)"
   ],
   "metadata": {
    "collapsed": false,
    "pycharm": {
     "name": "#%%\n"
    }
   }
  },
  {
   "cell_type": "code",
   "execution_count": 5,
   "outputs": [],
   "source": [
    "# Add material code\n",
    "material_code = [str(df_all.loc[x, 'material ']) + str(df_all.loc[x, 'laminate']) for x in range(len(df_all))]\n",
    "df_all['Material_Code'] = material_code"
   ],
   "metadata": {
    "collapsed": false,
    "pycharm": {
     "name": "#%%\n"
    }
   }
  },
  {
   "cell_type": "code",
   "execution_count": 6,
   "outputs": [],
   "source": [
    "# If R>1, max stress must be negative\n",
    "where_R1 = []\n",
    "for idx,x in enumerate(df_all['R-value']):\n",
    "    if not isinstance(x,str) and x>1:\n",
    "        where_R1.append(idx)\n",
    "where_R1 = np.array(where_R1)\n",
    "df_all.loc[where_R1,'s_max'] = -np.abs(df_all.loc[where_R1,'s_max'])"
   ],
   "metadata": {
    "collapsed": false,
    "pycharm": {
     "name": "#%%\n"
    }
   }
  },
  {
   "cell_type": "code",
   "execution_count": 7,
   "outputs": [],
   "source": [
    "# Cal minimum stress\n",
    "df_all['Minimum Stress'] = df_all['R-value'] * df_all['s_max']"
   ],
   "metadata": {
    "collapsed": false,
    "pycharm": {
     "name": "#%%\n"
    }
   }
  },
  {
   "cell_type": "code",
   "execution_count": 8,
   "outputs": [],
   "source": [
    "if 'laminate' in df_all.columns:\n",
    "    code2seq_dict = {}\n",
    "    layups = df_all['laminate'].values\n",
    "    for layer in list(set(layups)):\n",
    "        code2seq_dict[layer] = code2seq(layer)\n",
    "    seq = []\n",
    "    for layer in layups:\n",
    "        seq.append('/'.join([str(x) for x in code2seq(layer)]))\n",
    "    df_all['Sequence'] = seq"
   ],
   "metadata": {
    "collapsed": false,
    "pycharm": {
     "name": "#%%\n"
    }
   }
  },
  {
   "cell_type": "code",
   "execution_count": 9,
   "outputs": [],
   "source": [
    "df_fatigue = df_all.loc[np.where(df_all['test type'] == 'CA')[0],:].copy()\n",
    "df_fatigue.reset_index(drop=True, inplace=True)\n",
    "df_fatigue = replace_column_name(df_fatigue, name_mapping)"
   ],
   "metadata": {
    "collapsed": false,
    "pycharm": {
     "name": "#%%\n"
    }
   }
  },
  {
   "cell_type": "code",
   "execution_count": 10,
   "outputs": [],
   "source": [
    "# Remove runout tests\n",
    "df_fatigue = df_fatigue.loc[np.where(df_fatigue['runout?'] != 'y')[0],:].copy()\n",
    "df_fatigue.reset_index(drop=True, inplace=True)"
   ],
   "metadata": {
    "collapsed": false,
    "pycharm": {
     "name": "#%%\n"
    }
   }
  },
  {
   "cell_type": "code",
   "execution_count": 11,
   "outputs": [],
   "source": [
    "df_fatigue['log(Static Maximum Tensile Stress)'] = np.log10(df_fatigue['Static Maximum Tensile Stress'].values.astype(float))\n",
    "df_fatigue['log(Cycles to Failure)'] = np.log10(df_fatigue['Cycles to Failure'].values.astype(float))"
   ],
   "metadata": {
    "collapsed": false,
    "pycharm": {
     "name": "#%%\n"
    }
   }
  },
  {
   "cell_type": "code",
   "execution_count": 12,
   "outputs": [],
   "source": [
    "df_fatigue.to_excel('../data/FACT_fatigue.xlsx', engine='openpyxl', index=False)"
   ],
   "metadata": {
    "collapsed": false,
    "pycharm": {
     "name": "#%%\n"
    }
   }
  },
  {
   "cell_type": "code",
   "execution_count": 13,
   "outputs": [
    {
     "data": {
      "text/plain": "  0%|          | 0/34 [00:00<?, ?it/s]",
      "application/vnd.jupyter.widget-view+json": {
       "version_major": 2,
       "version_minor": 0,
       "model_id": "5a97aaaab8ac40629d4ea06e5e09cd1f"
      }
     },
     "metadata": {},
     "output_type": "display_data"
    },
    {
     "name": "stderr",
     "output_type": "stream",
     "text": [
      "/home/xlluo/anaconda3/envs/ML-fracture/lib/python3.7/site-packages/sklearn/preprocessing/_data.py:400: RuntimeWarning: All-NaN slice encountered\n",
      "  data_min = np.nanmin(X, axis=0)\n",
      "/home/xlluo/anaconda3/envs/ML-fracture/lib/python3.7/site-packages/sklearn/preprocessing/_data.py:401: RuntimeWarning: All-NaN slice encountered\n",
      "  data_max = np.nanmax(X, axis=0)\n",
      "/home/xlluo/anaconda3/envs/ML-fracture/lib/python3.7/site-packages/sklearn/preprocessing/_data.py:400: RuntimeWarning: All-NaN slice encountered\n",
      "  data_min = np.nanmin(X, axis=0)\n",
      "/home/xlluo/anaconda3/envs/ML-fracture/lib/python3.7/site-packages/sklearn/preprocessing/_data.py:401: RuntimeWarning: All-NaN slice encountered\n",
      "  data_max = np.nanmax(X, axis=0)\n"
     ]
    }
   ],
   "source": [
    "averaging(df_fatigue, measure_features=['Maximum Stress', 'Minimum Stress', 'Frequency']).to_excel('../data/FACT_avg_fatigue.xlsx', engine='openpyxl', index=False)"
   ],
   "metadata": {
    "collapsed": false,
    "pycharm": {
     "name": "#%%\n"
    }
   }
  },
  {
   "cell_type": "code",
   "execution_count": 14,
   "outputs": [
    {
     "data": {
      "text/plain": "  0%|          | 0/34 [00:00<?, ?it/s]",
      "application/vnd.jupyter.widget-view+json": {
       "version_major": 2,
       "version_minor": 0,
       "model_id": "2b3a5e9e436e455c816eb59f77c83c0e"
      }
     },
     "metadata": {},
     "output_type": "display_data"
    },
    {
     "name": "stderr",
     "output_type": "stream",
     "text": [
      "/home/xlluo/anaconda3/envs/ML-fracture/lib/python3.7/site-packages/sklearn/preprocessing/_data.py:400: RuntimeWarning: All-NaN slice encountered\n",
      "  data_min = np.nanmin(X, axis=0)\n",
      "/home/xlluo/anaconda3/envs/ML-fracture/lib/python3.7/site-packages/sklearn/preprocessing/_data.py:401: RuntimeWarning: All-NaN slice encountered\n",
      "  data_max = np.nanmax(X, axis=0)\n",
      "/home/xlluo/anaconda3/envs/ML-fracture/lib/python3.7/site-packages/sklearn/preprocessing/_data.py:400: RuntimeWarning: All-NaN slice encountered\n",
      "  data_min = np.nanmin(X, axis=0)\n",
      "/home/xlluo/anaconda3/envs/ML-fracture/lib/python3.7/site-packages/sklearn/preprocessing/_data.py:401: RuntimeWarning: All-NaN slice encountered\n",
      "  data_max = np.nanmax(X, axis=0)\n",
      "/home/xlluo/anaconda3/envs/ML-fracture/lib/python3.7/site-packages/sklearn/preprocessing/_data.py:400: RuntimeWarning: All-NaN slice encountered\n",
      "  data_min = np.nanmin(X, axis=0)\n",
      "/home/xlluo/anaconda3/envs/ML-fracture/lib/python3.7/site-packages/sklearn/preprocessing/_data.py:401: RuntimeWarning: All-NaN slice encountered\n",
      "  data_max = np.nanmax(X, axis=0)\n",
      "/home/xlluo/anaconda3/envs/ML-fracture/lib/python3.7/site-packages/sklearn/preprocessing/_data.py:400: RuntimeWarning: All-NaN slice encountered\n",
      "  data_min = np.nanmin(X, axis=0)\n",
      "/home/xlluo/anaconda3/envs/ML-fracture/lib/python3.7/site-packages/sklearn/preprocessing/_data.py:401: RuntimeWarning: All-NaN slice encountered\n",
      "  data_max = np.nanmax(X, axis=0)\n",
      "/home/xlluo/anaconda3/envs/ML-fracture/lib/python3.7/site-packages/sklearn/preprocessing/_data.py:400: RuntimeWarning: All-NaN slice encountered\n",
      "  data_min = np.nanmin(X, axis=0)\n",
      "/home/xlluo/anaconda3/envs/ML-fracture/lib/python3.7/site-packages/sklearn/preprocessing/_data.py:401: RuntimeWarning: All-NaN slice encountered\n",
      "  data_max = np.nanmax(X, axis=0)\n",
      "/home/xlluo/anaconda3/envs/ML-fracture/lib/python3.7/site-packages/sklearn/preprocessing/_data.py:400: RuntimeWarning: All-NaN slice encountered\n",
      "  data_min = np.nanmin(X, axis=0)\n",
      "/home/xlluo/anaconda3/envs/ML-fracture/lib/python3.7/site-packages/sklearn/preprocessing/_data.py:401: RuntimeWarning: All-NaN slice encountered\n",
      "  data_max = np.nanmax(X, axis=0)\n",
      "/home/xlluo/anaconda3/envs/ML-fracture/lib/python3.7/site-packages/sklearn/preprocessing/_data.py:400: RuntimeWarning: All-NaN slice encountered\n",
      "  data_min = np.nanmin(X, axis=0)\n",
      "/home/xlluo/anaconda3/envs/ML-fracture/lib/python3.7/site-packages/sklearn/preprocessing/_data.py:401: RuntimeWarning: All-NaN slice encountered\n",
      "  data_max = np.nanmax(X, axis=0)\n",
      "/home/xlluo/anaconda3/envs/ML-fracture/lib/python3.7/site-packages/sklearn/preprocessing/_data.py:400: RuntimeWarning: All-NaN slice encountered\n",
      "  data_min = np.nanmin(X, axis=0)\n",
      "/home/xlluo/anaconda3/envs/ML-fracture/lib/python3.7/site-packages/sklearn/preprocessing/_data.py:401: RuntimeWarning: All-NaN slice encountered\n",
      "  data_max = np.nanmax(X, axis=0)\n",
      "/home/xlluo/anaconda3/envs/ML-fracture/lib/python3.7/site-packages/sklearn/preprocessing/_data.py:400: RuntimeWarning: All-NaN slice encountered\n",
      "  data_min = np.nanmin(X, axis=0)\n",
      "/home/xlluo/anaconda3/envs/ML-fracture/lib/python3.7/site-packages/sklearn/preprocessing/_data.py:401: RuntimeWarning: All-NaN slice encountered\n",
      "  data_max = np.nanmax(X, axis=0)\n",
      "/home/xlluo/anaconda3/envs/ML-fracture/lib/python3.7/site-packages/sklearn/preprocessing/_data.py:400: RuntimeWarning: All-NaN slice encountered\n",
      "  data_min = np.nanmin(X, axis=0)\n",
      "/home/xlluo/anaconda3/envs/ML-fracture/lib/python3.7/site-packages/sklearn/preprocessing/_data.py:401: RuntimeWarning: All-NaN slice encountered\n",
      "  data_max = np.nanmax(X, axis=0)\n",
      "/home/xlluo/anaconda3/envs/ML-fracture/lib/python3.7/site-packages/sklearn/preprocessing/_data.py:400: RuntimeWarning: All-NaN slice encountered\n",
      "  data_min = np.nanmin(X, axis=0)\n",
      "/home/xlluo/anaconda3/envs/ML-fracture/lib/python3.7/site-packages/sklearn/preprocessing/_data.py:401: RuntimeWarning: All-NaN slice encountered\n",
      "  data_max = np.nanmax(X, axis=0)\n"
     ]
    }
   ],
   "source": [
    "averaging(df_fatigue.copy(), measure_features=['log(Static Maximum Tensile Stress)']).to_excel('../data/FACT_avg_static.xlsx', engine='openpyxl', index=False)"
   ],
   "metadata": {
    "collapsed": false,
    "pycharm": {
     "name": "#%%\n"
    }
   }
  },
  {
   "cell_type": "code",
   "execution_count": 15,
   "outputs": [],
   "source": [
    "plot_absence(df_fatigue, name_mapping, '../data/FACT_absence_ratio.png', fontsize=5)"
   ],
   "metadata": {
    "collapsed": false,
    "pycharm": {
     "name": "#%%\n"
    }
   }
  },
  {
   "cell_type": "code",
   "execution_count": 15,
   "outputs": [],
   "source": [],
   "metadata": {
    "collapsed": false,
    "pycharm": {
     "name": "#%%\n"
    }
   }
  }
 ],
 "metadata": {
  "kernelspec": {
   "display_name": "Python 3.6.9 ('venv': venv)",
   "language": "python",
   "name": "python3"
  },
  "language_info": {
   "codemirror_mode": {
    "name": "ipython",
    "version": 3
   },
   "file_extension": ".py",
   "mimetype": "text/x-python",
   "name": "python",
   "nbconvert_exporter": "python",
   "pygments_lexer": "ipython3",
   "version": "3.6.9"
  },
  "orig_nbformat": 4,
  "vscode": {
   "interpreter": {
    "hash": "f15373116f3f1333770e7ecbd767398a2d7ae8734f1a603bc2fc87ae52980838"
   }
  }
 },
 "nbformat": 4,
 "nbformat_minor": 2
}