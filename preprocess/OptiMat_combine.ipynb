{
 "cells": [
  {
   "cell_type": "markdown",
   "metadata": {
    "collapsed": false,
    "pycharm": {
     "name": "#%% md\n"
    }
   },
   "source": [
    "## Initialize"
   ]
  },
  {
   "cell_type": "code",
   "execution_count": 1,
   "metadata": {
    "pycharm": {
     "name": "#%%\n"
    }
   },
   "outputs": [],
   "source": [
    "%load_ext autoreload\n",
    "%autoreload 2\n",
    "\n",
    "import pandas as pd\n",
    "import numpy as np\n",
    "from utils import *\n",
    "import matplotlib.pyplot as plt\n",
    "import matplotlib\n",
    "\n",
    "data_path = '../data/OptiMat_combine.xlsx'\n",
    "\n",
    "df_all = pd.read_excel(\n",
    "    data_path, engine='openpyxl', sheet_name=None)['Sheet1']"
   ]
  },
  {
   "cell_type": "code",
   "execution_count": 2,
   "metadata": {
    "collapsed": false,
    "pycharm": {
     "name": "#%%\n"
    }
   },
   "outputs": [],
   "source": [
    "name_mapping = {\n",
    "    # 'Table', ###### Not useful\n",
    "    # 'optiDAT nr.', ###### Not useful\n",
    "    # 'Name', ###### Not useful\n",
    "    'Property Plate': 'Plate', ###### Used\n",
    "    'Fibre Volume Fraction': 'Fibre Volumn Fraction',\n",
    "    # 'Lab', ###### Not useful\n",
    "    'Property Laminate': 'Laminate', ###### Used\n",
    "    'Cut angle': 'Laminate Cut Angle',\n",
    "    # 'Manufacturer', ###### Not useful\n",
    "    'Property Geometry': 'Geometry', ###### Used\n",
    "    # 'Material', ###### Not useful\n",
    "    'taverage': 'Thickness',\n",
    "    'wmax': 'Maximum Width',\n",
    "    'wmin': 'Minimum Width',\n",
    "    'waverage': 'Width',\n",
    "    'area': 'Area',\n",
    "    'Lnominal': 'Length(nominal)',\n",
    "    'Lmeasured': 'Length(measured)',\n",
    "    'Lgauge': 'Length(gauge)',\n",
    "    # 'Radius (waist)', ###### Not useful\n",
    "    # 'TG and phase', ###### Not useful\n",
    "    # 'Phase', ###### Classification\n",
    "    # 'start date',##### Not useful\n",
    "    # 'end date', ##### Not useful\n",
    "    # 'Test type', ###### Classification\n",
    "    'R-value1': 'Minimum/Maximum Stress',\n",
    "    # 'Fmax': 'Maximum Load', ##### Not useful\n",
    "    # 'Ferror', ##### Not necessary\n",
    "    # 'Fstatic': 'Static Maximum Load',  ##### Not useful\n",
    "    # 'Ffatigue', ###### Looks similar with Fmax\n",
    "    # 'Fmax, 90°': 'Transverse Maximum Load', ##### Not useful\n",
    "    'epsmax': 'Initial Strain',\n",
    "    # 'epsstatic': 'Static Strain', ##### Not useful\n",
    "    # 'epsfatigue', ###### Too many absence\n",
    "    'eps90°': 'Transverse Maximum Strain',\n",
    "    'eps45°': '45-deg Maximum Strain',\n",
    "    'Nu': 'Poisson\\'s Ratio',\n",
    "    'smax': 'Maximum Stress',\n",
    "    'smax,static': 'Static Maximum Stress',\n",
    "    # 'smax, fatigue':, ###### Corresponds to Ffatigue\n",
    "    'shear strain': 'Shear Strain',\n",
    "    'shear strength': 'Shear Strength',\n",
    "    'shear modulus (near other moduli)': 'Shear Modulus',\n",
    "    'Torquemax': 'Maximum Torque',\n",
    "    # 'Torquefatigue':, ###### Too many absense\n",
    "    # 'Torquestatic', ##### Too many absense\n",
    "    'Ncycles': 'Cycles to Failure',\n",
    "    # 'level',  ##### Not useful?\n",
    "    # 'levelcalc', ##### Not useful?\n",
    "    # 'Nspectrum', ##### Too many absense, Classification?\n",
    "    # 'failure mode',  ##### Not useful?\n",
    "    # 'runout',  ##### Not useful\n",
    "    # 'R-value2', ###### How to use block 2?\n",
    "    # 'Fmax2', ###### How to use block 2?\n",
    "    # 'epsmax2', ###### How to use block 2?\n",
    "    # 'smax2', ###### How to use block 2?\n",
    "    # 'Ncycles2', ###### How to use block 2?\n",
    "    'ratedisplacement': 'Strain Rate',\n",
    "    'f': 'Frequency',\n",
    "    # 'f2', ###### How to use block 2?\n",
    "    'Eit': 'Static Elastic Modulus',\n",
    "    'Eic': 'Static Compressive Modulus',\n",
    "    # 'Eft': 'Final Tensile Modulus', ##### Too many absense\n",
    "    # 'Efc': 'Final Compressive Modulus', ##### Too many absense\n",
    "    # 'Elur,front', ##### Too many absense\n",
    "    # 'Elur, back', ##### Too many absense\n",
    "    # 'eps_max_t': 'Maximum Strain (to Elastic Modulus)', ##### Calculated by smax and Eit\n",
    "    # 'eps_max_c': 'Maximum Strain (to Compressive Modulus)', ##### Calculated by smax and Eic\n",
    "    # 'Machine',  ##### Not useful\n",
    "    # 'control', ##### Classification\n",
    "    # 'grip', ##### Classification\n",
    "    # 'ABG', ##### Classification\n",
    "    'Temp.': 'Temperature',\n",
    "    # 'Temp. control', ##### Not useful\n",
    "    # 'Environment', ##### Classification\n",
    "    # 'Reference document',  ##### Not useful\n",
    "    # 'Remarks', ##### Not useful\n",
    "    # 'Invalid ', ##### Classification\n",
    "    # 'Bending ', ##### Classification\n",
    "    # 'Buckling ', ##### Classification\n",
    "    # 'Overheating', ##### Classification\n",
    "    # 'Tab failure ', ##### Classification\n",
    "    # 'Delaminated ', ##### Classification\n",
    "    # 'Incomplete measurement data ', ##### Classification\n",
    "    # 'Strain from E ', ##### Classification\n",
    "    # 'LUR', ##### Classification\n",
    "    # 'TEC', ##### Too many absense\n",
    "    # 'data delivered under name', ##### Not useful\n",
    "    # 'Repair characteristics', ##### Classification\n",
    "    # 'Strain measurement equipment (long)', ##### Not useful\n",
    "    # 'Strain measurement equipment (short)', ##### Not useful\n",
    "    # 'Grip pressure': 'Grip Pressure', ##### Not useful?\n",
    "    # 'Geometry-tab thickness(for UD2; for MD2)',, ##### Not useful?\n",
    "    'Plate-DSC analysis-Middle point Tg': 'DSC Analysis-Middle Point Tg',\n",
    "    # 'Geometry-L', ##### Same as Lnominal\n",
    "    # 'Plate-Fibre content-Std.deviation W/W%', ##### Not useful\n",
    "    # 'Laminate-from plate', ##### Same as Plate\n",
    "    # 'Geometry-Repair-tape', ##### Classification\n",
    "    'Plate-Density-Average': 'Plate Density',\n",
    "    # 'Plate-Void content-Std. deviation', ##### Not useful\n",
    "    # 'Geometry-Task Group',  ##### Classification\n",
    "    # 'Laminate-Resin', ##### To be specified\n",
    "    # 'Laminate-Fibre', ##### all the same\n",
    "    # 'Laminate-Average thickness', ##### No value\n",
    "    # 'Geometry-Repair-repair ratio', ##### How to use?\n",
    "    'Plate-Fibre content-Average W/W%': 'Plate Fibre Content W/W%',\n",
    "    # 'Geometry-Manufacturer',  ##### Not useful\n",
    "    # 'Geometry-Repair-Slope': 'Geometry Repair Slope', ##### Too many absence\n",
    "    # 'Geometry-minimum\\nwidth', ##### Too many absence\n",
    "    # 'Plate-Resin content-Std. deviation', ##### Not useful\n",
    "    # 'Geometry-Repair-repair material', ##### To be specified\n",
    "    'Geometry-load\\nlength': 'Load Length',\n",
    "    # 'Laminate-Description', ##### Not useful\n",
    "    # 'Laminate-thickness (nominal)', ##### Better use thickness directly\n",
    "    'Plate-Resin content-Average': 'Plate Resin Content',\n",
    "    # 'Geometry-t(for UD2; for MD2)', ##### Better use thickness directly\n",
    "    'Plate-DSC analysis-Final Tg': 'DSC Analysis-Final Point Tg',\n",
    "    # 'Geometry-maximum\\nwidth': 'Geometry Maximum Width', ##### Fill empty in Maximum/Minimum/Average Width\n",
    "    'Laminate- 45°': 'Percentage of Fibre in 45-deg Direction',\n",
    "    'Plate-Void content-Average': 'Plate Void Content',\n",
    "    'Laminate-lay-up': 'Lay-up', ##### How to use?\n",
    "    # 'Plate-Density-Std.deviation', ##### Not useful\n",
    "    # 'Laminate-Material', ##### Not useful\n",
    "    # 'Geometry-Repair-depth': 'Geometry Repair Depth', ##### Too many absence\n",
    "    # 'Plate-Fibre content-Std. Deviation V/V%', ##### Not useful\n",
    "    # 'Plate-Laminate', ##### Same as Laminate\n",
    "    'Laminate- 90°': 'Percentage of Fibre in 90-deg Direction', ##### all zeros\n",
    "    # 'Plate-Plate Tested by lab(s)', ##### No useful\n",
    "    # 'Geometry-Repair-base material', ##### No useful\n",
    "    'Plate-Fibre content-Average V/V%': 'Plate Fibre Content V/V%',\n",
    "    # 'Geometry-width\\n(cruciform arms)', ##### No useful Too many absence\n",
    "    # 'Geometry-Repair-scarf/plug/patch', ##### No useful, Classification?\n",
    "    'Laminate- -45°': 'Percentage of Fibre in -45-deg Direction',\n",
    "    # 'Plate-Geometry/ies', ##### No useful\n",
    "    # 'Laminate-Production method', ##### No useful\n",
    "    'Laminate- 0°': 'Percentage of Fibre in 0-deg Direction',\n",
    "    # 'Geometry-General Shape', ##### Classification?\n",
    "    # 'Geometry-tab\\nlength' ##### Too many absence\n",
    "    ################### Added features ###################\n",
    "    'Static Maximum Tensile Stress': 'Static Maximum Tensile Stress',\n",
    "    'Static Maximum Compressive Stress': 'Static Maximum Compressive Stress',\n",
    "    'Minimum Stress': 'Minimum Stress',\n",
    "    'Absolute Maximum Stress': 'Absolute Maximum Stress',\n",
    "    'Absolute Peak-to-Peak Stress': 'Absolute Peak-to-peak Stress',\n",
    "    'Relative Maximum Stress': 'Relative Maximum Stress',\n",
    "    'Relative Peak-to-Peak Stress': 'Relative Peak-to-peak Stress',\n",
    "}"
   ]
  },
  {
   "cell_type": "markdown",
   "metadata": {
    "collapsed": false,
    "pycharm": {
     "name": "#%% md\n"
    }
   },
   "source": [
    "## Plot initial absence ratio"
   ]
  },
  {
   "cell_type": "code",
   "execution_count": 3,
   "metadata": {
    "collapsed": false,
    "pycharm": {
     "name": "#%%\n"
    }
   },
   "outputs": [
    {
     "name": "stdout",
     "output_type": "stream",
     "text": [
      "Deleted features ['Table', 'optiDAT nr.', 'Name', 'Lab', 'Cut angle ', 'Manufacturer', 'Material', 'Radius (waist)', 'TG and phase', 'Phase', 'start date', 'end date', 'Test type', 'Fmax', 'Ferror', 'Fstatic', 'Ffatigue', 'Fmax, 90°', 'epsstatic', 'epsfatigue', 'smax, fatigue', 'Torquefatigue', 'Torquestatic', 'level', 'levelcalc', 'Nspectrum', 'failure mode', 'runout', 'R-value2', 'Fmax2', 'epsmax2', 'smax2', 'Ncycles2', 'f2', 'Eft', 'Efc', 'Elur,front', 'Elur, back', 'eps_max_t', 'eps_max_c', 'Machine', 'control', 'grip', 'ABG', 'Temp. control', 'Environment', 'Reference document', 'Remarks', 'Invalid ', 'Bending ', 'Buckling ', 'Overheating', 'Tab failure ', 'Delaminated ', 'Incomplete measurement data ', 'Strain from E ', 'LUR', 'TEC', 'data delivered under name', 'Repair characteristics', 'Strain measurement equipment (long)', 'Strain measurement equipment (short)', 'Grip pressure', 'Geometry-tab thickness(for UD2; for MD2)', 'Geometry-L', 'Plate-Fibre content-Std.deviation W/W%', 'Laminate-from plate', 'Geometry-Repair-tape', 'Plate-Void content-Std. deviation', 'Geometry-Task Group', 'Laminate-Resin', 'Laminate-Fibre', 'Laminate-Average thickness', 'Geometry-Repair-repair ratio', 'Geometry-Manufacturer', 'Geometry-Repair-Slope', 'Geometry-minimum\\nwidth', 'Plate-Resin content-Std. deviation', 'Geometry-Repair-repair material', 'Laminate-Description', 'Laminate-thickness (nominal)', 'Geometry-t(for UD2; for MD2)', 'Geometry-maximum\\nwidth', 'Plate-Density-Std.deviation', 'Laminate-Material', 'Geometry-Repair-depth', 'Plate-Fibre content-Std. Deviation V/V%', 'Plate-Laminate', 'Plate-Plate Tested by lab(s)', 'Geometry-Repair-base material', 'Geometry-width\\n(cruciform arms)', 'Geometry-Repair-scarf/plug/patch', 'Plate-Geometry/ies', 'Laminate-Production method', 'Geometry-General Shape', 'Geometry-tab\\nlength']\n"
     ]
    }
   ],
   "source": [
    "plot_absence(df_all, name_mapping, '../data/OptiMat_absence_ratio_initial.png', fontsize=12)"
   ]
  },
  {
   "cell_type": "markdown",
   "metadata": {
    "collapsed": false,
    "pycharm": {
     "name": "#%% md\n"
    }
   },
   "source": [
    "## Drop invalid Ncycles and R-value1 rows"
   ]
  },
  {
   "cell_type": "code",
   "execution_count": 4,
   "metadata": {
    "collapsed": false,
    "pycharm": {
     "name": "#%%\n"
    }
   },
   "outputs": [],
   "source": [
    "# Remove invalid Ncycles\n",
    "df_all.drop(np.where(pd.isna(df_all.loc[:, 'Ncycles']))[0], axis=0, inplace=True)\n",
    "df_all.reset_index(inplace=True,drop=True)\n",
    "\n",
    "df_all.drop(np.where(df_all.loc[:, 'Ncycles']==0)[0], axis=0, inplace=True)\n",
    "df_all.reset_index(inplace=True,drop=True)\n",
    "\n",
    "df_all.drop(np.where(df_all.loc[:, 'Ncycles']==0.5)[0], axis=0, inplace=True)\n",
    "df_all.reset_index(inplace=True,drop=True)\n",
    "\n",
    "df_all.drop(np.where(df_all.loc[:, 'Ncycles']==1.5)[0], axis=0, inplace=True)\n",
    "df_all.reset_index(inplace=True,drop=True)\n",
    "\n",
    "# what is VA test? (in the comment of the original document)\n",
    "df_all.drop(np.where([isinstance(x, str) for x in df_all['f']])[0], axis=0, inplace=True)\n",
    "df_all.reset_index(inplace=True,drop=True)\n",
    "\n",
    "# fill missing fibre percentage\n",
    "modify_col(df_all, 'Laminate- 0°', fill_na, n = 0)\n",
    "modify_col(df_all, 'Laminate- 45°', fill_na, n = 0)\n",
    "modify_col(df_all, 'Laminate- -45°', fill_na, n = 0)\n",
    "modify_col(df_all, 'Laminate- 90°', fill_na, n = 0)\n",
    "\n",
    "modify_col(df_all, 'Ncycles', remove_strs)\n",
    "modify_col(df_all, 'Ncycles', remove_strs)\n",
    "modify_col(df_all, 'Lnominal', remove_strs)\n",
    "modify_col(df_all, 'R-value1', remove_strs)\n",
    "modify_col(df_all, 'ratedisplacement', remove_strs)\n",
    "\n",
    "modify_col(df_all, 'taverage', remove_s, s = '\\' ')\n",
    "modify_col(df_all, 'taverage', remove_strs)\n",
    "\n",
    "# combine 45deg and -45deg\n",
    "df_all['Laminate- 45°'] += df_all['Laminate- -45°']\n",
    "\n",
    "# # Remove invalid Rvalue1 in fatigue tests\n",
    "# no_R_value = np.where(pd.isna(df_all.loc[:, 'R-value1']))[0]\n",
    "# fatigue_idx = np.where(df_all.loc[:, 'Ncycles']!=1)[0]\n",
    "# no_R_to_del = np.intersect1d(no_R_value, fatigue_idx)\n",
    "# df_all.drop(no_R_to_del, axis=0, inplace=True)\n",
    "# df_all.reset_index(inplace=True,drop=True)"
   ]
  },
  {
   "cell_type": "code",
   "execution_count": 5,
   "metadata": {
    "collapsed": false,
    "pycharm": {
     "name": "#%%\n"
    }
   },
   "outputs": [],
   "source": [
    "# Add material code\n",
    "material_code = [str(df_all.loc[x, 'Property Plate']) + str(df_all.loc[x, 'Property Geometry']) + str(df_all.loc[x, 'Property Laminate']) for x in range(len(df_all))]\n",
    "df_all['Material_Code'] = material_code"
   ]
  },
  {
   "cell_type": "code",
   "execution_count": 6,
   "metadata": {
    "collapsed": false,
    "pycharm": {
     "name": "#%%\n"
    }
   },
   "outputs": [],
   "source": [
    "# Divide Static Maximum Stress into Tensile and Compressive Stress\n",
    "df_all['Static Maximum Tensile Stress'] = np.nan\n",
    "df_all['Static Maximum Compressive Stress'] = np.nan\n",
    "for idx in range(len(df_all)):\n",
    "    if df_all.loc[idx,'smax,static']<0:\n",
    "        df_all.loc[idx,'Static Maximum Compressive Stress']=df_all.loc[idx,'smax,static']\n",
    "    else:\n",
    "        df_all.loc[idx,'Static Maximum Tensile Stress']=df_all.loc[idx,'smax,static']"
   ]
  },
  {
   "cell_type": "code",
   "execution_count": 7,
   "metadata": {
    "collapsed": false,
    "pycharm": {
     "name": "#%%\n"
    }
   },
   "outputs": [],
   "source": [
    "# If R>1, max stress must be negative\n",
    "where_R1 = []\n",
    "for idx,x in enumerate(df_all['R-value1']):\n",
    "    if not isinstance(x,str) and x>1:\n",
    "        where_R1.append(idx)\n",
    "where_R1 = np.array(where_R1)\n",
    "df_all.loc[where_R1,'smax'] = -np.abs(df_all.loc[where_R1,'smax'])"
   ]
  },
  {
   "cell_type": "code",
   "execution_count": 8,
   "metadata": {
    "collapsed": false,
    "pycharm": {
     "name": "#%%\n"
    }
   },
   "outputs": [],
   "source": [
    "# Calculate Minimum Stress using R-value1 and Maximum Stress\n",
    "# It seems that the definition of R for R>1 is kind of weird in the database\n",
    "for idx in range(len(df_all)):\n",
    "    if not isinstance(df_all.loc[idx,'R-value1'], str) and not np.isnan(df_all.loc[idx,'R-value1']):\n",
    "        if df_all.loc[idx,'R-value1'] <= 1:\n",
    "            df_all.loc[idx,'Minimum Stress'] = df_all.loc[idx,'R-value1'] * df_all.loc[idx,'smax']\n",
    "        else:\n",
    "            df_all.loc[idx,'Minimum Stress'] = df_all.loc[idx,'smax'] / df_all.loc[idx,'R-value1']"
   ]
  },
  {
   "cell_type": "markdown",
   "metadata": {
    "collapsed": false,
    "pycharm": {
     "name": "#%% md\n"
    }
   },
   "source": [
    "## Extract static and fatigue experiments respectively"
   ]
  },
  {
   "cell_type": "code",
   "execution_count": 9,
   "metadata": {
    "collapsed": false,
    "pycharm": {
     "name": "#%%\n"
    }
   },
   "outputs": [],
   "source": [
    "if 'Laminate-lay-up' in df_all.columns:\n",
    "    code2seq_dict = {}\n",
    "    layups = df_all['Laminate-lay-up'].values\n",
    "    for layer in list(set(layups)):\n",
    "        code2seq_dict[layer] = code2seq(layer)\n",
    "    seq = []\n",
    "    for layer in layups:\n",
    "        seq.append('/'.join([str(x) for x in code2seq(layer)]))\n",
    "    df_all['Sequence'] = seq"
   ]
  },
  {
   "cell_type": "code",
   "execution_count": 10,
   "outputs": [],
   "source": [
    "sequence = [[int(y) if y != '' else np.nan for y in str(x).split('/')] for x in\n",
    "            df_all['Sequence'].values]\n",
    "deg_layers = np.zeros((len(sequence), 4),\n",
    "                      dtype=np.int)  # for 0-deg, pm45-deg, 90-deg, and other directions respectively\n",
    "\n",
    "for idx, seq in enumerate(sequence):\n",
    "    deg_layers[idx, 0] = seq.count(0)\n",
    "    deg_layers[idx, 1] = seq.count(45) + seq.count(-45)\n",
    "    deg_layers[idx, 2] = seq.count(90)\n",
    "    deg_layers[idx, 3] = len(seq) - seq.count(np.nan) - np.sum(deg_layers[idx, :3])\n",
    "\n",
    "deg_layers_name = ['0-deg layers', '45-deg layers', '90-deg layers',\n",
    "                   'Other-deg layers']\n",
    "df_all = pd.concat([df_all, pd.DataFrame(data=deg_layers,\n",
    "                                                  columns=deg_layers_name)], axis=1)"
   ],
   "metadata": {
    "collapsed": false,
    "pycharm": {
     "name": "#%%\n"
    }
   }
  },
  {
   "cell_type": "code",
   "execution_count": 11,
   "outputs": [],
   "source": [
    "static_indexes = np.where(df_all['Ncycles']==1)[0]\n",
    "# There will be a limited number of fatigue tests that Ncycles==1\n",
    "non_static_indexes = np.setdiff1d(df_all.index, static_indexes)\n",
    "\n",
    "df_tmp = df_all.copy()\n",
    "\n",
    "df_static = df_tmp.loc[static_indexes].copy()\n",
    "df_fatigue = df_tmp.loc[non_static_indexes].copy()\n",
    "\n",
    "df_static.reset_index(drop=True, inplace=True)\n",
    "df_fatigue.reset_index(drop=True, inplace=True)\n",
    "\n",
    "df_fatigue = replace_column_name(df_fatigue, name_mapping)\n",
    "df_static = replace_column_name(df_static, name_mapping)"
   ],
   "metadata": {
    "collapsed": false,
    "pycharm": {
     "name": "#%%\n"
    }
   }
  },
  {
   "cell_type": "code",
   "execution_count": 12,
   "outputs": [],
   "source": [
    "static_mat_lay = df_static['Material_Code'].values\n",
    "static_properties = {}\n",
    "\n",
    "static_features = ['Static Maximum Tensile Stress', 'Static Maximum Compressive Stress', 'Static Elastic Modulus', 'Static Compressive Modulus']\n",
    "\n",
    "for material in list(set(static_mat_lay)):\n",
    "    where_material = np.where(static_mat_lay == material)[0]\n",
    "    # print(material, len(where_material))\n",
    "    material_data = df_static.loc[where_material, static_features].copy()\n",
    "    material_data.reset_index(drop=True, inplace=True)\n",
    "    material_df = {}\n",
    "    for feature in static_features:\n",
    "        for idx in range(len(material_data[feature])):\n",
    "            if type(material_data.loc[idx, feature]) == str:\n",
    "                material_data.loc[idx, feature] = np.nan\n",
    "\n",
    "        presence_indexes = np.where(material_data[feature])[0]\n",
    "        mean_value = np.mean(material_data.loc[presence_indexes, feature])\n",
    "        material_df[feature] = mean_value\n",
    "\n",
    "    material_df = pd.DataFrame(material_df, index=[0])\n",
    "    static_properties[material]=material_df\n",
    "\n",
    "########### modify for another dataset ##############\n",
    "fatigue_static_features = ['Static '+x if 'Static' not in x else x for x in static_features]\n",
    "#####################################################\n",
    "fatigue_mat_lay = df_fatigue['Material_Code'].values\n",
    "\n",
    "for feature in fatigue_static_features:\n",
    "    if feature not in list(df_fatigue.columns):\n",
    "        df_fatigue[feature] = np.nan\n",
    "\n",
    "for material in list(set(static_mat_lay)):\n",
    "    where_material = np.where(fatigue_mat_lay == material)[0]\n",
    "    if len(where_material) > 0:\n",
    "        static_property = static_properties[material]\n",
    "        for feature in static_features:\n",
    "            ########### modify for another dataset ##############\n",
    "            name = 'Static '+feature if 'Static' not in feature else feature\n",
    "            feature_absence = np.where(pd.isna(df_fatigue[name]))[0]\n",
    "            to_assign = np.intersect1d(where_material, feature_absence)\n",
    "            #####################################################\n",
    "            df_fatigue.loc[to_assign,name] = static_property[feature].values[0]\n"
   ],
   "metadata": {
    "collapsed": false,
    "pycharm": {
     "name": "#%%\n"
    }
   }
  },
  {
   "cell_type": "code",
   "execution_count": 13,
   "outputs": [],
   "source": [
    "df_fatigue['Absolute Maximum Stress'] = np.nan\n",
    "df_fatigue['Absolute Peak-to-peak Stress'] = np.nan\n",
    "df_fatigue['Relative Maximum Stress'] = np.nan\n",
    "df_fatigue['Relative Peak-to-peak Stress'] = np.nan\n",
    "\n",
    "for idx in range(df_fatigue.values.shape[0]):\n",
    "    s = np.array([df_fatigue.loc[idx, 'Maximum Stress'],df_fatigue.loc[idx, 'Minimum Stress']])\n",
    "    which_max_stress = np.where(np.abs(s) == np.max(np.abs(s)))[0]\n",
    "    if len(which_max_stress) == 0:\n",
    "        which_max_stress = 1 - int(np.isnan(s[1])) # when nan appears in s\n",
    "    else:\n",
    "        which_max_stress = which_max_stress[0]\n",
    "\n",
    "    relative_to = np.abs(df_fatigue.loc[idx,'Static Maximum Tensile Stress']) if s[which_max_stress] > 0 else np.abs(df_fatigue.loc[idx,'Static Maximum Compressive Stress'])\n",
    "    if np.isnan(relative_to) and s[0] + s[1] < 1e-5 and s[which_max_stress] > 0:\n",
    "        relative_to = np.abs(df_fatigue.loc[idx,'Static Maximum Compressive Stress'])\n",
    "\n",
    "    df_fatigue.loc[idx,'Absolute Maximum Stress'] = s[which_max_stress]\n",
    "    p2p = np.abs(s[0]-s[1])\n",
    "    if np.isnan(p2p):\n",
    "        p2p = np.abs(s[1 - int(np.isnan(s[1]))])\n",
    "    df_fatigue.loc[idx,'Absolute Peak-to-peak Stress'] = p2p\n",
    "\n",
    "    if np.abs(s[which_max_stress]/relative_to) <= 1.1: # otherwise static data is not correct\n",
    "        df_fatigue.loc[idx,'Relative Maximum Stress'] = np.abs(s[which_max_stress]/relative_to)\n",
    "        df_fatigue.loc[idx,'Relative Peak-to-peak Stress'] = np.abs(p2p/relative_to)\n",
    "    else:\n",
    "        df_fatigue.loc[idx,'Static Maximum Tensile Stress'] = np.nan\n",
    "        df_fatigue.loc[idx,'Static Maximum Compressive Stress'] = np.nan"
   ],
   "metadata": {
    "collapsed": false,
    "pycharm": {
     "name": "#%%\n"
    }
   }
  },
  {
   "cell_type": "code",
   "execution_count": 14,
   "outputs": [],
   "source": [
    "# Remove runout tests\n",
    "df_fatigue = df_fatigue.loc[np.where(df_fatigue['runout'] != 'y')[0],:].copy()\n",
    "df_fatigue.reset_index(drop=True, inplace=True)"
   ],
   "metadata": {
    "collapsed": false,
    "pycharm": {
     "name": "#%%\n"
    }
   }
  },
  {
   "cell_type": "code",
   "execution_count": 15,
   "outputs": [],
   "source": [
    "# Only retain CA (constant amplitude) tests\n",
    "df_fatigue = df_fatigue.loc[np.where(df_fatigue['Test type'] == 'CA')[0],:]\n",
    "df_fatigue.reset_index(drop=True, inplace=True)"
   ],
   "metadata": {
    "collapsed": false,
    "pycharm": {
     "name": "#%%\n"
    }
   }
  },
  {
   "cell_type": "code",
   "execution_count": 16,
   "outputs": [],
   "source": [
    "df_fatigue['log(Cycles to Failure)'] = np.log10(df_fatigue['Cycles to Failure'].values.astype(float))"
   ],
   "metadata": {
    "collapsed": false,
    "pycharm": {
     "name": "#%%\n"
    }
   }
  },
  {
   "cell_type": "code",
   "execution_count": 17,
   "outputs": [],
   "source": [
    "df_static['log(Static Maximum Tensile Stress)'] = np.log10(df_static['Static Maximum Tensile Stress'].values.astype(float))"
   ],
   "metadata": {
    "collapsed": false,
    "pycharm": {
     "name": "#%%\n"
    }
   }
  },
  {
   "cell_type": "code",
   "execution_count": 18,
   "outputs": [],
   "source": [
    "df_fatigue.to_excel('../data/OptiMat_fatigue.xlsx', engine='openpyxl', index=False)\n",
    "df_static.to_excel('../data/OptiMat_static.xlsx', engine='openpyxl', index=False)"
   ],
   "metadata": {
    "collapsed": false,
    "pycharm": {
     "name": "#%%\n"
    }
   }
  },
  {
   "cell_type": "code",
   "execution_count": 19,
   "outputs": [
    {
     "data": {
      "text/plain": "  0%|          | 0/100 [00:00<?, ?it/s]",
      "application/vnd.jupyter.widget-view+json": {
       "version_major": 2,
       "version_minor": 0,
       "model_id": "a6beb30a5cef419c9a52fdf80fb22219"
      }
     },
     "metadata": {},
     "output_type": "display_data"
    },
    {
     "name": "stderr",
     "output_type": "stream",
     "text": [
      "/home/xlluo/anaconda3/envs/ML-fracture/lib/python3.7/site-packages/sklearn/preprocessing/_data.py:400: RuntimeWarning: All-NaN slice encountered\n",
      "  data_min = np.nanmin(X, axis=0)\n",
      "/home/xlluo/anaconda3/envs/ML-fracture/lib/python3.7/site-packages/sklearn/preprocessing/_data.py:401: RuntimeWarning: All-NaN slice encountered\n",
      "  data_max = np.nanmax(X, axis=0)\n"
     ]
    },
    {
     "data": {
      "text/plain": "  0%|          | 0/152 [00:00<?, ?it/s]",
      "application/vnd.jupyter.widget-view+json": {
       "version_major": 2,
       "version_minor": 0,
       "model_id": "4bf74179d5dc425481e57df2cdae9a79"
      }
     },
     "metadata": {},
     "output_type": "display_data"
    }
   ],
   "source": [
    "df_static = replace_column_name(df_static, name_mapping)\n",
    "averaging(df_fatigue, measure_features=['Maximum Stress', 'Minimum Stress', 'Frequency']).to_excel('../data/OptiMat_avg_fatigue.xlsx', engine='openpyxl', index=False)\n",
    "averaging(df_static, measure_features=['Length(nominal)']).to_excel('../data/OptiMat_avg_static.xlsx', engine='openpyxl', index=False)"
   ],
   "metadata": {
    "collapsed": false,
    "pycharm": {
     "name": "#%%\n"
    }
   }
  },
  {
   "cell_type": "code",
   "execution_count": 24,
   "metadata": {
    "collapsed": false,
    "pycharm": {
     "name": "#%%\n"
    }
   },
   "outputs": [],
   "source": [
    "plot_absence(df_fatigue, name_mapping, '../data/OptiMat_absence_ratio.png', fontsize=5)"
   ]
  },
  {
   "cell_type": "code",
   "execution_count": 23,
   "outputs": [],
   "source": [
    "plot_absence(df_static, name_mapping, '../data/OptiMat_static_absence_ratio.png', fontsize=5)"
   ],
   "metadata": {
    "collapsed": false,
    "pycharm": {
     "name": "#%%\n"
    }
   }
  },
  {
   "cell_type": "code",
   "execution_count": null,
   "outputs": [],
   "source": [],
   "metadata": {
    "collapsed": false,
    "pycharm": {
     "name": "#%%\n"
    }
   }
  }
 ],
 "metadata": {
  "kernelspec": {
   "display_name": "Python 3.6.9 ('venv': venv)",
   "language": "python",
   "name": "python3"
  },
  "language_info": {
   "codemirror_mode": {
    "name": "ipython",
    "version": 3
   },
   "file_extension": ".py",
   "mimetype": "text/x-python",
   "name": "python",
   "nbconvert_exporter": "python",
   "pygments_lexer": "ipython3",
   "version": "3.6.9"
  },
  "orig_nbformat": 4,
  "vscode": {
   "interpreter": {
    "hash": "f15373116f3f1333770e7ecbd767398a2d7ae8734f1a603bc2fc87ae52980838"
   }
  }
 },
 "nbformat": 4,
 "nbformat_minor": 2
}