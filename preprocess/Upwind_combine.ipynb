{
 "cells": [
  {
   "cell_type": "markdown",
   "metadata": {
    "collapsed": false,
    "pycharm": {
     "name": "#%% md\n"
    }
   },
   "source": [
    "## Initialize"
   ]
  },
  {
   "cell_type": "code",
   "execution_count": 1,
   "metadata": {
    "pycharm": {
     "name": "#%%\n"
    }
   },
   "outputs": [],
   "source": [
    "%load_ext autoreload\n",
    "%autoreload 2\n",
    "\n",
    "import pandas as pd\n",
    "import numpy as np\n",
    "from utils import *\n",
    "import matplotlib.pyplot as plt\n",
    "import matplotlib\n",
    "\n",
    "data_path = '../data/Upwind_combine.xlsx'\n",
    "\n",
    "df_all = pd.read_excel(\n",
    "    data_path, engine='openpyxl', sheet_name=None)['Sheet1']"
   ]
  },
  {
   "cell_type": "code",
   "execution_count": 2,
   "metadata": {
    "collapsed": false,
    "pycharm": {
     "name": "#%%\n"
    }
   },
   "outputs": [],
   "source": [
    "name_mapping = {\n",
    "    # 'Table', ##### Not useful\n",
    "    'OptiDAT nr.': 'OptiDat Test Number',\n",
    "    # 'identification', ##### Not useful\n",
    "    # 'Property Plate', ##### Used to generate Material_Code\n",
    "    # 'laboratory', ##### Not useful\n",
    "    # 'angle': 'Load Angle',\n",
    "    # 'geometry', ##### Used to generate Material_Code\n",
    "    # 'material', ##### Not useful\n",
    "    'average thicknessmiddle': 'Thickness',\n",
    "    'widthmiddle': 'Width',\n",
    "    'area[mm2]': 'Area',\n",
    "    'length total[mm]': 'Length',\n",
    "    'length gaugeaverage': 'Gauge Length',\n",
    "    # 'workpackageI', ##### Not useful\n",
    "    # 'start date', ##### Not useful\n",
    "    # 'end date', ##### Not useful\n",
    "    # 'test type', ##### Identify type\n",
    "    'R-value': 'R-value',\n",
    "    # 'load (max)[kN]': 'Maximum Load', ##### Using Maximum Stress directly\n",
    "    # 'average_emax': 'Average Strain',\n",
    "    # 'poissonaverage': 'Average Poisson Ratio',\n",
    "    'σmax[MPa]': 'Maximum Stress',\n",
    "    # 'G[Gpa]': 'Shear Modulus',\n",
    "    'cycles to failurefatigue': 'Cycles to Failure',\n",
    "    # 'runout', ##### Not useful\n",
    "    # 'loading rate[mm/min]': 'Displacement Rate',\n",
    "    'loading rate[Hz]': 'Frequency',\n",
    "    # 'E_avg[GPa]': 'Modulus (Tensile or Compressive)', ##### Fill Static Elastic/Compressive Modulus.\n",
    "    # 'machine', ##### Not useful\n",
    "    # 'control mode', ##### Not useful\n",
    "    # 'special fixture', ##### Not useful\n",
    "    # 'tabs remarks', ##### Not useful\n",
    "    'T02 max[ºC]': 'Temperature',\n",
    "    # 'Environment', ##### Most of them are \"Ambient\"\n",
    "    # 'reference document(s)', ##### Not useful\n",
    "    # 'remarks', ##### Not useful\n",
    "    # 'invalid', ##### Not useful\n",
    "    # 'strain gaugesmiddle', ##### Not useful\n",
    "    # 'grip pressure[MPa]', ##### How to use it?\n",
    "    # 'number of layers': 'Number of Layers',\n",
    "    'tab thickness': 'Tab Thickness',\n",
    "    # 'Plate-Fibre Type',\n",
    "    # 'Plate-Mould', ##### Not useful\n",
    "    # 'Plate-Date of Arrival', ##### Not useful\n",
    "    # 'Plate-Glass Density', ##### To calculate Volume Fraction\n",
    "    # 'Plate-Laminate-Width': 'Laminate Width', ##### Use Width directly.\n",
    "    # 'Plate-Fibre Weight': 'Fibre Weight', ##### Use Fibre Weight Fraction\n",
    "    # 'Plate-Project', ##### Not useful\n",
    "    # 'Plate-Laminate-Thickness Adjustment Mould': 'Thickness Adjustment Mould', ##### not useful\n",
    "    # 'Plate-Injection Date', ##### Not useful\n",
    "    # 'Plate-Resin System-Mix Ratio', ##### Most of them are the same\n",
    "    # 'Plate-Material', ##### Not useful\n",
    "    # 'Plate-Weaver', ##### Not useful\n",
    "    # 'Plate-Laminate-Length': 'Laminate Length', misleading\n",
    "    # 'Plate-Remarks', ##### Not useful\n",
    "    # 'Plate-Resin Density(liquid)', ##### To calculate Volume Fraction\n",
    "    # 'Plate-Fibre Volume Fraction', ##### Incomplete, recalculate\n",
    "    # 'Plate-Vacuum-Curing', ##### Most of them are the same\n",
    "    # 'Plate-Layers', ##### Replicated\n",
    "    # 'Plate-article nr.', ##### Not useful\n",
    "    # 'Plate-Prepared Resin Mixture-Resin': 'Resin Mixture Resin Weight', ##### Not useful\n",
    "    # 'Plate-Post-cure', ##### How to use it?\n",
    "    # 'Plate-Resin System-Resin', ##### Not useful\n",
    "    # 'Plate-Vacuum-Injection': 'Vacuum Injection', ##### Not useful\n",
    "    # 'Plate-Prepared Resin Mixture-Hardener': 'Resin Mixture Hardener Weight', ##### Not useful\n",
    "    # 'Plate-Lay-up': 'Lay-up',\n",
    "    # 'Plate-Curing Tabs Glue ', ##### How to use it?\n",
    "    # 'Plate-Fibre Mass', ##### To calculate Volume Fraction\n",
    "    'Plate-Fibre Weight Percentage': 'Fibre Weight Fraction',\n",
    "    # 'Plate-Delta Cp', ##### Not useful\n",
    "    # 'Plate-Fibre Weight Fraction', ##### Too many absence\n",
    "    # 'Plate-Tg', ##### Too many absence\n",
    "    # 'Plate-Prepared Resin Mixture-Mix': 'Resin Mixture Weight', ##### Not useful\n",
    "    # 'Plate-Void Content', ##### Too many absence\n",
    "    # 'Plate-Prepared Resin Mixture-Ratio': 'Resin Mixture Hardener Fraction', ##### Not useful\n",
    "    # 'Plate-Resin System-Hardener', ##### Not useful\n",
    "    # 'Plate-Material Density', ##### Too many absence\n",
    "    # 'Plate-Resin Density(cured)', ##### Data seems not compatible with Resin Density(liquid)\n",
    "    # 'Plate-Operater' ##### Not useful\n",
    "    ################### Added features ###################\n",
    "    # 'Maximum Tensile Stress': 'Maximum Tensile Stress',\n",
    "    # 'Maximum Compressive Stress': 'Maximum Compressive Stress',\n",
    "    'Static Maximum Tensile Stress': 'Static Maximum Tensile Stress',\n",
    "    'Static Maximum Compressive Stress': 'Static Maximum Compressive Stress',\n",
    "    'Minimum Stress': 'Minimum Stress',\n",
    "    'Static Elastic Modulus': 'Static Elastic Modulus',\n",
    "    'Static Compressive Modulus': 'Static Compressive Modulus',\n",
    "}"
   ]
  },
  {
   "cell_type": "markdown",
   "metadata": {
    "collapsed": false,
    "pycharm": {
     "name": "#%% md\n"
    }
   },
   "source": [
    "## Plot initial absence ratio"
   ]
  },
  {
   "cell_type": "code",
   "execution_count": 3,
   "metadata": {
    "collapsed": false,
    "pycharm": {
     "name": "#%%\n"
    }
   },
   "outputs": [],
   "source": [
    "plot_absence(df_all, name_mapping, '../data/Upwind_absence_ratio_initial.png', fontsize=12)"
   ]
  },
  {
   "cell_type": "code",
   "execution_count": 4,
   "outputs": [],
   "source": [
    "modify_col(df_all, 'widthmiddle', cal_fraction, s=' / ')\n",
    "modify_col(df_all, 'widthmiddle', cal_fraction, s='/')\n",
    "modify_col(df_all, 'T02 max[ºC]', remove_strs)\n",
    "modify_col(df_all, 'Plate-Fibre Weight Percentage', remove_strs)\n",
    "modify_col(df_all, 'Plate-Glass Density', remove_strs)\n",
    "modify_col(df_all, 'Plate-Laminate-Width', remove_strs)\n",
    "modify_col(df_all, 'Plate-Fibre Weight', remove_strs)\n",
    "modify_col(df_all, 'Plate-Laminate-Thickness Adjustment Mould', remove_strs)\n",
    "modify_col(df_all, 'Plate-Laminate-Length', remove_strs)\n",
    "modify_col(df_all, 'Plate-Fibre Mass', remove_strs)"
   ],
   "metadata": {
    "collapsed": false,
    "pycharm": {
     "name": "#%%\n"
    }
   }
  },
  {
   "cell_type": "code",
   "execution_count": 5,
   "metadata": {
    "collapsed": false,
    "pycharm": {
     "name": "#%%\n"
    }
   },
   "outputs": [],
   "source": [
    "# Add material code\n",
    "material_code = [str(df_all.loc[x, 'Property Plate']) + str(df_all.loc[x, 'geometry']) for x in range(len(df_all))]\n",
    "df_all['Material_Code'] = material_code"
   ]
  },
  {
   "cell_type": "code",
   "execution_count": 6,
   "metadata": {
    "collapsed": false,
    "pycharm": {
     "name": "#%%\n"
    }
   },
   "outputs": [],
   "source": [
    "# Divide Static Maximum Stress into Tensile and Compressive Stress\n",
    "df_all['Maximum Tensile Stress'] = np.nan\n",
    "df_all['Maximum Compressive Stress'] = np.nan\n",
    "df_all['Elastic Modulus'] = np.nan\n",
    "df_all['Compressive Modulus'] = np.nan\n",
    "for idx in range(len(df_all)):\n",
    "    if df_all.loc[idx,'σmax[MPa]']<0:\n",
    "        df_all.loc[idx,'Maximum Compressive Stress']=df_all.loc[idx,'σmax[MPa]']\n",
    "        df_all.loc[idx,'Compressive Modulus']=df_all.loc[idx,'E_avg[GPa]']\n",
    "    else:\n",
    "        df_all.loc[idx,'Maximum Tensile Stress']=df_all.loc[idx,'σmax[MPa]']\n",
    "        df_all.loc[idx,'Elastic Modulus']=df_all.loc[idx,'E_avg[GPa]']"
   ]
  },
  {
   "cell_type": "code",
   "execution_count": 7,
   "metadata": {
    "collapsed": false,
    "pycharm": {
     "name": "#%%\n"
    }
   },
   "outputs": [],
   "source": [
    "# If R>1, max stress must be negative\n",
    "where_R1 = []\n",
    "for idx,x in enumerate(df_all['R-value']):\n",
    "    if not isinstance(x,str) and x>1:\n",
    "        where_R1.append(idx)\n",
    "where_R1 = np.array(where_R1)\n",
    "df_all.loc[where_R1,'σmax[MPa]'] = -np.abs(df_all.loc[where_R1,'σmax[MPa]'])"
   ]
  },
  {
   "cell_type": "code",
   "execution_count": 8,
   "metadata": {
    "collapsed": false,
    "pycharm": {
     "name": "#%%\n"
    }
   },
   "outputs": [],
   "source": [
    "# Calculate Minimum Stress using R-value and Maximum Stress\n",
    "df_all['Minimum Stress'] = df_all['R-value'] * df_all['σmax[MPa]']"
   ]
  },
  {
   "cell_type": "code",
   "execution_count": 9,
   "outputs": [],
   "source": [
    "# Remove tests with temperature control or humidity control\n",
    "df_all = df_all.loc[np.where(df_all['Environment'] == 'Ambient')[0],:].copy()\n",
    "df_all.reset_index(drop=True, inplace=True)"
   ],
   "metadata": {
    "collapsed": false,
    "pycharm": {
     "name": "#%%\n"
    }
   }
  },
  {
   "cell_type": "markdown",
   "metadata": {
    "collapsed": false,
    "pycharm": {
     "name": "#%% md\n"
    }
   },
   "source": [
    "## Extract static and fatigue experiments respectively"
   ]
  },
  {
   "cell_type": "code",
   "execution_count": 10,
   "metadata": {
    "collapsed": false,
    "pycharm": {
     "name": "#%%\n"
    }
   },
   "outputs": [],
   "source": [
    "if 'Plate-Lay-up' in df_all.columns:\n",
    "    code2seq_dict = {}\n",
    "    layups = df_all['Plate-Lay-up'].values\n",
    "    for layer in list(set(layups)):\n",
    "        code2seq_dict[layer] = code2seq(layer)\n",
    "    seq = []\n",
    "    for layer in layups:\n",
    "        seq.append('/'.join([str(x) for x in code2seq(layer)]))\n",
    "    df_all['Sequence'] = seq"
   ]
  },
  {
   "cell_type": "code",
   "execution_count": 11,
   "metadata": {
    "collapsed": false,
    "pycharm": {
     "name": "#%%\n"
    }
   },
   "outputs": [],
   "source": [
    "static_indexes = np.union1d(np.where(df_all['test type']=='STT')[0], np.where(df_all['test type']=='STC')[0])\n",
    "non_static_indexes = np.where(df_all['test type']=='CA')[0]\n",
    "\n",
    "df_tmp = df_all.copy()\n",
    "\n",
    "df_static = df_tmp.loc[static_indexes].copy()\n",
    "df_fatigue = df_tmp.loc[non_static_indexes].copy()\n",
    "\n",
    "df_static.reset_index(drop=True, inplace=True)\n",
    "df_fatigue.reset_index(drop=True, inplace=True)\n",
    "\n",
    "df_fatigue = replace_column_name(df_fatigue, name_mapping)\n",
    "df_static = replace_column_name(df_static, name_mapping)"
   ]
  },
  {
   "cell_type": "code",
   "execution_count": 12,
   "metadata": {
    "collapsed": false,
    "pycharm": {
     "name": "#%%\n"
    }
   },
   "outputs": [],
   "source": [
    "static_mat_lay = df_static['Material_Code'].values\n",
    "static_properties = {}\n",
    "\n",
    "static_features = ['Maximum Tensile Stress', 'Maximum Compressive Stress', 'Elastic Modulus', 'Compressive Modulus']\n",
    "\n",
    "for material in list(set(static_mat_lay)):\n",
    "    where_material = np.where(static_mat_lay == material)[0]\n",
    "    # print(material, len(where_material))\n",
    "    material_data = df_static.loc[where_material, static_features].copy()\n",
    "    material_data.reset_index(drop=True, inplace=True)\n",
    "    material_df = {}\n",
    "    for feature in static_features:\n",
    "        for idx in range(len(material_data[feature])):\n",
    "            if type(material_data.loc[idx, feature]) == str:\n",
    "                material_data.loc[idx, feature] = np.nan\n",
    "\n",
    "        presence_indexes = np.where(material_data[feature])[0]\n",
    "        mean_value = np.mean(material_data.loc[presence_indexes, feature])\n",
    "        material_df[feature] = mean_value\n",
    "\n",
    "    material_df = pd.DataFrame(material_df, index=[0])\n",
    "    static_properties[material]=material_df\n",
    "\n",
    "########### modify for another dataset ##############\n",
    "fatigue_static_features = ['Static '+x if 'Static' not in x else x for x in static_features]\n",
    "#####################################################\n",
    "fatigue_mat_lay = df_fatigue['Material_Code'].values\n",
    "\n",
    "for feature in fatigue_static_features:\n",
    "    if feature not in list(df_fatigue.columns):\n",
    "        df_fatigue[feature] = np.nan\n",
    "\n",
    "for material in list(set(static_mat_lay)):\n",
    "    where_material = np.where(fatigue_mat_lay == material)[0]\n",
    "    if len(where_material) > 0:\n",
    "        static_property = static_properties[material]\n",
    "        for feature in static_features:\n",
    "            ########### modify for another dataset ##############\n",
    "            name = 'Static '+feature if 'Static' not in feature else feature\n",
    "            feature_absence = np.where(pd.isna(df_fatigue[name]))[0]\n",
    "            to_assign = np.intersect1d(where_material, feature_absence)\n",
    "            #####################################################\n",
    "            df_fatigue.loc[to_assign,name] = static_property[feature].values[0]\n"
   ]
  },
  {
   "cell_type": "code",
   "execution_count": 13,
   "outputs": [],
   "source": [
    "where_E_avg_notna = np.where(pd.notna(df_fatigue['E_avg[GPa]']))[0]\n",
    "df_fatigue.loc[where_E_avg_notna, 'Static Elastic Modulus'] = df_fatigue.loc[where_E_avg_notna, 'E_avg[GPa]']\n",
    "df_fatigue.loc[where_E_avg_notna, 'Static Compressive Modulus'] = df_fatigue.loc[where_E_avg_notna, 'E_avg[GPa]']"
   ],
   "metadata": {
    "collapsed": false,
    "pycharm": {
     "name": "#%%\n"
    }
   }
  },
  {
   "cell_type": "code",
   "execution_count": 14,
   "metadata": {
    "collapsed": false,
    "pycharm": {
     "name": "#%%\n"
    }
   },
   "outputs": [],
   "source": [
    "# Remove runout tests\n",
    "df_fatigue = df_fatigue.loc[np.where(df_fatigue['runout'] != 'y')[0],:].copy()\n",
    "df_fatigue.reset_index(drop=True, inplace=True)"
   ]
  },
  {
   "cell_type": "code",
   "execution_count": 15,
   "metadata": {
    "collapsed": false,
    "pycharm": {
     "name": "#%%\n"
    }
   },
   "outputs": [],
   "source": [
    "df_static['log(Static Maximum Tensile Stress)'] = np.log10(df_static['Maximum Tensile Stress'].values.astype(float))"
   ]
  },
  {
   "cell_type": "code",
   "execution_count": 16,
   "metadata": {
    "collapsed": false,
    "pycharm": {
     "name": "#%%\n"
    }
   },
   "outputs": [],
   "source": [
    "df_fatigue['log(Cycles to Failure)'] = np.log10(df_fatigue['Cycles to Failure'].values.astype(float))"
   ]
  },
  {
   "cell_type": "code",
   "execution_count": 17,
   "metadata": {
    "collapsed": false,
    "pycharm": {
     "name": "#%%\n"
    }
   },
   "outputs": [],
   "source": [
    "df_fatigue.to_excel('../data/Upwind_fatigue.xlsx', engine='openpyxl', index=False)\n",
    "df_static.to_excel('../data/Upwind_static.xlsx', engine='openpyxl', index=False)"
   ]
  },
  {
   "cell_type": "code",
   "execution_count": 18,
   "metadata": {
    "collapsed": false,
    "pycharm": {
     "name": "#%%\n"
    }
   },
   "outputs": [
    {
     "data": {
      "text/plain": "  0%|          | 0/68 [00:00<?, ?it/s]",
      "application/vnd.jupyter.widget-view+json": {
       "version_major": 2,
       "version_minor": 0,
       "model_id": "de8021a70bc14b86ac52374341d0e0c7"
      }
     },
     "metadata": {},
     "output_type": "display_data"
    },
    {
     "name": "stderr",
     "output_type": "stream",
     "text": [
      "/home/xlluo/anaconda3/envs/mlfatigue/lib/python3.8/site-packages/sklearn/preprocessing/_data.py:461: RuntimeWarning: All-NaN slice encountered\n",
      "  data_min = np.nanmin(X, axis=0)\n",
      "/home/xlluo/anaconda3/envs/mlfatigue/lib/python3.8/site-packages/sklearn/preprocessing/_data.py:462: RuntimeWarning: All-NaN slice encountered\n",
      "  data_max = np.nanmax(X, axis=0)\n"
     ]
    },
    {
     "data": {
      "text/plain": "  0%|          | 0/56 [00:00<?, ?it/s]",
      "application/vnd.jupyter.widget-view+json": {
       "version_major": 2,
       "version_minor": 0,
       "model_id": "215116b4d38a4bcaa149fbc93c7f9d54"
      }
     },
     "metadata": {},
     "output_type": "display_data"
    },
    {
     "name": "stderr",
     "output_type": "stream",
     "text": [
      "/home/xlluo/anaconda3/envs/mlfatigue/lib/python3.8/site-packages/sklearn/preprocessing/_data.py:461: RuntimeWarning: All-NaN slice encountered\n",
      "  data_min = np.nanmin(X, axis=0)\n",
      "/home/xlluo/anaconda3/envs/mlfatigue/lib/python3.8/site-packages/sklearn/preprocessing/_data.py:462: RuntimeWarning: All-NaN slice encountered\n",
      "  data_max = np.nanmax(X, axis=0)\n"
     ]
    }
   ],
   "source": [
    "df_static = replace_column_name(df_static, name_mapping)\n",
    "averaging(df_fatigue, measure_features=['Maximum Stress', 'Minimum Stress', 'Frequency']).to_excel('../data/Upwind_avg_fatigue.xlsx', engine='openpyxl', index=False)\n",
    "averaging(df_static, measure_features=['loading rate[mm/min]']).to_excel('../data/Upwind_avg_static.xlsx', engine='openpyxl', index=False)"
   ]
  },
  {
   "cell_type": "code",
   "execution_count": 19,
   "metadata": {
    "collapsed": false,
    "pycharm": {
     "name": "#%%\n"
    }
   },
   "outputs": [],
   "source": [
    "plot_absence(df_fatigue, name_mapping, '../data/Upwind_absence_ratio.png', fontsize=5)"
   ]
  },
  {
   "cell_type": "code",
   "execution_count": 20,
   "metadata": {
    "collapsed": false,
    "pycharm": {
     "name": "#%%\n"
    }
   },
   "outputs": [],
   "source": [
    "plot_absence(df_static, name_mapping, '../data/Upwind_static_absence_ratio.png', fontsize=5)"
   ]
  }
 ],
 "metadata": {
  "interpreter": {
   "hash": "1d8736527e45d6a6214b93c62d7cf11bdd64dc67a94623331c70c6bed418bafe"
  },
  "kernelspec": {
   "display_name": "Python 3.9.7 ('base')",
   "language": "python",
   "name": "python3"
  },
  "language_info": {
   "codemirror_mode": {
    "name": "ipython",
    "version": 3
   },
   "file_extension": ".py",
   "mimetype": "text/x-python",
   "name": "python",
   "nbconvert_exporter": "python",
   "pygments_lexer": "ipython3",
   "version": "3.7.13"
  },
  "orig_nbformat": 4
 },
 "nbformat": 4,
 "nbformat_minor": 2
}