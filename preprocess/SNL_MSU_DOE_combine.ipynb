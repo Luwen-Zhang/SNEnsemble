{
 "cells": [
  {
   "cell_type": "markdown",
   "metadata": {
    "pycharm": {
     "name": "#%% md\n"
    }
   },
   "source": [
    "## Import data"
   ]
  },
  {
   "cell_type": "code",
   "execution_count": 1,
   "metadata": {
    "collapsed": false,
    "pycharm": {
     "name": "#%%\n"
    }
   },
   "outputs": [],
   "source": [
    "%load_ext autoreload\n",
    "%autoreload 2\n",
    "\n",
    "import pandas as pd\n",
    "import numpy as np\n",
    "from utils import *\n",
    "import matplotlib.pyplot as plt\n",
    "import matplotlib\n",
    "\n",
    "data_path = '../data/SNL_MSU_DOE_raw.xlsx'\n",
    "\n",
    "dfs = pd.read_excel(\n",
    "    data_path, engine='openpyxl', sheet_name=None)\n",
    "\n",
    "exclude_sheet = ['Resins', 'Fabrics','Environmental','Recent misc.']\n",
    "\n",
    "sheet_names = list(dfs.keys())\n",
    "\n",
    "for ex in exclude_sheet:\n",
    "    if ex in sheet_names:\n",
    "        sheet_names.pop(sheet_names.index(ex))\n",
    "\n",
    "name_mapping = {\n",
    "    'Material': 'Material',\n",
    "    'Resin Type': 'Resin Type',\n",
    "    'Vf, %': 'Fibre Volumn Fraction',\n",
    "    '%, 0 Deg': 'Percentage of Fibre in 0-deg Direction',\n",
    "    '%, 45 Deg': 'Percentage of Fibre in 45-deg Direction',\n",
    "    '%, 90 Deg': 'Percentage of Fibre in 90-deg Direction',\n",
    "    'other %': 'Percentage of Fibre in Other Direction',\n",
    "    'Thickness, mm': 'Thickness',\n",
    "    'Max. Stress, MPa': 'Maximum Stress',\n",
    "    'Min. Stress, MPa': 'Minimum Stress',\n",
    "    'R-value': 'R-value',\n",
    "    'Freq., Hz': 'Frequency',\n",
    "    'E, GPa': 'Initial Elastic Modulus',\n",
    "    'Max. % Strain': 'Maximum Strain',\n",
    "    'Min. % Strain': 'Minimum Strain',\n",
    "    'Cycles': 'Cycles to Failure',\n",
    "    'Moisture Gain, %': 'Moisture Gain',\n",
    "    'Testing Temperature, OC': 'Temperature',\n",
    "    'Width, mm': 'Width',\n",
    "    'Static Max. Stress, MPa': 'Static Maximum Tensile Stress',\n",
    "    'Static Min. Stress, MPa': 'Static Maximum Compressive Stress',\n",
    "    'Static E, GPa': 'Static Elastic Modulus',\n",
    "    'Static Max. % Strain': 'Static Maximum Tensile Strain',\n",
    "    'Static Min. % Strain': 'Static Maximum Compressive Strain',\n",
    "}\n"
   ]
  },
  {
   "cell_type": "code",
   "execution_count": 2,
   "metadata": {
    "collapsed": false,
    "pycharm": {
     "name": "#%%\n"
    }
   },
   "outputs": [],
   "source": [
    "df_all = pd.concat([dfs[name] for name in sheet_names], axis=0, ignore_index=True)\n",
    "\n",
    "plot_absence(df_all, name_mapping, '../data/SNL_MSU_DOE_absence_ratio_initial.png', fontsize=12)"
   ]
  },
  {
   "cell_type": "markdown",
   "metadata": {
    "collapsed": false,
    "pycharm": {
     "name": "#%% md\n"
    }
   },
   "source": [
    "## Preprocess"
   ]
  },
  {
   "cell_type": "markdown",
   "metadata": {
    "collapsed": false,
    "pycharm": {
     "name": "#%% md\n"
    }
   },
   "source": [
    "### Fix missing and useless cells"
   ]
  },
  {
   "cell_type": "code",
   "execution_count": 3,
   "metadata": {
    "collapsed": false,
    "pycharm": {
     "name": "#%%\n"
    }
   },
   "outputs": [],
   "source": [
    "df_all = pd.concat([dfs[name] for name in sheet_names], axis=0, ignore_index=True)\n",
    "\n",
    "modify_col(df_all, 'Testing Temperature, OC', remove_s, s=' ̊C')\n",
    "modify_col(df_all, '%, 45 Deg', remove_s, s=' G')\n",
    "modify_col(df_all, '%, 0 Deg', remove_s, s=' C')\n",
    "modify_col(df_all, 'other %', remove_s, s=' G')\n",
    "modify_col(df_all, 'Vf, %', cal_fraction, s='/')\n",
    "modify_col(df_all, '%, 0 Deg', cal_fraction, s='-')\n",
    "modify_col(df_all, '%, 45 Deg', cal_fraction, s='-')\n",
    "modify_col(df_all, 'Thickness, mm', conditional_remove, s='mm dia') #\n",
    "modify_col(df_all, 'Thickness, mm', conditional_remove, s='/') #\n",
    "modify_col(df_all, 'Max. Stress, MPa', remove_s, s='*')\n",
    "modify_col(df_all, 'Max. Stress, MPa', remove_s, s='+')\n",
    "modify_col(df_all, 'Max. Stress, MPa', conditional_remove, s='Newtons')\n",
    "modify_col(df_all, 'Min. Stress, MPa', conditional_remove, s='v')\n",
    "modify_col(df_all, 'R-value', conditional_remove, s='*')\n",
    "modify_col(df_all, 'R-value', conditional_replace, s1='static compression', s2='static')\n",
    "modify_col(df_all, 'Max. % Strain', conditional_remove, s='----')\n",
    "modify_col(df_all, 'Max. % Strain', remove_s, s='+')\n",
    "modify_col(df_all, 'Min. % Strain', conditional_remove, s='Runout')\n",
    "modify_col(df_all, 'E, GPa (0.1-0.3%)', conditional_remove, s='----')\n",
    "modify_col(df_all, 'E, GPa', remove_strs)\n",
    "modify_col(df_all, 'Initial cracking strain, %', remove_strs)\n",
    "modify_col(df_all, 'Runout', str2num, s='Runout',n=1)\n",
    "modify_col(df_all, 'Runout', str2num, s='runout',n=1)\n",
    "# modify_col(df_all, 'Testing Temperature, OC', fill_na, n=20)\n",
    "\n",
    "# These columns use NaN to represent absence of fibre in the direction, so simply fillna by 0.\n",
    "fill_na_col = ['%, 0 Deg', '%, 45 Deg','%, 90 Deg','other %','45 Deg fabric','90 deg fabric','Runout']\n",
    "tmp = df_all[fill_na_col].fillna(0)\n",
    "df_all.loc[:,fill_na_col] = tmp\n",
    "\n",
    "def merge_col(df, from_col, to_col):\n",
    "    if from_col in list(df.columns) and to_col in list(df.columns):\n",
    "        where = np.where(df[from_col].notna())[0]\n",
    "        df.loc[where, to_col] = df.loc[where, from_col]\n",
    "        del df[from_col]\n",
    "\n",
    "# These columns have different names in different sheets\n",
    "merge_col(df_all, 'E, GPa (0.1-0.3%)', 'E, GPa')\n",
    "merge_col(df_all, 'Freq., Hz or mm/s', 'Freq., Hz')\n",
    "\n",
    "# Some static experiments do not have R-value and cycles to failure are 1.\n",
    "df_all.loc[np.where(df_all['Cycles'] == 1)[0], 'R-value'] = 'static'"
   ]
  },
  {
   "cell_type": "markdown",
   "metadata": {
    "collapsed": false,
    "pycharm": {
     "name": "#%% md\n"
    }
   },
   "source": [
    "### Calculate missing Max/Min stress data using R-value"
   ]
  },
  {
   "cell_type": "code",
   "execution_count": 4,
   "outputs": [],
   "source": [
    "# If R>1, max stress must be negative\n",
    "where_R1 = []\n",
    "for idx,x in enumerate(df_all['R-value']):\n",
    "    if not isinstance(x,str) and x>1:\n",
    "        where_R1.append(idx)\n",
    "where_R1 = np.array(where_R1)\n",
    "df_all.loc[where_R1,'Max. Stress, MPa'] = -np.abs(df_all.loc[where_R1,'Max. Stress, MPa'])"
   ],
   "metadata": {
    "collapsed": false,
    "pycharm": {
     "name": "#%%\n"
    }
   }
  },
  {
   "cell_type": "code",
   "execution_count": 5,
   "metadata": {
    "collapsed": false,
    "pycharm": {
     "name": "#%%\n"
    }
   },
   "outputs": [],
   "source": [
    "static_indexes = np.where(df_all['R-value']=='static')[0]\n",
    "non_static_indexes = np.setdiff1d(df_all.index, static_indexes)\n",
    "miss_max_stress_indexes = np.where(np.isnan(df_all['Max. Stress, MPa']))[0]\n",
    "miss_min_stress_indexes = np.where(np.isnan(df_all['Min. Stress, MPa']))[0]\n",
    "miss_R_value_indexes = np.where(pd.isna(df_all['R-value']))[0]\n",
    "\n",
    "for idx in miss_max_stress_indexes:\n",
    "    if idx in non_static_indexes and type(df_all.loc[idx,'R-value'])!=str:\n",
    "        df_all.loc[idx,'Max. Stress, MPa'] = df_all.loc[idx,'Min. Stress, MPa']/df_all.loc[idx,'R-value']\n",
    "\n",
    "for idx in miss_min_stress_indexes:\n",
    "    if idx in non_static_indexes and type(df_all.loc[idx,'R-value'])!=str:\n",
    "        df_all.loc[idx,'Min. Stress, MPa'] = df_all.loc[idx,'Max. Stress, MPa']*df_all.loc[idx,'R-value']\n",
    "\n",
    "for idx in miss_R_value_indexes:\n",
    "    if idx in non_static_indexes:\n",
    "        df_all.loc[idx,'R-value'] = df_all.loc[idx,'Min. Stress, MPa']/df_all.loc[idx,'Max. Stress, MPa']"
   ]
  },
  {
   "cell_type": "code",
   "execution_count": 6,
   "outputs": [],
   "source": [
    "# Add material code\n",
    "material_code = [str(df_all.loc[x, 'Material']) + str(df_all.loc[x, 'Lay-up']) for x in range(len(df_all))]\n",
    "df_all['Material_Code'] = material_code"
   ],
   "metadata": {
    "collapsed": false,
    "pycharm": {
     "name": "#%%\n"
    }
   }
  },
  {
   "cell_type": "code",
   "execution_count": 7,
   "metadata": {
    "collapsed": false,
    "pycharm": {
     "name": "#%%\n"
    }
   },
   "outputs": [],
   "source": [
    "df_all.to_excel('../data/SNL_MSU_DOE_combine.xlsx', engine='openpyxl', index=False)"
   ]
  },
  {
   "cell_type": "markdown",
   "source": [
    "## Translate laminate code"
   ],
   "metadata": {
    "collapsed": false,
    "pycharm": {
     "name": "#%% md\n"
    }
   }
  },
  {
   "cell_type": "code",
   "execution_count": 8,
   "outputs": [],
   "source": [
    "if 'Lay-up' in df_all.columns:\n",
    "    code2seq_dict = {}\n",
    "    layups = df_all['Lay-up'].values\n",
    "    for layer in list(set(layups)):\n",
    "        code2seq_dict[layer] = code2seq(layer)\n",
    "    seq = []\n",
    "    for layer in layups:\n",
    "        seq.append('/'.join([str(x) for x in code2seq(layer)]))\n",
    "    df_all['Sequence'] = seq"
   ],
   "metadata": {
    "collapsed": false,
    "pycharm": {
     "name": "#%%\n"
    }
   }
  },
  {
   "cell_type": "markdown",
   "source": [
    "### Extract and save static and fatigue data respectively"
   ],
   "metadata": {
    "collapsed": false,
    "pycharm": {
     "name": "#%% md\n"
    }
   }
  },
  {
   "cell_type": "code",
   "execution_count": 9,
   "outputs": [
    {
     "name": "stderr",
     "output_type": "stream",
     "text": [
      "/home/xlluo/anaconda3/envs/mlfatigue/lib/python3.7/site-packages/ipykernel_launcher.py:16: RuntimeWarning: invalid value encountered in log10\n",
      "  \n"
     ]
    }
   ],
   "source": [
    "\n",
    "# hide_cols = ['Lay-up','Resin Type','Resin','0 Deg fabric','45 Deg fabric','90 deg fabric','Cure / Post Cure','Process','Test #','Coupon']\n",
    "\n",
    "df_tmp = df_all.copy()\n",
    "# for col in hide_cols:\n",
    "#     del df_tmp[col]\n",
    "\n",
    "df_static = df_tmp.loc[static_indexes].copy()\n",
    "df_fatigue = df_tmp.loc[non_static_indexes].copy()\n",
    "\n",
    "df_static.reset_index(drop=True, inplace=True)\n",
    "df_fatigue.reset_index(drop=True, inplace=True)\n",
    "\n",
    "modify_col(df_fatigue, 'Freq., Hz', conditional_remove, s='mm/s')\n",
    "\n",
    "# df_fatigue.to_excel('../data/SNL_MSU_DOE_fatigue.xlsx', engine='openpyxl', index=False)\n",
    "df_static['log(Static Maximum Tensile Stress)'] = np.log10(df_static['Max. Stress, MPa'].values.astype(float))\n",
    "replace_column_name(df_static, name_mapping).to_excel('../data/SNL_MSU_DOE_static.xlsx', engine='openpyxl', index=False)"
   ],
   "metadata": {
    "collapsed": false,
    "pycharm": {
     "name": "#%%\n"
    }
   }
  },
  {
   "cell_type": "markdown",
   "source": [
    "### Extract material properties from static experiments"
   ],
   "metadata": {
    "collapsed": false,
    "pycharm": {
     "name": "#%% md\n"
    }
   }
  },
  {
   "cell_type": "code",
   "execution_count": 10,
   "outputs": [],
   "source": [
    "static_mat_lay = df_static['Material_Code'].copy()\n",
    "static_properties = {}\n",
    "\n",
    "static_features = ['Max. Stress, MPa', 'Min. Stress, MPa', 'E, GPa', 'Max. % Strain', 'Min. % Strain']\n",
    "\n",
    "for material in list(set(static_mat_lay)):\n",
    "    where_material = np.where(static_mat_lay == material)[0]\n",
    "    # print(material, len(where_material))\n",
    "    material_data = df_static.loc[where_material, static_features].copy()\n",
    "    material_data.reset_index(drop=True, inplace=True)\n",
    "    material_df = {}\n",
    "    for feature in static_features:\n",
    "        for idx in range(len(material_data[feature])):\n",
    "            if type(material_data.loc[idx, feature]) == str:\n",
    "                material_data.loc[idx, feature] = np.nan\n",
    "\n",
    "        presence_indexes = np.where(material_data[feature])[0]\n",
    "        mean_value = np.mean(material_data.loc[presence_indexes, feature])\n",
    "        material_df[feature] = mean_value\n",
    "\n",
    "    material_df = pd.DataFrame(material_df, index=[0])\n",
    "    static_properties[material]=material_df\n",
    "\n",
    "fatigue_static_features = ['Static '+x for x in static_features]\n",
    "\n",
    "fatigue_mat_lay = df_fatigue['Material_Code'].copy()\n",
    "\n",
    "df_fatigue[fatigue_static_features] = np.nan\n",
    "\n",
    "for material in list(set(static_mat_lay)):\n",
    "    where_material = np.where(fatigue_mat_lay == material)[0]\n",
    "    if len(where_material) > 0:\n",
    "        static_property = static_properties[material]\n",
    "        for feature in static_features:\n",
    "            df_fatigue.loc[where_material,'Static '+feature] = static_property[feature].values[0]\n"
   ],
   "metadata": {
    "collapsed": false,
    "pycharm": {
     "name": "#%%\n"
    }
   }
  },
  {
   "cell_type": "code",
   "execution_count": 11,
   "outputs": [],
   "source": [
    "# Remove runout tests\n",
    "df_fatigue = df_fatigue.loc[np.where(df_fatigue['Runout'] == 0)[0],:].copy()\n",
    "df_fatigue.reset_index(drop=True, inplace=True)"
   ],
   "metadata": {
    "collapsed": false,
    "pycharm": {
     "name": "#%%\n"
    }
   }
  },
  {
   "cell_type": "code",
   "execution_count": 12,
   "outputs": [],
   "source": [
    "df_fatigue.loc[np.where(df_fatigue['Static Max. Stress, MPa']<0)[0],'Static Max. Stress, MPa'] = np.nan\n",
    "df_fatigue.loc[np.where(df_fatigue['Static Min. Stress, MPa']>0)[0],'Static Min. Stress, MPa'] = np.nan\n",
    "df_fatigue.loc[np.where(df_fatigue['Static Max. % Strain']<0)[0],'Static Max. % Strain'] = np.nan\n",
    "df_fatigue.loc[np.where(df_fatigue['Static Min. % Strain']>0)[0],'Static Min. % Strain'] = np.nan\n",
    "\n",
    "df_fatigue = replace_column_name(df_fatigue, name_mapping)"
   ],
   "metadata": {
    "collapsed": false,
    "pycharm": {
     "name": "#%%\n"
    }
   }
  },
  {
   "cell_type": "code",
   "execution_count": 13,
   "outputs": [],
   "source": [
    "df_fatigue['log(Cycles to Failure)'] = np.log10(df_fatigue['Cycles to Failure'].values.astype(float))"
   ],
   "metadata": {
    "collapsed": false,
    "pycharm": {
     "name": "#%%\n"
    }
   }
  },
  {
   "cell_type": "markdown",
   "source": [
    "## Averaging"
   ],
   "metadata": {
    "collapsed": false,
    "pycharm": {
     "name": "#%% md\n"
    }
   }
  },
  {
   "cell_type": "code",
   "execution_count": 14,
   "outputs": [
    {
     "data": {
      "text/plain": "  0%|          | 0/267 [00:00<?, ?it/s]",
      "application/vnd.jupyter.widget-view+json": {
       "version_major": 2,
       "version_minor": 0,
       "model_id": "2250869bea5641c785ecdd534c5067d9"
      }
     },
     "metadata": {},
     "output_type": "display_data"
    },
    {
     "data": {
      "text/plain": "  0%|          | 0/375 [00:00<?, ?it/s]",
      "application/vnd.jupyter.widget-view+json": {
       "version_major": 2,
       "version_minor": 0,
       "model_id": "92089dfed1244a1d8336fd62f69d5616"
      }
     },
     "metadata": {},
     "output_type": "display_data"
    }
   ],
   "source": [
    "df_static = replace_column_name(df_static, name_mapping)\n",
    "averaging(df_fatigue, measure_features=['Maximum Stress', 'Minimum Stress', 'Frequency']).to_excel('../data/SNL_MSU_DOE_avg_fatigue.xlsx', engine='openpyxl', index=False)\n",
    "averaging(df_static, measure_features=['Cycles to Failure']).to_excel('../data/SNL_MSU_DOE_avg_static.xlsx', engine='openpyxl', index=False)"
   ],
   "metadata": {
    "collapsed": false,
    "pycharm": {
     "name": "#%%\n"
    }
   }
  },
  {
   "cell_type": "code",
   "execution_count": 15,
   "outputs": [],
   "source": [
    "df_fatigue.to_excel('../data/SNL_MSU_DOE_fatigue.xlsx', engine='openpyxl', index=False)"
   ],
   "metadata": {
    "collapsed": false,
    "pycharm": {
     "name": "#%%\n"
    }
   }
  },
  {
   "cell_type": "markdown",
   "metadata": {
    "collapsed": false,
    "pycharm": {
     "name": "#%% md\n"
    }
   },
   "source": [
    "### Calculate and plot absence ratios"
   ]
  },
  {
   "cell_type": "code",
   "execution_count": 16,
   "metadata": {
    "collapsed": false,
    "pycharm": {
     "name": "#%%\n"
    }
   },
   "outputs": [],
   "source": [
    "plot_absence(df_fatigue, name_mapping, '../data/SNL_MSU_DOE_absence_ratio.png', fontsize=12)"
   ]
  },
  {
   "cell_type": "code",
   "execution_count": 17,
   "metadata": {
    "pycharm": {
     "name": "#%%\n"
    }
   },
   "outputs": [],
   "source": [
    "plot_absence(df_static, name_mapping, '../data/SNL_MSU_DOE_static_absence_ratio.png', fontsize=12)"
   ]
  },
  {
   "cell_type": "code",
   "execution_count": 17,
   "metadata": {
    "pycharm": {
     "name": "#%%\n"
    }
   },
   "outputs": [],
   "source": []
  }
 ],
 "metadata": {
  "kernelspec": {
   "display_name": "Python 3.6.9 ('venv': venv)",
   "language": "python",
   "name": "python3"
  },
  "language_info": {
   "codemirror_mode": {
    "name": "ipython",
    "version": 3
   },
   "file_extension": ".py",
   "mimetype": "text/x-python",
   "name": "python",
   "nbconvert_exporter": "python",
   "pygments_lexer": "ipython3",
   "version": "3.6.9"
  },
  "orig_nbformat": 4,
  "vscode": {
   "interpreter": {
    "hash": "f15373116f3f1333770e7ecbd767398a2d7ae8734f1a603bc2fc87ae52980838"
   }
  }
 },
 "nbformat": 4,
 "nbformat_minor": 2
}